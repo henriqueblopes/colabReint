{
  "cells": [
    {
      "cell_type": "markdown",
      "id": "2f58ab90-595d-4d9e-91ab-eea290d8fd3a",
      "metadata": {
        "id": "2f58ab90-595d-4d9e-91ab-eea290d8fd3a"
      },
      "source": [
        "<font face=\"Arial\" size=\"8\"> Machine Learning para Predições de Saúde</font><br><br>\n",
        "<font face=\"Arial\" size=\"5\"> Baseado no Colab de prof. Alexandre Chiavegatto Filho - Faculdade de Saúde Pública da USP e profa. Carine Savalli Redigolo - UNIFESP disponibilizado no 12º Congresso Brasileiro de Epidemiologia </font> <br>\n",
        "<font face=\"Arial\" size=\"5\">  </font>"
      ]
    },
    {
      "cell_type": "markdown",
      "id": "nqj7uFzupRtx",
      "metadata": {
        "id": "nqj7uFzupRtx"
      },
      "source": []
    },
    {
      "cell_type": "markdown",
      "id": "1cef7fbe",
      "metadata": {
        "id": "1cef7fbe"
      },
      "source": [
        "<font face=\"Arial\" size=\"4\"> <br>\n",
        "<b>Objetivo</b>: Predizer a reinternação de um indivíduo por causa de asma <br>\n",
        "<b>População alvo</b>: Pacientes com asma avaliados no baseline quanto a dados demográficos, clínicos, sintomas e capacidade pulmonar <br><br>\n",
        "<b>Desfecho</b>: Reinternação do paciente por asma (Sim/Não) <br>\n",
        "<b>Possíveis Preditores</b>: </font><br><br>\n",
        "\n",
        "<font face=\"Arial\" size=\"4\"><b>Etapas de Análise</b>:</font>\n",
        "<font face=\"Arial\" size=\"4\"> <br> - Instalação de pacotes adicionais <br> - Importação de bibliotecas e pacotes\n",
        "<br> - Leitura do conjunto de dados\n",
        "<br> - Preparação do conjunto de dados (pré-processamento)\n",
        "<br> - Execução dos algoritmos de machine learning"
      ]
    },
    {
      "cell_type": "markdown",
      "id": "8c061df8-c0c0-41fb-bc9e-302a14452519",
      "metadata": {
        "id": "8c061df8-c0c0-41fb-bc9e-302a14452519"
      },
      "source": [
        "### Instalação de pacotes e importação de bibliotecas"
      ]
    },
    {
      "cell_type": "code",
      "execution_count": 1,
      "id": "a37a37a2",
      "metadata": {
        "id": "a37a37a2"
      },
      "outputs": [],
      "source": [
        "import pandas as pd\n",
        "import numpy as np\n",
        "import matplotlib.pyplot as plt\n",
        "import seaborn as sns\n",
        "\n",
        "import warnings\n",
        "warnings.filterwarnings(\"ignore\")"
      ]
    },
    {
      "cell_type": "markdown",
      "id": "ce9b39c6-1501-48e1-9187-13cdb404476e",
      "metadata": {
        "id": "ce9b39c6-1501-48e1-9187-13cdb404476e"
      },
      "source": [
        "### Leitura do banco de dados - df"
      ]
    },
    {
      "cell_type": "code",
      "execution_count": 2,
      "id": "f319029d-7636-483d-a893-62070e3fc9a0",
      "metadata": {
        "id": "f319029d-7636-483d-a893-62070e3fc9a0"
      },
      "outputs": [],
      "source": [
        "#df = pd.read_csv('https://raw.githubusercontent.com/carinesavalli/cong_epidemio24/main/ASMA2.csv', delimiter=\";\", encoding='latin1')\n",
        "#df = pd.read_csv('int_pred.csv', delimiter=\",\", encoding='latin1')\n",
        "df = pd.read_csv('banco_pct_pronto.csv', delimiter=\",\", encoding='latin1')\n"
      ]
    },
    {
      "cell_type": "markdown",
      "id": "e9b343b5-8811-4857-a3da-c5e2fd34dba6",
      "metadata": {
        "id": "e9b343b5-8811-4857-a3da-c5e2fd34dba6"
      },
      "source": [
        "#### Verificar número de pacientes (linhas) e número de variáveis (colunas)"
      ]
    },
    {
      "cell_type": "markdown",
      "id": "3f2e182d-4f6d-4331-a596-15cec8c567d8",
      "metadata": {
        "id": "3f2e182d-4f6d-4331-a596-15cec8c567d8"
      },
      "source": [
        "#### Verificar quais as colunas, número de observações não-nulas e tipo das variáveis"
      ]
    },
    {
      "cell_type": "code",
      "execution_count": 3,
      "id": "bLBoYLJ8iJyN",
      "metadata": {
        "id": "bLBoYLJ8iJyN"
      },
      "outputs": [],
      "source": [
        "df.drop(columns=[\"ap_munpcn\"], inplace=True)\n",
        "df.drop(columns=[\"pa_dtnasc_recode\"], inplace=True)\n",
        "df.drop(columns=[\"ap_racacor\"], inplace=True)\n",
        "df.drop(columns=[\"dt_obito\"], inplace=True)\n",
        "df.drop(columns=[\"causabas\"], inplace=True)\n",
        "df.drop(columns=[\"obito\"], inplace=True)\n",
        "df.drop(columns=[\"qt_obito\"], inplace=True)\n",
        "df.drop(columns=[\"obito_internacao\"], inplace=True)\n",
        "df.drop(columns=[\"dt_proc_min\"], inplace=True) #colocar depois\n",
        "df.drop(columns=[\"proc_min\"], inplace=True)\n",
        "df.drop(columns=[\"f_organiz_min\"], inplace=True)\n",
        "df.drop(columns=[\"dt_proc_max\"], inplace=True)\n",
        "df.drop(columns=[\"saida_max\"], inplace=True)\n",
        "df.drop(columns=[\"proc_max\"], inplace=True)\n",
        "df.drop(columns=[\"f_organiz_max\"], inplace=True)\n",
        "df.drop(columns=[\"cidpri_max\"], inplace=True)\n",
        "df.drop(columns=[\"tempo_coorte\"], inplace=True)\n",
        "df.drop(columns=[\"uf\"], inplace=True)\n",
        "df.drop(columns=[\"uf_rec\"], inplace=True)\n",
        "df.drop(columns=[\"prin_csap_reint\"], inplace=True)\n",
        "df.drop(columns=[\"n_int\"], inplace=True) #colocar depois\n",
        "df.drop(columns=[\"ano\"], inplace=True)\n",
        "df.drop(columns=[\"qt_aih\"], inplace=True)\n",
        "df.drop(columns=[\"num_idade\"], inplace=True)\n",
        "df.drop(columns=[\"cidpri_min\"], inplace=True)\n",
        "df.drop(columns=[\"n_reint\"], inplace=True)\n",
        "df.drop(columns=[\"div_idade\"], inplace=True)\n",
        "#df.drop(columns=[\"num_idade_dias\"], inplace=True)\n",
        "#df.drop(columns=[\"dias_int1\"], inplace=True)\n",
        "df.drop(columns=[\"div_idade2_recode\"], inplace=True)\n",
        "df.drop(columns=[\"car_int\"], inplace=True)\n",
        "df.drop(columns=[\"Tipologia\"], inplace=True)\n",
        "df.drop(columns=[\"Tipologia_rec\"], inplace=True)\n",
        "df.drop(columns=[\"reintgrupo\"], inplace=True)\n",
        "df.drop(columns=[\"n_reintgrupo\"], inplace=True)\n",
        "df.drop(columns=[\"aux_grupos\"], inplace=True)\n",
        "df.drop(columns=[\"n_reint_recode\"], inplace=True)\n",
        "# df.drop(columns=[\"natureza\"], inplace=True)\n",
        "# df.drop(columns=[\"ap_sexo\"], inplace=True)\n",
        "# df.drop(columns=[\"regiao\"], inplace=True)\n",
        "# df.drop(columns=[\"diag_cat\"], inplace=True)\n",
        "df.drop(columns=[\"div_idade2\"], inplace=True)\n",
        "# df.drop(columns=[\"status_resi\"], inplace=True)\n",
        "\n"
      ]
    },
    {
      "cell_type": "markdown",
      "id": "31f2d22d-da6a-4766-b068-8e94b8435eb1",
      "metadata": {
        "id": "31f2d22d-da6a-4766-b068-8e94b8435eb1"
      },
      "source": [
        "#### Imprimir as 10 primeiras linhas"
      ]
    },
    {
      "cell_type": "code",
      "execution_count": 4,
      "id": "4c3734ce-6957-435f-bff3-a8b92771e790",
      "metadata": {
        "colab": {
          "base_uri": "https://localhost:8080/",
          "height": 363
        },
        "id": "4c3734ce-6957-435f-bff3-a8b92771e790",
        "outputId": "5b54e9b6-0890-4fab-b4c7-96aec48bf7ea"
      },
      "outputs": [
        {
          "output_type": "execute_result",
          "data": {
            "text/plain": [
              "    id_cluster        X ap_sexo  reint regiao  diag_cat  num_idade_dias  \\\n",
              "0  413848170.0   646237       F      0  Norte         5             316   \n",
              "1  831195110.0  1296493       M      0  Norte         8             529   \n",
              "2  760991290.0  1187144       F      0  Norte         2             241   \n",
              "3  746368730.0  1164545       F      0  Norte         2             432   \n",
              "4  388064100.0   606119       M      0  Norte         5             743   \n",
              "5  926771150.0  1445207       F      0  Norte         2             753   \n",
              "6   20277900.0    31426       F      0  Norte         2             672   \n",
              "7  600893411.0   937801       M      0  Norte         2             122   \n",
              "8  727728731.0  1135767       M      0  Norte         2             515   \n",
              "9  967394710.0  1508988       F      0  Norte         2            1770   \n",
              "\n",
              "   dias_int1 natureza status_resi  \n",
              "0        2.0  P?blico    nao-resi  \n",
              "1        2.0  P?blico        resi  \n",
              "2        2.0  P?blico        resi  \n",
              "3        2.0  P?blico        resi  \n",
              "4        2.0  P?blico        resi  \n",
              "5        2.0  P?blico        resi  \n",
              "6        2.0  P?blico        resi  \n",
              "7        2.0  P?blico        resi  \n",
              "8        2.0  P?blico        resi  \n",
              "9        2.0  P?blico        resi  "
            ],
            "text/html": [
              "\n",
              "  <div id=\"df-bc295773-ea25-418f-8333-6a192dfd4dd8\" class=\"colab-df-container\">\n",
              "    <div>\n",
              "<style scoped>\n",
              "    .dataframe tbody tr th:only-of-type {\n",
              "        vertical-align: middle;\n",
              "    }\n",
              "\n",
              "    .dataframe tbody tr th {\n",
              "        vertical-align: top;\n",
              "    }\n",
              "\n",
              "    .dataframe thead th {\n",
              "        text-align: right;\n",
              "    }\n",
              "</style>\n",
              "<table border=\"1\" class=\"dataframe\">\n",
              "  <thead>\n",
              "    <tr style=\"text-align: right;\">\n",
              "      <th></th>\n",
              "      <th>id_cluster</th>\n",
              "      <th>X</th>\n",
              "      <th>ap_sexo</th>\n",
              "      <th>reint</th>\n",
              "      <th>regiao</th>\n",
              "      <th>diag_cat</th>\n",
              "      <th>num_idade_dias</th>\n",
              "      <th>dias_int1</th>\n",
              "      <th>natureza</th>\n",
              "      <th>status_resi</th>\n",
              "    </tr>\n",
              "  </thead>\n",
              "  <tbody>\n",
              "    <tr>\n",
              "      <th>0</th>\n",
              "      <td>413848170.0</td>\n",
              "      <td>646237</td>\n",
              "      <td>F</td>\n",
              "      <td>0</td>\n",
              "      <td>Norte</td>\n",
              "      <td>5</td>\n",
              "      <td>316</td>\n",
              "      <td>2.0</td>\n",
              "      <td>P?blico</td>\n",
              "      <td>nao-resi</td>\n",
              "    </tr>\n",
              "    <tr>\n",
              "      <th>1</th>\n",
              "      <td>831195110.0</td>\n",
              "      <td>1296493</td>\n",
              "      <td>M</td>\n",
              "      <td>0</td>\n",
              "      <td>Norte</td>\n",
              "      <td>8</td>\n",
              "      <td>529</td>\n",
              "      <td>2.0</td>\n",
              "      <td>P?blico</td>\n",
              "      <td>resi</td>\n",
              "    </tr>\n",
              "    <tr>\n",
              "      <th>2</th>\n",
              "      <td>760991290.0</td>\n",
              "      <td>1187144</td>\n",
              "      <td>F</td>\n",
              "      <td>0</td>\n",
              "      <td>Norte</td>\n",
              "      <td>2</td>\n",
              "      <td>241</td>\n",
              "      <td>2.0</td>\n",
              "      <td>P?blico</td>\n",
              "      <td>resi</td>\n",
              "    </tr>\n",
              "    <tr>\n",
              "      <th>3</th>\n",
              "      <td>746368730.0</td>\n",
              "      <td>1164545</td>\n",
              "      <td>F</td>\n",
              "      <td>0</td>\n",
              "      <td>Norte</td>\n",
              "      <td>2</td>\n",
              "      <td>432</td>\n",
              "      <td>2.0</td>\n",
              "      <td>P?blico</td>\n",
              "      <td>resi</td>\n",
              "    </tr>\n",
              "    <tr>\n",
              "      <th>4</th>\n",
              "      <td>388064100.0</td>\n",
              "      <td>606119</td>\n",
              "      <td>M</td>\n",
              "      <td>0</td>\n",
              "      <td>Norte</td>\n",
              "      <td>5</td>\n",
              "      <td>743</td>\n",
              "      <td>2.0</td>\n",
              "      <td>P?blico</td>\n",
              "      <td>resi</td>\n",
              "    </tr>\n",
              "    <tr>\n",
              "      <th>5</th>\n",
              "      <td>926771150.0</td>\n",
              "      <td>1445207</td>\n",
              "      <td>F</td>\n",
              "      <td>0</td>\n",
              "      <td>Norte</td>\n",
              "      <td>2</td>\n",
              "      <td>753</td>\n",
              "      <td>2.0</td>\n",
              "      <td>P?blico</td>\n",
              "      <td>resi</td>\n",
              "    </tr>\n",
              "    <tr>\n",
              "      <th>6</th>\n",
              "      <td>20277900.0</td>\n",
              "      <td>31426</td>\n",
              "      <td>F</td>\n",
              "      <td>0</td>\n",
              "      <td>Norte</td>\n",
              "      <td>2</td>\n",
              "      <td>672</td>\n",
              "      <td>2.0</td>\n",
              "      <td>P?blico</td>\n",
              "      <td>resi</td>\n",
              "    </tr>\n",
              "    <tr>\n",
              "      <th>7</th>\n",
              "      <td>600893411.0</td>\n",
              "      <td>937801</td>\n",
              "      <td>M</td>\n",
              "      <td>0</td>\n",
              "      <td>Norte</td>\n",
              "      <td>2</td>\n",
              "      <td>122</td>\n",
              "      <td>2.0</td>\n",
              "      <td>P?blico</td>\n",
              "      <td>resi</td>\n",
              "    </tr>\n",
              "    <tr>\n",
              "      <th>8</th>\n",
              "      <td>727728731.0</td>\n",
              "      <td>1135767</td>\n",
              "      <td>M</td>\n",
              "      <td>0</td>\n",
              "      <td>Norte</td>\n",
              "      <td>2</td>\n",
              "      <td>515</td>\n",
              "      <td>2.0</td>\n",
              "      <td>P?blico</td>\n",
              "      <td>resi</td>\n",
              "    </tr>\n",
              "    <tr>\n",
              "      <th>9</th>\n",
              "      <td>967394710.0</td>\n",
              "      <td>1508988</td>\n",
              "      <td>F</td>\n",
              "      <td>0</td>\n",
              "      <td>Norte</td>\n",
              "      <td>2</td>\n",
              "      <td>1770</td>\n",
              "      <td>2.0</td>\n",
              "      <td>P?blico</td>\n",
              "      <td>resi</td>\n",
              "    </tr>\n",
              "  </tbody>\n",
              "</table>\n",
              "</div>\n",
              "    <div class=\"colab-df-buttons\">\n",
              "\n",
              "  <div class=\"colab-df-container\">\n",
              "    <button class=\"colab-df-convert\" onclick=\"convertToInteractive('df-bc295773-ea25-418f-8333-6a192dfd4dd8')\"\n",
              "            title=\"Convert this dataframe to an interactive table.\"\n",
              "            style=\"display:none;\">\n",
              "\n",
              "  <svg xmlns=\"http://www.w3.org/2000/svg\" height=\"24px\" viewBox=\"0 -960 960 960\">\n",
              "    <path d=\"M120-120v-720h720v720H120Zm60-500h600v-160H180v160Zm220 220h160v-160H400v160Zm0 220h160v-160H400v160ZM180-400h160v-160H180v160Zm440 0h160v-160H620v160ZM180-180h160v-160H180v160Zm440 0h160v-160H620v160Z\"/>\n",
              "  </svg>\n",
              "    </button>\n",
              "\n",
              "  <style>\n",
              "    .colab-df-container {\n",
              "      display:flex;\n",
              "      gap: 12px;\n",
              "    }\n",
              "\n",
              "    .colab-df-convert {\n",
              "      background-color: #E8F0FE;\n",
              "      border: none;\n",
              "      border-radius: 50%;\n",
              "      cursor: pointer;\n",
              "      display: none;\n",
              "      fill: #1967D2;\n",
              "      height: 32px;\n",
              "      padding: 0 0 0 0;\n",
              "      width: 32px;\n",
              "    }\n",
              "\n",
              "    .colab-df-convert:hover {\n",
              "      background-color: #E2EBFA;\n",
              "      box-shadow: 0px 1px 2px rgba(60, 64, 67, 0.3), 0px 1px 3px 1px rgba(60, 64, 67, 0.15);\n",
              "      fill: #174EA6;\n",
              "    }\n",
              "\n",
              "    .colab-df-buttons div {\n",
              "      margin-bottom: 4px;\n",
              "    }\n",
              "\n",
              "    [theme=dark] .colab-df-convert {\n",
              "      background-color: #3B4455;\n",
              "      fill: #D2E3FC;\n",
              "    }\n",
              "\n",
              "    [theme=dark] .colab-df-convert:hover {\n",
              "      background-color: #434B5C;\n",
              "      box-shadow: 0px 1px 3px 1px rgba(0, 0, 0, 0.15);\n",
              "      filter: drop-shadow(0px 1px 2px rgba(0, 0, 0, 0.3));\n",
              "      fill: #FFFFFF;\n",
              "    }\n",
              "  </style>\n",
              "\n",
              "    <script>\n",
              "      const buttonEl =\n",
              "        document.querySelector('#df-bc295773-ea25-418f-8333-6a192dfd4dd8 button.colab-df-convert');\n",
              "      buttonEl.style.display =\n",
              "        google.colab.kernel.accessAllowed ? 'block' : 'none';\n",
              "\n",
              "      async function convertToInteractive(key) {\n",
              "        const element = document.querySelector('#df-bc295773-ea25-418f-8333-6a192dfd4dd8');\n",
              "        const dataTable =\n",
              "          await google.colab.kernel.invokeFunction('convertToInteractive',\n",
              "                                                    [key], {});\n",
              "        if (!dataTable) return;\n",
              "\n",
              "        const docLinkHtml = 'Like what you see? Visit the ' +\n",
              "          '<a target=\"_blank\" href=https://colab.research.google.com/notebooks/data_table.ipynb>data table notebook</a>'\n",
              "          + ' to learn more about interactive tables.';\n",
              "        element.innerHTML = '';\n",
              "        dataTable['output_type'] = 'display_data';\n",
              "        await google.colab.output.renderOutput(dataTable, element);\n",
              "        const docLink = document.createElement('div');\n",
              "        docLink.innerHTML = docLinkHtml;\n",
              "        element.appendChild(docLink);\n",
              "      }\n",
              "    </script>\n",
              "  </div>\n",
              "\n",
              "\n",
              "    <div id=\"df-6ea804f2-f3d6-4329-ab12-9009af54a78c\">\n",
              "      <button class=\"colab-df-quickchart\" onclick=\"quickchart('df-6ea804f2-f3d6-4329-ab12-9009af54a78c')\"\n",
              "                title=\"Suggest charts\"\n",
              "                style=\"display:none;\">\n",
              "\n",
              "<svg xmlns=\"http://www.w3.org/2000/svg\" height=\"24px\"viewBox=\"0 0 24 24\"\n",
              "     width=\"24px\">\n",
              "    <g>\n",
              "        <path d=\"M19 3H5c-1.1 0-2 .9-2 2v14c0 1.1.9 2 2 2h14c1.1 0 2-.9 2-2V5c0-1.1-.9-2-2-2zM9 17H7v-7h2v7zm4 0h-2V7h2v10zm4 0h-2v-4h2v4z\"/>\n",
              "    </g>\n",
              "</svg>\n",
              "      </button>\n",
              "\n",
              "<style>\n",
              "  .colab-df-quickchart {\n",
              "      --bg-color: #E8F0FE;\n",
              "      --fill-color: #1967D2;\n",
              "      --hover-bg-color: #E2EBFA;\n",
              "      --hover-fill-color: #174EA6;\n",
              "      --disabled-fill-color: #AAA;\n",
              "      --disabled-bg-color: #DDD;\n",
              "  }\n",
              "\n",
              "  [theme=dark] .colab-df-quickchart {\n",
              "      --bg-color: #3B4455;\n",
              "      --fill-color: #D2E3FC;\n",
              "      --hover-bg-color: #434B5C;\n",
              "      --hover-fill-color: #FFFFFF;\n",
              "      --disabled-bg-color: #3B4455;\n",
              "      --disabled-fill-color: #666;\n",
              "  }\n",
              "\n",
              "  .colab-df-quickchart {\n",
              "    background-color: var(--bg-color);\n",
              "    border: none;\n",
              "    border-radius: 50%;\n",
              "    cursor: pointer;\n",
              "    display: none;\n",
              "    fill: var(--fill-color);\n",
              "    height: 32px;\n",
              "    padding: 0;\n",
              "    width: 32px;\n",
              "  }\n",
              "\n",
              "  .colab-df-quickchart:hover {\n",
              "    background-color: var(--hover-bg-color);\n",
              "    box-shadow: 0 1px 2px rgba(60, 64, 67, 0.3), 0 1px 3px 1px rgba(60, 64, 67, 0.15);\n",
              "    fill: var(--button-hover-fill-color);\n",
              "  }\n",
              "\n",
              "  .colab-df-quickchart-complete:disabled,\n",
              "  .colab-df-quickchart-complete:disabled:hover {\n",
              "    background-color: var(--disabled-bg-color);\n",
              "    fill: var(--disabled-fill-color);\n",
              "    box-shadow: none;\n",
              "  }\n",
              "\n",
              "  .colab-df-spinner {\n",
              "    border: 2px solid var(--fill-color);\n",
              "    border-color: transparent;\n",
              "    border-bottom-color: var(--fill-color);\n",
              "    animation:\n",
              "      spin 1s steps(1) infinite;\n",
              "  }\n",
              "\n",
              "  @keyframes spin {\n",
              "    0% {\n",
              "      border-color: transparent;\n",
              "      border-bottom-color: var(--fill-color);\n",
              "      border-left-color: var(--fill-color);\n",
              "    }\n",
              "    20% {\n",
              "      border-color: transparent;\n",
              "      border-left-color: var(--fill-color);\n",
              "      border-top-color: var(--fill-color);\n",
              "    }\n",
              "    30% {\n",
              "      border-color: transparent;\n",
              "      border-left-color: var(--fill-color);\n",
              "      border-top-color: var(--fill-color);\n",
              "      border-right-color: var(--fill-color);\n",
              "    }\n",
              "    40% {\n",
              "      border-color: transparent;\n",
              "      border-right-color: var(--fill-color);\n",
              "      border-top-color: var(--fill-color);\n",
              "    }\n",
              "    60% {\n",
              "      border-color: transparent;\n",
              "      border-right-color: var(--fill-color);\n",
              "    }\n",
              "    80% {\n",
              "      border-color: transparent;\n",
              "      border-right-color: var(--fill-color);\n",
              "      border-bottom-color: var(--fill-color);\n",
              "    }\n",
              "    90% {\n",
              "      border-color: transparent;\n",
              "      border-bottom-color: var(--fill-color);\n",
              "    }\n",
              "  }\n",
              "</style>\n",
              "\n",
              "      <script>\n",
              "        async function quickchart(key) {\n",
              "          const quickchartButtonEl =\n",
              "            document.querySelector('#' + key + ' button');\n",
              "          quickchartButtonEl.disabled = true;  // To prevent multiple clicks.\n",
              "          quickchartButtonEl.classList.add('colab-df-spinner');\n",
              "          try {\n",
              "            const charts = await google.colab.kernel.invokeFunction(\n",
              "                'suggestCharts', [key], {});\n",
              "          } catch (error) {\n",
              "            console.error('Error during call to suggestCharts:', error);\n",
              "          }\n",
              "          quickchartButtonEl.classList.remove('colab-df-spinner');\n",
              "          quickchartButtonEl.classList.add('colab-df-quickchart-complete');\n",
              "        }\n",
              "        (() => {\n",
              "          let quickchartButtonEl =\n",
              "            document.querySelector('#df-6ea804f2-f3d6-4329-ab12-9009af54a78c button');\n",
              "          quickchartButtonEl.style.display =\n",
              "            google.colab.kernel.accessAllowed ? 'block' : 'none';\n",
              "        })();\n",
              "      </script>\n",
              "    </div>\n",
              "\n",
              "    </div>\n",
              "  </div>\n"
            ],
            "application/vnd.google.colaboratory.intrinsic+json": {
              "type": "dataframe",
              "variable_name": "df"
            }
          },
          "metadata": {},
          "execution_count": 4
        }
      ],
      "source": [
        "df.head(10)"
      ]
    },
    {
      "cell_type": "code",
      "source": [
        "df = df.loc[(df['diag_cat'] == 7)]\n",
        "df.drop(columns=[\"diag_cat\"], inplace=True)"
      ],
      "metadata": {
        "id": "ibSoqkzfTYoU"
      },
      "id": "ibSoqkzfTYoU",
      "execution_count": 5,
      "outputs": []
    },
    {
      "cell_type": "markdown",
      "id": "efaaa197-558e-4bb8-9cda-df7bfec771f9",
      "metadata": {
        "id": "efaaa197-558e-4bb8-9cda-df7bfec771f9"
      },
      "source": [
        "#### Reinternação - DESFECHO"
      ]
    },
    {
      "cell_type": "code",
      "execution_count": 6,
      "id": "db728670-9a85-4ef7-8c53-b24cef3cf194",
      "metadata": {
        "colab": {
          "base_uri": "https://localhost:8080/",
          "height": 178
        },
        "id": "db728670-9a85-4ef7-8c53-b24cef3cf194",
        "outputId": "382e67e9-16d0-4c1d-e819-2701581322d6"
      },
      "outputs": [
        {
          "output_type": "execute_result",
          "data": {
            "text/plain": [
              "reint\n",
              "0    129242\n",
              "1     23234\n",
              "Name: count, dtype: int64"
            ],
            "text/html": [
              "<div>\n",
              "<style scoped>\n",
              "    .dataframe tbody tr th:only-of-type {\n",
              "        vertical-align: middle;\n",
              "    }\n",
              "\n",
              "    .dataframe tbody tr th {\n",
              "        vertical-align: top;\n",
              "    }\n",
              "\n",
              "    .dataframe thead th {\n",
              "        text-align: right;\n",
              "    }\n",
              "</style>\n",
              "<table border=\"1\" class=\"dataframe\">\n",
              "  <thead>\n",
              "    <tr style=\"text-align: right;\">\n",
              "      <th></th>\n",
              "      <th>count</th>\n",
              "    </tr>\n",
              "    <tr>\n",
              "      <th>reint</th>\n",
              "      <th></th>\n",
              "    </tr>\n",
              "  </thead>\n",
              "  <tbody>\n",
              "    <tr>\n",
              "      <th>0</th>\n",
              "      <td>129242</td>\n",
              "    </tr>\n",
              "    <tr>\n",
              "      <th>1</th>\n",
              "      <td>23234</td>\n",
              "    </tr>\n",
              "  </tbody>\n",
              "</table>\n",
              "</div><br><label><b>dtype:</b> int64</label>"
            ]
          },
          "metadata": {},
          "execution_count": 6
        }
      ],
      "source": [
        "df['reint'].value_counts()"
      ]
    },
    {
      "cell_type": "markdown",
      "id": "a2bd8c84-7837-4524-bee7-ec162d876861",
      "metadata": {
        "id": "a2bd8c84-7837-4524-bee7-ec162d876861"
      },
      "source": [
        "#### Analisar se tem missings no banco de dados"
      ]
    },
    {
      "cell_type": "code",
      "execution_count": 7,
      "id": "99862be5-c983-44ea-a7c8-67baf3e18a5f",
      "metadata": {
        "colab": {
          "base_uri": "https://localhost:8080/",
          "height": 366
        },
        "id": "99862be5-c983-44ea-a7c8-67baf3e18a5f",
        "outputId": "03590257-1d2b-4c21-f778-cdfd90f46d4f"
      },
      "outputs": [
        {
          "output_type": "execute_result",
          "data": {
            "text/plain": [
              "id_cluster         0\n",
              "X                  0\n",
              "ap_sexo            0\n",
              "reint              0\n",
              "regiao             0\n",
              "num_idade_dias     0\n",
              "dias_int1          0\n",
              "natureza          96\n",
              "status_resi        1\n",
              "dtype: int64"
            ],
            "text/html": [
              "<div>\n",
              "<style scoped>\n",
              "    .dataframe tbody tr th:only-of-type {\n",
              "        vertical-align: middle;\n",
              "    }\n",
              "\n",
              "    .dataframe tbody tr th {\n",
              "        vertical-align: top;\n",
              "    }\n",
              "\n",
              "    .dataframe thead th {\n",
              "        text-align: right;\n",
              "    }\n",
              "</style>\n",
              "<table border=\"1\" class=\"dataframe\">\n",
              "  <thead>\n",
              "    <tr style=\"text-align: right;\">\n",
              "      <th></th>\n",
              "      <th>0</th>\n",
              "    </tr>\n",
              "  </thead>\n",
              "  <tbody>\n",
              "    <tr>\n",
              "      <th>id_cluster</th>\n",
              "      <td>0</td>\n",
              "    </tr>\n",
              "    <tr>\n",
              "      <th>X</th>\n",
              "      <td>0</td>\n",
              "    </tr>\n",
              "    <tr>\n",
              "      <th>ap_sexo</th>\n",
              "      <td>0</td>\n",
              "    </tr>\n",
              "    <tr>\n",
              "      <th>reint</th>\n",
              "      <td>0</td>\n",
              "    </tr>\n",
              "    <tr>\n",
              "      <th>regiao</th>\n",
              "      <td>0</td>\n",
              "    </tr>\n",
              "    <tr>\n",
              "      <th>num_idade_dias</th>\n",
              "      <td>0</td>\n",
              "    </tr>\n",
              "    <tr>\n",
              "      <th>dias_int1</th>\n",
              "      <td>0</td>\n",
              "    </tr>\n",
              "    <tr>\n",
              "      <th>natureza</th>\n",
              "      <td>96</td>\n",
              "    </tr>\n",
              "    <tr>\n",
              "      <th>status_resi</th>\n",
              "      <td>1</td>\n",
              "    </tr>\n",
              "  </tbody>\n",
              "</table>\n",
              "</div><br><label><b>dtype:</b> int64</label>"
            ]
          },
          "metadata": {},
          "execution_count": 7
        }
      ],
      "source": [
        "df.isnull().sum()"
      ]
    },
    {
      "cell_type": "markdown",
      "id": "ab88675c-9a44-4fc5-a558-aea78114d8ed",
      "metadata": {
        "id": "ab88675c-9a44-4fc5-a558-aea78114d8ed"
      },
      "source": [
        "#### Criar variáveis indicadores de missing para VEF1 e Teste_6min - será que pode ser informativo?"
      ]
    },
    {
      "cell_type": "code",
      "execution_count": 8,
      "id": "1641797d-fb28-4625-ae43-4f8a42a046fc",
      "metadata": {
        "id": "1641797d-fb28-4625-ae43-4f8a42a046fc"
      },
      "outputs": [],
      "source": [
        "df['missing_natureza'] = 0\n",
        "df.loc[(df['natureza'] == '') | (df['natureza'].isna()), 'missing_natureza'] = 1"
      ]
    },
    {
      "cell_type": "code",
      "execution_count": 9,
      "id": "8e60931f-d882-4463-8f8f-0dff5dd8ec8f",
      "metadata": {
        "colab": {
          "base_uri": "https://localhost:8080/",
          "height": 178
        },
        "id": "8e60931f-d882-4463-8f8f-0dff5dd8ec8f",
        "outputId": "d884e71e-5df2-475d-e65f-adcc8666a949"
      },
      "outputs": [
        {
          "output_type": "execute_result",
          "data": {
            "text/plain": [
              "missing_natureza\n",
              "0    152380\n",
              "1        96\n",
              "Name: count, dtype: int64"
            ],
            "text/html": [
              "<div>\n",
              "<style scoped>\n",
              "    .dataframe tbody tr th:only-of-type {\n",
              "        vertical-align: middle;\n",
              "    }\n",
              "\n",
              "    .dataframe tbody tr th {\n",
              "        vertical-align: top;\n",
              "    }\n",
              "\n",
              "    .dataframe thead th {\n",
              "        text-align: right;\n",
              "    }\n",
              "</style>\n",
              "<table border=\"1\" class=\"dataframe\">\n",
              "  <thead>\n",
              "    <tr style=\"text-align: right;\">\n",
              "      <th></th>\n",
              "      <th>count</th>\n",
              "    </tr>\n",
              "    <tr>\n",
              "      <th>missing_natureza</th>\n",
              "      <th></th>\n",
              "    </tr>\n",
              "  </thead>\n",
              "  <tbody>\n",
              "    <tr>\n",
              "      <th>0</th>\n",
              "      <td>152380</td>\n",
              "    </tr>\n",
              "    <tr>\n",
              "      <th>1</th>\n",
              "      <td>96</td>\n",
              "    </tr>\n",
              "  </tbody>\n",
              "</table>\n",
              "</div><br><label><b>dtype:</b> int64</label>"
            ]
          },
          "metadata": {},
          "execution_count": 9
        }
      ],
      "source": [
        "df['missing_natureza'].value_counts()"
      ]
    },
    {
      "cell_type": "code",
      "execution_count": null,
      "id": "c9b7ca20-a11e-4941-965c-90a9364c1505",
      "metadata": {
        "colab": {
          "base_uri": "https://localhost:8080/"
        },
        "id": "c9b7ca20-a11e-4941-965c-90a9364c1505",
        "outputId": "c7c2ebda-d408-4d56-ca08-c49eec10ce16"
      },
      "outputs": [
        {
          "output_type": "stream",
          "name": "stdout",
          "text": [
            "<class 'pandas.core.frame.DataFrame'>\n",
            "Index: 206947 entries, 16 to 1559878\n",
            "Data columns (total 10 columns):\n",
            " #   Column            Non-Null Count   Dtype  \n",
            "---  ------            --------------   -----  \n",
            " 0   id_cluster        206947 non-null  float64\n",
            " 1   X                 206947 non-null  int64  \n",
            " 2   ap_sexo           206947 non-null  object \n",
            " 3   reint             206947 non-null  int64  \n",
            " 4   regiao            206947 non-null  object \n",
            " 5   num_idade_dias    206947 non-null  int64  \n",
            " 6   dias_int1         206947 non-null  float64\n",
            " 7   natureza          206834 non-null  object \n",
            " 8   status_resi       206947 non-null  object \n",
            " 9   missing_natureza  206947 non-null  int64  \n",
            "dtypes: float64(2), int64(4), object(4)\n",
            "memory usage: 17.4+ MB\n"
          ]
        }
      ],
      "source": [
        "df.info()"
      ]
    },
    {
      "cell_type": "markdown",
      "id": "82dcae33-d0bb-4f84-bc80-79a1afdde6ed",
      "metadata": {
        "id": "82dcae33-d0bb-4f84-bc80-79a1afdde6ed"
      },
      "source": [
        "#### Exluir a coluna Indivíduo"
      ]
    },
    {
      "cell_type": "code",
      "execution_count": 10,
      "id": "c27541c3-daec-4adf-8c6f-ef252508d485",
      "metadata": {
        "id": "c27541c3-daec-4adf-8c6f-ef252508d485"
      },
      "outputs": [],
      "source": [
        "df.drop(columns=[\"id_cluster\"], inplace=True)\n",
        "df.drop(columns=[\"X\"], inplace=True)\n"
      ]
    },
    {
      "cell_type": "markdown",
      "id": "5bed889c-d210-4419-b47c-e5843a8deb6c",
      "metadata": {
        "id": "5bed889c-d210-4419-b47c-e5843a8deb6c"
      },
      "source": [
        "# Pré-processamento\n",
        "### Codificação, outliers, imputação, padronização\n",
        "#### Obs.: A codificação (transformar em 0/1) pode ser feita *antes* da divisão treino/teste por ser somente atribuição um-a-um. Todo o resto do pré-processamento deve ser feito nos *dados de treino* (adaptar os dados de teste posteriormente)"
      ]
    },
    {
      "cell_type": "markdown",
      "id": "63ccdea4-a3a5-4338-a501-6f0740a68c5c",
      "metadata": {
        "id": "63ccdea4-a3a5-4338-a501-6f0740a68c5c"
      },
      "source": [
        "#### Para variáveis qualitativas binárias (Sexo) transformar em dummies"
      ]
    },
    {
      "cell_type": "code",
      "execution_count": 11,
      "id": "c88032de-59fb-411c-ac05-987a43fa5702",
      "metadata": {
        "id": "c88032de-59fb-411c-ac05-987a43fa5702"
      },
      "outputs": [],
      "source": [
        "df = pd.get_dummies(df, columns=[\"ap_sexo\"], drop_first=True)\n",
        "df = pd.get_dummies(df, columns=[\"status_resi\"], drop_first=True)"
      ]
    },
    {
      "cell_type": "code",
      "execution_count": 12,
      "id": "a5960d03-6993-4215-a94e-74c655fbe999",
      "metadata": {
        "colab": {
          "base_uri": "https://localhost:8080/"
        },
        "id": "a5960d03-6993-4215-a94e-74c655fbe999",
        "outputId": "c3881e99-997f-4018-f1bc-78114ab25392"
      },
      "outputs": [
        {
          "output_type": "stream",
          "name": "stdout",
          "text": [
            "<class 'pandas.core.frame.DataFrame'>\n",
            "Index: 152476 entries, 16 to 1103737\n",
            "Data columns (total 8 columns):\n",
            " #   Column            Non-Null Count   Dtype  \n",
            "---  ------            --------------   -----  \n",
            " 0   reint             152476 non-null  int64  \n",
            " 1   regiao            152476 non-null  object \n",
            " 2   num_idade_dias    152476 non-null  int64  \n",
            " 3   dias_int1         152476 non-null  float64\n",
            " 4   natureza          152380 non-null  object \n",
            " 5   missing_natureza  152476 non-null  int64  \n",
            " 6   ap_sexo_M         152476 non-null  bool   \n",
            " 7   status_resi_resi  152476 non-null  bool   \n",
            "dtypes: bool(2), float64(1), int64(3), object(2)\n",
            "memory usage: 8.4+ MB\n"
          ]
        }
      ],
      "source": [
        "df.info()"
      ]
    },
    {
      "cell_type": "code",
      "execution_count": 13,
      "id": "f31e5648-17e9-4b04-b361-662a61ac5320",
      "metadata": {
        "id": "f31e5648-17e9-4b04-b361-662a61ac5320"
      },
      "outputs": [],
      "source": [
        "df['ap_sexo_M'] = df['ap_sexo_M'].astype('int64')\n",
        "df['status_resi_resi'] = df['status_resi_resi'].astype('int64')"
      ]
    },
    {
      "cell_type": "markdown",
      "id": "de64a212-935c-4234-a2cc-75e21407c9b1",
      "metadata": {
        "id": "de64a212-935c-4234-a2cc-75e21407c9b1"
      },
      "source": [
        "#### Para variáveis qualitativas com mais de duas categorias - OneHotEncoder"
      ]
    },
    {
      "cell_type": "code",
      "execution_count": 14,
      "id": "0a93fb71-d0a5-410b-82cd-26bb8760efb1",
      "metadata": {
        "colab": {
          "base_uri": "https://localhost:8080/"
        },
        "id": "0a93fb71-d0a5-410b-82cd-26bb8760efb1",
        "outputId": "f41bc0d9-d488-4170-ba32-3fe2267e6abb"
      },
      "outputs": [
        {
          "output_type": "stream",
          "name": "stdout",
          "text": [
            "Collecting category_encoders\n",
            "  Downloading category_encoders-2.8.1-py3-none-any.whl.metadata (7.9 kB)\n",
            "Requirement already satisfied: numpy>=1.14.0 in /usr/local/lib/python3.11/dist-packages (from category_encoders) (2.0.2)\n",
            "Requirement already satisfied: pandas>=1.0.5 in /usr/local/lib/python3.11/dist-packages (from category_encoders) (2.2.2)\n",
            "Requirement already satisfied: patsy>=0.5.1 in /usr/local/lib/python3.11/dist-packages (from category_encoders) (1.0.1)\n",
            "Requirement already satisfied: scikit-learn>=1.6.0 in /usr/local/lib/python3.11/dist-packages (from category_encoders) (1.6.1)\n",
            "Requirement already satisfied: scipy>=1.0.0 in /usr/local/lib/python3.11/dist-packages (from category_encoders) (1.15.3)\n",
            "Requirement already satisfied: statsmodels>=0.9.0 in /usr/local/lib/python3.11/dist-packages (from category_encoders) (0.14.4)\n",
            "Requirement already satisfied: python-dateutil>=2.8.2 in /usr/local/lib/python3.11/dist-packages (from pandas>=1.0.5->category_encoders) (2.9.0.post0)\n",
            "Requirement already satisfied: pytz>=2020.1 in /usr/local/lib/python3.11/dist-packages (from pandas>=1.0.5->category_encoders) (2025.2)\n",
            "Requirement already satisfied: tzdata>=2022.7 in /usr/local/lib/python3.11/dist-packages (from pandas>=1.0.5->category_encoders) (2025.2)\n",
            "Requirement already satisfied: joblib>=1.2.0 in /usr/local/lib/python3.11/dist-packages (from scikit-learn>=1.6.0->category_encoders) (1.5.1)\n",
            "Requirement already satisfied: threadpoolctl>=3.1.0 in /usr/local/lib/python3.11/dist-packages (from scikit-learn>=1.6.0->category_encoders) (3.6.0)\n",
            "Requirement already satisfied: packaging>=21.3 in /usr/local/lib/python3.11/dist-packages (from statsmodels>=0.9.0->category_encoders) (24.2)\n",
            "Requirement already satisfied: six>=1.5 in /usr/local/lib/python3.11/dist-packages (from python-dateutil>=2.8.2->pandas>=1.0.5->category_encoders) (1.17.0)\n",
            "Downloading category_encoders-2.8.1-py3-none-any.whl (85 kB)\n",
            "\u001b[?25l   \u001b[90m━━━━━━━━━━━━━━━━━━━━━━━━━━━━━━━━━━━━━━━━\u001b[0m \u001b[32m0.0/85.7 kB\u001b[0m \u001b[31m?\u001b[0m eta \u001b[36m-:--:--\u001b[0m\r\u001b[2K   \u001b[90m━━━━━━━━━━━━━━━━━━━━━━━━━━━━━━━━━━━━━━━━\u001b[0m \u001b[32m85.7/85.7 kB\u001b[0m \u001b[31m6.1 MB/s\u001b[0m eta \u001b[36m0:00:00\u001b[0m\n",
            "\u001b[?25hInstalling collected packages: category_encoders\n",
            "Successfully installed category_encoders-2.8.1\n"
          ]
        }
      ],
      "source": [
        "!pip install category_encoders"
      ]
    },
    {
      "cell_type": "code",
      "execution_count": 15,
      "id": "1c1a48b4-0d42-417d-9223-4e01da279ffb",
      "metadata": {
        "id": "1c1a48b4-0d42-417d-9223-4e01da279ffb"
      },
      "outputs": [],
      "source": [
        "ordinal_features = [\"regiao\", \"natureza\"]"
      ]
    },
    {
      "cell_type": "code",
      "execution_count": 16,
      "id": "4ce29b08-688a-4475-8e88-ac26ff07ff1c",
      "metadata": {
        "id": "4ce29b08-688a-4475-8e88-ac26ff07ff1c"
      },
      "outputs": [],
      "source": [
        "import category_encoders as ce\n",
        "from category_encoders.one_hot import OneHotEncoder\n",
        "\n",
        "for feature in ordinal_features:\n",
        "  onehotenc = OneHotEncoder(cols=[feature], use_cat_names=True)\n",
        "  df = onehotenc.fit_transform(df)"
      ]
    },
    {
      "cell_type": "code",
      "execution_count": null,
      "id": "e2581f93-881f-456f-8925-b62d888a4bf0",
      "metadata": {
        "colab": {
          "base_uri": "https://localhost:8080/"
        },
        "id": "e2581f93-881f-456f-8925-b62d888a4bf0",
        "outputId": "fb6fda39-2c43-45c8-ea37-4aeba6332b61"
      },
      "outputs": [
        {
          "output_type": "stream",
          "name": "stdout",
          "text": [
            "<class 'pandas.core.frame.DataFrame'>\n",
            "Index: 206947 entries, 16 to 1559878\n",
            "Data columns (total 15 columns):\n",
            " #   Column                Non-Null Count   Dtype  \n",
            "---  ------                --------------   -----  \n",
            " 0   reint                 206947 non-null  int64  \n",
            " 1   regiao_Norte          206947 non-null  int64  \n",
            " 2   regiao_Nordeste       206947 non-null  int64  \n",
            " 3   regiao_Sudeste        206947 non-null  int64  \n",
            " 4   regiao_Sul            206947 non-null  int64  \n",
            " 5   regiao_Centro-Oeste   206947 non-null  int64  \n",
            " 6   num_idade_dias        206947 non-null  int64  \n",
            " 7   dias_int1             206947 non-null  float64\n",
            " 8   natureza_P?blico      206947 non-null  int64  \n",
            " 9   natureza_Privado SFL  206947 non-null  int64  \n",
            " 10  natureza_Privado      206947 non-null  int64  \n",
            " 11  natureza_nan          206947 non-null  int64  \n",
            " 12  missing_natureza      206947 non-null  int64  \n",
            " 13  ap_sexo_M             206947 non-null  int64  \n",
            " 14  status_resi_resi      206947 non-null  int64  \n",
            "dtypes: float64(1), int64(14)\n",
            "memory usage: 25.3 MB\n"
          ]
        }
      ],
      "source": [
        "df.info()"
      ]
    },
    {
      "cell_type": "code",
      "execution_count": 17,
      "id": "98b9720d-74fb-40e0-b3a1-a6183c07ce51",
      "metadata": {
        "colab": {
          "base_uri": "https://localhost:8080/",
          "height": 244
        },
        "id": "98b9720d-74fb-40e0-b3a1-a6183c07ce51",
        "outputId": "3cd79fc6-de23-4c31-b039-ae68e4edd84e"
      },
      "outputs": [
        {
          "output_type": "execute_result",
          "data": {
            "text/plain": [
              "    reint  regiao_Norte  regiao_Nordeste  regiao_Sudeste  num_idade_dias  \\\n",
              "16      0             1                0               0            1424   \n",
              "25      0             1                0               0             187   \n",
              "50      0             1                0               0             411   \n",
              "60      0             1                0               0             163   \n",
              "65      0             1                0               0            1150   \n",
              "\n",
              "    dias_int1  natureza_P?blico  natureza_Privado SFL  natureza_Privado  \\\n",
              "16        2.0                 1                     0                 0   \n",
              "25        2.0                 1                     0                 0   \n",
              "50        3.0                 1                     0                 0   \n",
              "60        2.0                 1                     0                 0   \n",
              "65        2.0                 1                     0                 0   \n",
              "\n",
              "    natureza_nan  missing_natureza  ap_sexo_M  status_resi_resi  \n",
              "16             0                 0          1                 1  \n",
              "25             0                 0          1                 1  \n",
              "50             0                 0          0                 1  \n",
              "60             0                 0          0                 1  \n",
              "65             0                 0          1                 1  "
            ],
            "text/html": [
              "\n",
              "  <div id=\"df-85993883-1544-436d-8583-5057331819af\" class=\"colab-df-container\">\n",
              "    <div>\n",
              "<style scoped>\n",
              "    .dataframe tbody tr th:only-of-type {\n",
              "        vertical-align: middle;\n",
              "    }\n",
              "\n",
              "    .dataframe tbody tr th {\n",
              "        vertical-align: top;\n",
              "    }\n",
              "\n",
              "    .dataframe thead th {\n",
              "        text-align: right;\n",
              "    }\n",
              "</style>\n",
              "<table border=\"1\" class=\"dataframe\">\n",
              "  <thead>\n",
              "    <tr style=\"text-align: right;\">\n",
              "      <th></th>\n",
              "      <th>reint</th>\n",
              "      <th>regiao_Norte</th>\n",
              "      <th>regiao_Nordeste</th>\n",
              "      <th>regiao_Sudeste</th>\n",
              "      <th>num_idade_dias</th>\n",
              "      <th>dias_int1</th>\n",
              "      <th>natureza_P?blico</th>\n",
              "      <th>natureza_Privado SFL</th>\n",
              "      <th>natureza_Privado</th>\n",
              "      <th>natureza_nan</th>\n",
              "      <th>missing_natureza</th>\n",
              "      <th>ap_sexo_M</th>\n",
              "      <th>status_resi_resi</th>\n",
              "    </tr>\n",
              "  </thead>\n",
              "  <tbody>\n",
              "    <tr>\n",
              "      <th>16</th>\n",
              "      <td>0</td>\n",
              "      <td>1</td>\n",
              "      <td>0</td>\n",
              "      <td>0</td>\n",
              "      <td>1424</td>\n",
              "      <td>2.0</td>\n",
              "      <td>1</td>\n",
              "      <td>0</td>\n",
              "      <td>0</td>\n",
              "      <td>0</td>\n",
              "      <td>0</td>\n",
              "      <td>1</td>\n",
              "      <td>1</td>\n",
              "    </tr>\n",
              "    <tr>\n",
              "      <th>25</th>\n",
              "      <td>0</td>\n",
              "      <td>1</td>\n",
              "      <td>0</td>\n",
              "      <td>0</td>\n",
              "      <td>187</td>\n",
              "      <td>2.0</td>\n",
              "      <td>1</td>\n",
              "      <td>0</td>\n",
              "      <td>0</td>\n",
              "      <td>0</td>\n",
              "      <td>0</td>\n",
              "      <td>1</td>\n",
              "      <td>1</td>\n",
              "    </tr>\n",
              "    <tr>\n",
              "      <th>50</th>\n",
              "      <td>0</td>\n",
              "      <td>1</td>\n",
              "      <td>0</td>\n",
              "      <td>0</td>\n",
              "      <td>411</td>\n",
              "      <td>3.0</td>\n",
              "      <td>1</td>\n",
              "      <td>0</td>\n",
              "      <td>0</td>\n",
              "      <td>0</td>\n",
              "      <td>0</td>\n",
              "      <td>0</td>\n",
              "      <td>1</td>\n",
              "    </tr>\n",
              "    <tr>\n",
              "      <th>60</th>\n",
              "      <td>0</td>\n",
              "      <td>1</td>\n",
              "      <td>0</td>\n",
              "      <td>0</td>\n",
              "      <td>163</td>\n",
              "      <td>2.0</td>\n",
              "      <td>1</td>\n",
              "      <td>0</td>\n",
              "      <td>0</td>\n",
              "      <td>0</td>\n",
              "      <td>0</td>\n",
              "      <td>0</td>\n",
              "      <td>1</td>\n",
              "    </tr>\n",
              "    <tr>\n",
              "      <th>65</th>\n",
              "      <td>0</td>\n",
              "      <td>1</td>\n",
              "      <td>0</td>\n",
              "      <td>0</td>\n",
              "      <td>1150</td>\n",
              "      <td>2.0</td>\n",
              "      <td>1</td>\n",
              "      <td>0</td>\n",
              "      <td>0</td>\n",
              "      <td>0</td>\n",
              "      <td>0</td>\n",
              "      <td>1</td>\n",
              "      <td>1</td>\n",
              "    </tr>\n",
              "  </tbody>\n",
              "</table>\n",
              "</div>\n",
              "    <div class=\"colab-df-buttons\">\n",
              "\n",
              "  <div class=\"colab-df-container\">\n",
              "    <button class=\"colab-df-convert\" onclick=\"convertToInteractive('df-85993883-1544-436d-8583-5057331819af')\"\n",
              "            title=\"Convert this dataframe to an interactive table.\"\n",
              "            style=\"display:none;\">\n",
              "\n",
              "  <svg xmlns=\"http://www.w3.org/2000/svg\" height=\"24px\" viewBox=\"0 -960 960 960\">\n",
              "    <path d=\"M120-120v-720h720v720H120Zm60-500h600v-160H180v160Zm220 220h160v-160H400v160Zm0 220h160v-160H400v160ZM180-400h160v-160H180v160Zm440 0h160v-160H620v160ZM180-180h160v-160H180v160Zm440 0h160v-160H620v160Z\"/>\n",
              "  </svg>\n",
              "    </button>\n",
              "\n",
              "  <style>\n",
              "    .colab-df-container {\n",
              "      display:flex;\n",
              "      gap: 12px;\n",
              "    }\n",
              "\n",
              "    .colab-df-convert {\n",
              "      background-color: #E8F0FE;\n",
              "      border: none;\n",
              "      border-radius: 50%;\n",
              "      cursor: pointer;\n",
              "      display: none;\n",
              "      fill: #1967D2;\n",
              "      height: 32px;\n",
              "      padding: 0 0 0 0;\n",
              "      width: 32px;\n",
              "    }\n",
              "\n",
              "    .colab-df-convert:hover {\n",
              "      background-color: #E2EBFA;\n",
              "      box-shadow: 0px 1px 2px rgba(60, 64, 67, 0.3), 0px 1px 3px 1px rgba(60, 64, 67, 0.15);\n",
              "      fill: #174EA6;\n",
              "    }\n",
              "\n",
              "    .colab-df-buttons div {\n",
              "      margin-bottom: 4px;\n",
              "    }\n",
              "\n",
              "    [theme=dark] .colab-df-convert {\n",
              "      background-color: #3B4455;\n",
              "      fill: #D2E3FC;\n",
              "    }\n",
              "\n",
              "    [theme=dark] .colab-df-convert:hover {\n",
              "      background-color: #434B5C;\n",
              "      box-shadow: 0px 1px 3px 1px rgba(0, 0, 0, 0.15);\n",
              "      filter: drop-shadow(0px 1px 2px rgba(0, 0, 0, 0.3));\n",
              "      fill: #FFFFFF;\n",
              "    }\n",
              "  </style>\n",
              "\n",
              "    <script>\n",
              "      const buttonEl =\n",
              "        document.querySelector('#df-85993883-1544-436d-8583-5057331819af button.colab-df-convert');\n",
              "      buttonEl.style.display =\n",
              "        google.colab.kernel.accessAllowed ? 'block' : 'none';\n",
              "\n",
              "      async function convertToInteractive(key) {\n",
              "        const element = document.querySelector('#df-85993883-1544-436d-8583-5057331819af');\n",
              "        const dataTable =\n",
              "          await google.colab.kernel.invokeFunction('convertToInteractive',\n",
              "                                                    [key], {});\n",
              "        if (!dataTable) return;\n",
              "\n",
              "        const docLinkHtml = 'Like what you see? Visit the ' +\n",
              "          '<a target=\"_blank\" href=https://colab.research.google.com/notebooks/data_table.ipynb>data table notebook</a>'\n",
              "          + ' to learn more about interactive tables.';\n",
              "        element.innerHTML = '';\n",
              "        dataTable['output_type'] = 'display_data';\n",
              "        await google.colab.output.renderOutput(dataTable, element);\n",
              "        const docLink = document.createElement('div');\n",
              "        docLink.innerHTML = docLinkHtml;\n",
              "        element.appendChild(docLink);\n",
              "      }\n",
              "    </script>\n",
              "  </div>\n",
              "\n",
              "\n",
              "    <div id=\"df-ccbca1de-7b42-409a-b09f-9646ee69dbdc\">\n",
              "      <button class=\"colab-df-quickchart\" onclick=\"quickchart('df-ccbca1de-7b42-409a-b09f-9646ee69dbdc')\"\n",
              "                title=\"Suggest charts\"\n",
              "                style=\"display:none;\">\n",
              "\n",
              "<svg xmlns=\"http://www.w3.org/2000/svg\" height=\"24px\"viewBox=\"0 0 24 24\"\n",
              "     width=\"24px\">\n",
              "    <g>\n",
              "        <path d=\"M19 3H5c-1.1 0-2 .9-2 2v14c0 1.1.9 2 2 2h14c1.1 0 2-.9 2-2V5c0-1.1-.9-2-2-2zM9 17H7v-7h2v7zm4 0h-2V7h2v10zm4 0h-2v-4h2v4z\"/>\n",
              "    </g>\n",
              "</svg>\n",
              "      </button>\n",
              "\n",
              "<style>\n",
              "  .colab-df-quickchart {\n",
              "      --bg-color: #E8F0FE;\n",
              "      --fill-color: #1967D2;\n",
              "      --hover-bg-color: #E2EBFA;\n",
              "      --hover-fill-color: #174EA6;\n",
              "      --disabled-fill-color: #AAA;\n",
              "      --disabled-bg-color: #DDD;\n",
              "  }\n",
              "\n",
              "  [theme=dark] .colab-df-quickchart {\n",
              "      --bg-color: #3B4455;\n",
              "      --fill-color: #D2E3FC;\n",
              "      --hover-bg-color: #434B5C;\n",
              "      --hover-fill-color: #FFFFFF;\n",
              "      --disabled-bg-color: #3B4455;\n",
              "      --disabled-fill-color: #666;\n",
              "  }\n",
              "\n",
              "  .colab-df-quickchart {\n",
              "    background-color: var(--bg-color);\n",
              "    border: none;\n",
              "    border-radius: 50%;\n",
              "    cursor: pointer;\n",
              "    display: none;\n",
              "    fill: var(--fill-color);\n",
              "    height: 32px;\n",
              "    padding: 0;\n",
              "    width: 32px;\n",
              "  }\n",
              "\n",
              "  .colab-df-quickchart:hover {\n",
              "    background-color: var(--hover-bg-color);\n",
              "    box-shadow: 0 1px 2px rgba(60, 64, 67, 0.3), 0 1px 3px 1px rgba(60, 64, 67, 0.15);\n",
              "    fill: var(--button-hover-fill-color);\n",
              "  }\n",
              "\n",
              "  .colab-df-quickchart-complete:disabled,\n",
              "  .colab-df-quickchart-complete:disabled:hover {\n",
              "    background-color: var(--disabled-bg-color);\n",
              "    fill: var(--disabled-fill-color);\n",
              "    box-shadow: none;\n",
              "  }\n",
              "\n",
              "  .colab-df-spinner {\n",
              "    border: 2px solid var(--fill-color);\n",
              "    border-color: transparent;\n",
              "    border-bottom-color: var(--fill-color);\n",
              "    animation:\n",
              "      spin 1s steps(1) infinite;\n",
              "  }\n",
              "\n",
              "  @keyframes spin {\n",
              "    0% {\n",
              "      border-color: transparent;\n",
              "      border-bottom-color: var(--fill-color);\n",
              "      border-left-color: var(--fill-color);\n",
              "    }\n",
              "    20% {\n",
              "      border-color: transparent;\n",
              "      border-left-color: var(--fill-color);\n",
              "      border-top-color: var(--fill-color);\n",
              "    }\n",
              "    30% {\n",
              "      border-color: transparent;\n",
              "      border-left-color: var(--fill-color);\n",
              "      border-top-color: var(--fill-color);\n",
              "      border-right-color: var(--fill-color);\n",
              "    }\n",
              "    40% {\n",
              "      border-color: transparent;\n",
              "      border-right-color: var(--fill-color);\n",
              "      border-top-color: var(--fill-color);\n",
              "    }\n",
              "    60% {\n",
              "      border-color: transparent;\n",
              "      border-right-color: var(--fill-color);\n",
              "    }\n",
              "    80% {\n",
              "      border-color: transparent;\n",
              "      border-right-color: var(--fill-color);\n",
              "      border-bottom-color: var(--fill-color);\n",
              "    }\n",
              "    90% {\n",
              "      border-color: transparent;\n",
              "      border-bottom-color: var(--fill-color);\n",
              "    }\n",
              "  }\n",
              "</style>\n",
              "\n",
              "      <script>\n",
              "        async function quickchart(key) {\n",
              "          const quickchartButtonEl =\n",
              "            document.querySelector('#' + key + ' button');\n",
              "          quickchartButtonEl.disabled = true;  // To prevent multiple clicks.\n",
              "          quickchartButtonEl.classList.add('colab-df-spinner');\n",
              "          try {\n",
              "            const charts = await google.colab.kernel.invokeFunction(\n",
              "                'suggestCharts', [key], {});\n",
              "          } catch (error) {\n",
              "            console.error('Error during call to suggestCharts:', error);\n",
              "          }\n",
              "          quickchartButtonEl.classList.remove('colab-df-spinner');\n",
              "          quickchartButtonEl.classList.add('colab-df-quickchart-complete');\n",
              "        }\n",
              "        (() => {\n",
              "          let quickchartButtonEl =\n",
              "            document.querySelector('#df-ccbca1de-7b42-409a-b09f-9646ee69dbdc button');\n",
              "          quickchartButtonEl.style.display =\n",
              "            google.colab.kernel.accessAllowed ? 'block' : 'none';\n",
              "        })();\n",
              "      </script>\n",
              "    </div>\n",
              "\n",
              "    </div>\n",
              "  </div>\n"
            ],
            "application/vnd.google.colaboratory.intrinsic+json": {
              "type": "dataframe",
              "variable_name": "df"
            }
          },
          "metadata": {},
          "execution_count": 17
        }
      ],
      "source": [
        "df.head()"
      ]
    },
    {
      "cell_type": "markdown",
      "id": "ff24363f-eec1-4455-99e1-a480c2303aab",
      "metadata": {
        "id": "ff24363f-eec1-4455-99e1-a480c2303aab"
      },
      "source": [
        "#### Separar preditores de desfecho: X terá todas as variáveis preditoras e y terá somente o desfecho"
      ]
    },
    {
      "cell_type": "code",
      "execution_count": null,
      "id": "v56mX5fn20QN",
      "metadata": {
        "id": "v56mX5fn20QN"
      },
      "outputs": [],
      "source": [
        "#df = df.rename(columns={\"div_idade2_Lactentes (28d-2a)\": \"div_idade2_Lactentes\", \"div_idade2_Pr?-escolares (2a-<5a)\": \"div_idade2_Pre_escolares\", \"div_idade2_Neonatos (0-27d)\": \"div_idade2_Neonatos\"})\n",
        "\n"
      ]
    },
    {
      "cell_type": "code",
      "execution_count": 18,
      "id": "9a2712e0-6975-4721-b5c3-db4d3ecaf635",
      "metadata": {
        "id": "9a2712e0-6975-4721-b5c3-db4d3ecaf635"
      },
      "outputs": [],
      "source": [
        "X_df = df.drop(columns=[\"reint\"])\n",
        "y_df = df[[\"reint\"]]"
      ]
    },
    {
      "cell_type": "code",
      "execution_count": null,
      "id": "d6ca1367-bfcf-4b61-ac07-978ad6f41324",
      "metadata": {
        "colab": {
          "base_uri": "https://localhost:8080/"
        },
        "id": "d6ca1367-bfcf-4b61-ac07-978ad6f41324",
        "outputId": "2fbede83-2001-4e0f-cdc2-f5d1464f330b"
      },
      "outputs": [
        {
          "output_type": "execute_result",
          "data": {
            "text/plain": [
              "(206947, 14)"
            ]
          },
          "metadata": {},
          "execution_count": 30
        }
      ],
      "source": [
        "X_df.shape"
      ]
    },
    {
      "cell_type": "code",
      "execution_count": null,
      "id": "613a4b74-51a2-4537-b4db-ffb444485636",
      "metadata": {
        "colab": {
          "base_uri": "https://localhost:8080/"
        },
        "id": "613a4b74-51a2-4537-b4db-ffb444485636",
        "outputId": "9a320570-80b0-41b0-ab95-76c791480d86"
      },
      "outputs": [
        {
          "output_type": "execute_result",
          "data": {
            "text/plain": [
              "(206947, 1)"
            ]
          },
          "metadata": {},
          "execution_count": 60
        }
      ],
      "source": [
        "y_df.shape"
      ]
    },
    {
      "cell_type": "markdown",
      "source": [
        "# Rebalanceamento"
      ],
      "metadata": {
        "id": "JuhQccA6cc6n"
      },
      "id": "JuhQccA6cc6n"
    },
    {
      "cell_type": "code",
      "source": [
        "#Rebalanceamento\n",
        "from collections import Counter\n",
        "from imblearn.under_sampling import EditedNearestNeighbours\n",
        "from imblearn.under_sampling import ClusterCentroids\n",
        "enn = EditedNearestNeighbours()\n",
        "cc = ClusterCentroids(random_state=0)\n",
        "#X_res, y_res = enn.fit_resample(X_df, y_df)\n",
        "X_res, y_res = cc.fit_resample(X_df, y_df)"
      ],
      "metadata": {
        "id": "5dH599mladdu"
      },
      "id": "5dH599mladdu",
      "execution_count": 19,
      "outputs": []
    },
    {
      "cell_type": "markdown",
      "id": "2fa645a4-aa19-4863-8a8b-10b5f483861c",
      "metadata": {
        "id": "2fa645a4-aa19-4863-8a8b-10b5f483861c"
      },
      "source": [
        "## Divisão treino-teste\n",
        "### (70%/30%) seleção aleatória respeitando a proporcionalidade do desfecho nos dois conjuntos de dados"
      ]
    },
    {
      "cell_type": "code",
      "source": [
        "X_res.shape"
      ],
      "metadata": {
        "colab": {
          "base_uri": "https://localhost:8080/"
        },
        "id": "eBMca5JQbHKp",
        "outputId": "11264b95-ce45-4e9d-f613-8c39ea4017a8"
      },
      "id": "eBMca5JQbHKp",
      "execution_count": 20,
      "outputs": [
        {
          "output_type": "execute_result",
          "data": {
            "text/plain": [
              "(46468, 12)"
            ]
          },
          "metadata": {},
          "execution_count": 20
        }
      ]
    },
    {
      "cell_type": "code",
      "source": [
        "y_res.shape"
      ],
      "metadata": {
        "colab": {
          "base_uri": "https://localhost:8080/"
        },
        "id": "oC3XR3osbHPp",
        "outputId": "6b42151d-387f-4118-ee90-0f374730d5bc"
      },
      "id": "oC3XR3osbHPp",
      "execution_count": 21,
      "outputs": [
        {
          "output_type": "execute_result",
          "data": {
            "text/plain": [
              "(46468, 1)"
            ]
          },
          "metadata": {},
          "execution_count": 21
        }
      ]
    },
    {
      "cell_type": "code",
      "execution_count": 22,
      "id": "462ef188-befe-4832-bf40-c4b4b313fdba",
      "metadata": {
        "id": "462ef188-befe-4832-bf40-c4b4b313fdba"
      },
      "outputs": [],
      "source": [
        "from sklearn.model_selection import train_test_split"
      ]
    },
    {
      "cell_type": "code",
      "execution_count": 23,
      "id": "f05627d3-da95-4b22-9fdd-1ed1330633f5",
      "metadata": {
        "id": "f05627d3-da95-4b22-9fdd-1ed1330633f5"
      },
      "outputs": [],
      "source": [
        "X_train, X_test, y_train, y_test = train_test_split(X_res, y_res, test_size=0.3, random_state=42, stratify=y_res)"
      ]
    },
    {
      "cell_type": "code",
      "execution_count": 24,
      "id": "f884cf92-41e0-4993-b9c8-33a98510f1ac",
      "metadata": {
        "colab": {
          "base_uri": "https://localhost:8080/"
        },
        "id": "f884cf92-41e0-4993-b9c8-33a98510f1ac",
        "outputId": "38cac7d1-bcbe-4032-a389-d5e851099ec3"
      },
      "outputs": [
        {
          "output_type": "execute_result",
          "data": {
            "text/plain": [
              "(32527, 12)"
            ]
          },
          "metadata": {},
          "execution_count": 24
        }
      ],
      "source": [
        "X_train.shape"
      ]
    },
    {
      "cell_type": "code",
      "execution_count": 25,
      "id": "65782468-4d6f-484a-b7c4-dbb91f236872",
      "metadata": {
        "colab": {
          "base_uri": "https://localhost:8080/"
        },
        "id": "65782468-4d6f-484a-b7c4-dbb91f236872",
        "outputId": "636a4df6-a422-4023-ba3c-4e95f73905d6"
      },
      "outputs": [
        {
          "output_type": "execute_result",
          "data": {
            "text/plain": [
              "(32527, 1)"
            ]
          },
          "metadata": {},
          "execution_count": 25
        }
      ],
      "source": [
        "y_train.shape\n"
      ]
    },
    {
      "cell_type": "code",
      "execution_count": 26,
      "id": "05928c71-3802-4c5e-98a3-5ca026454c30",
      "metadata": {
        "colab": {
          "base_uri": "https://localhost:8080/"
        },
        "id": "05928c71-3802-4c5e-98a3-5ca026454c30",
        "outputId": "e0b7e06a-4abc-432a-a0d9-c57b647ce8db"
      },
      "outputs": [
        {
          "output_type": "execute_result",
          "data": {
            "text/plain": [
              "(13941, 12)"
            ]
          },
          "metadata": {},
          "execution_count": 26
        }
      ],
      "source": [
        "X_test.shape"
      ]
    },
    {
      "cell_type": "code",
      "execution_count": 27,
      "id": "91385c1d-42ef-4f76-a1bf-49998abdf52b",
      "metadata": {
        "colab": {
          "base_uri": "https://localhost:8080/"
        },
        "id": "91385c1d-42ef-4f76-a1bf-49998abdf52b",
        "outputId": "ec0d74a2-b601-4885-bbcb-780e6aa4a577",
        "scrolled": true
      },
      "outputs": [
        {
          "output_type": "execute_result",
          "data": {
            "text/plain": [
              "(13941, 1)"
            ]
          },
          "metadata": {},
          "execution_count": 27
        }
      ],
      "source": [
        "y_test.shape"
      ]
    },
    {
      "cell_type": "markdown",
      "id": "91507672-af66-45f5-94c8-023d0a12833b",
      "metadata": {
        "id": "91507672-af66-45f5-94c8-023d0a12833b"
      },
      "source": [
        "#### Medidas descritivas das variáveis qualitativas no treino"
      ]
    },
    {
      "cell_type": "code",
      "execution_count": null,
      "id": "046b9a06-3921-48e6-b643-ddc3dd524ba2",
      "metadata": {
        "id": "046b9a06-3921-48e6-b643-ddc3dd524ba2"
      },
      "outputs": [],
      "source": [
        "qualitativas = [\"regiao_Nordeste\", \"regiao_Sudeste\", \"regiao_Sul\", \"regiao_Centro-Oeste\", \"diag_cat_5.0\", \"diag_cat_8.0\", \"diag_cat_2.0\", \"diag_cat_7.0\", \"diag_cat_15.0\", \"diag_cat_6.0\", \"diag_cat_16.0\",\n",
        "                \"diag_cat_17.0\", \"diag_cat_1.0\", \"diag_cat_14.0\", \"diag_cat_11.0\", \"diag_cat_18.0\", \"diag_cat_4.0\", \"diag_cat_9.0\", \"diag_cat_13.0\", \"diag_cat_19.0\", \"diag_cat_3.0\", \"diag_cat_10.0\", \"diag_cat_12.0\",\n",
        "                \"natureza_P?blico\", \"natureza_Privado SFL\", \"natureza_Privado\", \"natureza_nan\", \"missing_natureza\",\n",
        "                \"ap_sexo_M\", \"status_resi_resi\"]"
      ]
    },
    {
      "cell_type": "code",
      "execution_count": null,
      "id": "5ace04fe-c452-4ab9-ab06-c4dd107c638f",
      "metadata": {
        "colab": {
          "base_uri": "https://localhost:8080/"
        },
        "id": "5ace04fe-c452-4ab9-ab06-c4dd107c638f",
        "outputId": "c9a72ec3-e977-4ad2-f22c-68fe7e898d34"
      },
      "outputs": [
        {
          "output_type": "stream",
          "name": "stdout",
          "text": [
            "regiao_Nordeste\n",
            "0   0.655755\n",
            "1   0.344245\n",
            "Name: proportion, dtype: float64\n",
            "\n",
            "regiao_Sudeste\n",
            "0   0.702611\n",
            "1   0.297389\n",
            "Name: proportion, dtype: float64\n",
            "\n",
            "regiao_Sul\n",
            "0   0.878771\n",
            "1   0.121229\n",
            "Name: proportion, dtype: float64\n",
            "\n",
            "regiao_Centro-Oeste\n",
            "0   0.919214\n",
            "1   0.080786\n",
            "Name: proportion, dtype: float64\n",
            "\n",
            "diag_cat_5.0\n",
            "0   0.967238\n",
            "1   0.032762\n",
            "Name: proportion, dtype: float64\n",
            "\n",
            "diag_cat_8.0\n",
            "0   0.863556\n",
            "1   0.136444\n",
            "Name: proportion, dtype: float64\n",
            "\n",
            "diag_cat_2.0\n",
            "0   0.599384\n",
            "1   0.400616\n",
            "Name: proportion, dtype: float64\n",
            "\n",
            "diag_cat_7.0\n",
            "0   0.867242\n",
            "1   0.132758\n",
            "Name: proportion, dtype: float64\n",
            "\n",
            "diag_cat_15.0\n",
            "0   0.944407\n",
            "1   0.055593\n",
            "Name: proportion, dtype: float64\n",
            "\n",
            "diag_cat_6.0\n",
            "0   0.861836\n",
            "1   0.138164\n",
            "Name: proportion, dtype: float64\n",
            "\n",
            "diag_cat_16.0\n",
            "0   0.956877\n",
            "1   0.043123\n",
            "Name: proportion, dtype: float64\n",
            "\n",
            "diag_cat_17.0\n",
            "0   0.999763\n",
            "1   0.000237\n",
            "Name: proportion, dtype: float64\n",
            "\n",
            "diag_cat_1.0\n",
            "0   0.990696\n",
            "1   0.009304\n",
            "Name: proportion, dtype: float64\n",
            "\n",
            "diag_cat_14.0\n",
            "0   0.974224\n",
            "1   0.025776\n",
            "Name: proportion, dtype: float64\n",
            "\n",
            "diag_cat_11.0\n",
            "0   0.995186\n",
            "1   0.004814\n",
            "Name: proportion, dtype: float64\n",
            "\n",
            "diag_cat_18.0\n",
            "0   0.998688\n",
            "1   0.001312\n",
            "Name: proportion, dtype: float64\n",
            "\n",
            "diag_cat_4.0\n",
            "0   0.990317\n",
            "1   0.009683\n",
            "Name: proportion, dtype: float64\n",
            "\n",
            "diag_cat_9.0\n",
            "0   0.999123\n",
            "1   0.000877\n",
            "Name: proportion, dtype: float64\n",
            "\n",
            "diag_cat_13.0\n",
            "0   0.997545\n",
            "1   0.002455\n",
            "Name: proportion, dtype: float64\n",
            "\n",
            "diag_cat_19.0\n",
            "0   0.996534\n",
            "1   0.003466\n",
            "Name: proportion, dtype: float64\n",
            "\n",
            "diag_cat_3.0\n",
            "0   0.997950\n",
            "1   0.002050\n",
            "Name: proportion, dtype: float64\n",
            "\n",
            "diag_cat_10.0\n",
            "0   0.999842\n",
            "1   0.000158\n",
            "Name: proportion, dtype: float64\n",
            "\n",
            "diag_cat_12.0\n",
            "0   0.999592\n",
            "1   0.000408\n",
            "Name: proportion, dtype: float64\n",
            "\n",
            "natureza_P?blico\n",
            "0   0.486330\n",
            "1   0.513670\n",
            "Name: proportion, dtype: float64\n",
            "\n",
            "natureza_Privado SFL\n",
            "0   0.691051\n",
            "1   0.308949\n",
            "Name: proportion, dtype: float64\n",
            "\n",
            "natureza_Privado\n",
            "0   0.822908\n",
            "1   0.177092\n",
            "Name: proportion, dtype: float64\n",
            "\n",
            "natureza_nan\n",
            "0   0.999711\n",
            "1   0.000289\n",
            "Name: proportion, dtype: float64\n",
            "\n",
            "missing_natureza\n",
            "0   0.999711\n",
            "1   0.000289\n",
            "Name: proportion, dtype: float64\n",
            "\n",
            "ap_sexo_M\n",
            "0   0.464254\n",
            "1   0.535746\n",
            "Name: proportion, dtype: float64\n",
            "\n",
            "status_resi_resi\n",
            "0   0.171823\n",
            "1   0.828177\n",
            "Name: proportion, dtype: float64\n",
            "\n"
          ]
        }
      ],
      "source": [
        "# tabelas de frequências com porcentagens, se quiser com frequencias absolutas tirar o normalize\n",
        "for feature in qualitativas:\n",
        "    tab = X_train[feature].value_counts(normalize=True)\n",
        "    tab_sort = tab.sort_index()\n",
        "    print(tab_sort)\n",
        "    print(end=\"\\n\")"
      ]
    },
    {
      "cell_type": "markdown",
      "id": "2237063d-025d-4980-999d-b1953e9fc1c0",
      "metadata": {
        "id": "2237063d-025d-4980-999d-b1953e9fc1c0"
      },
      "source": [
        "#### Medidas descritivas das variáveis quantitativas no treino - identificação de outliers - NÃO SE APLICA"
      ]
    },
    {
      "cell_type": "code",
      "execution_count": null,
      "id": "6f92bd10-f9cd-4234-8ec2-ea5f6560228d",
      "metadata": {
        "id": "6f92bd10-f9cd-4234-8ec2-ea5f6560228d"
      },
      "outputs": [],
      "source": [
        "numeric_features = [\"dias_int1\", \"num_idade_dias\"]"
      ]
    },
    {
      "cell_type": "code",
      "execution_count": null,
      "id": "5a62075a-4956-48b1-85cf-a7ffbf648b17",
      "metadata": {
        "colab": {
          "base_uri": "https://localhost:8080/",
          "height": 112
        },
        "id": "5a62075a-4956-48b1-85cf-a7ffbf648b17",
        "outputId": "938f14ed-bb2d-429f-c8f6-6a6320e62d46"
      },
      "outputs": [
        {
          "output_type": "execute_result",
          "data": {
            "text/plain": [
              "                   count        mean         std  min    25%    50%     75%  \\\n",
              "dias_int1       144862.0    2.872078    2.832752  1.0    2.0    2.0     3.0   \n",
              "num_idade_dias  144862.0  768.292568  501.739341  0.0  333.0  682.0  1166.0   \n",
              "\n",
              "                   max  \n",
              "dias_int1        307.0  \n",
              "num_idade_dias  1826.0  "
            ],
            "text/html": [
              "\n",
              "  <div id=\"df-0201f710-f31b-413a-9725-7344586d46a5\" class=\"colab-df-container\">\n",
              "    <div>\n",
              "<style scoped>\n",
              "    .dataframe tbody tr th:only-of-type {\n",
              "        vertical-align: middle;\n",
              "    }\n",
              "\n",
              "    .dataframe tbody tr th {\n",
              "        vertical-align: top;\n",
              "    }\n",
              "\n",
              "    .dataframe thead th {\n",
              "        text-align: right;\n",
              "    }\n",
              "</style>\n",
              "<table border=\"1\" class=\"dataframe\">\n",
              "  <thead>\n",
              "    <tr style=\"text-align: right;\">\n",
              "      <th></th>\n",
              "      <th>count</th>\n",
              "      <th>mean</th>\n",
              "      <th>std</th>\n",
              "      <th>min</th>\n",
              "      <th>25%</th>\n",
              "      <th>50%</th>\n",
              "      <th>75%</th>\n",
              "      <th>max</th>\n",
              "    </tr>\n",
              "  </thead>\n",
              "  <tbody>\n",
              "    <tr>\n",
              "      <th>dias_int1</th>\n",
              "      <td>144862.0</td>\n",
              "      <td>2.872078</td>\n",
              "      <td>2.832752</td>\n",
              "      <td>1.0</td>\n",
              "      <td>2.0</td>\n",
              "      <td>2.0</td>\n",
              "      <td>3.0</td>\n",
              "      <td>307.0</td>\n",
              "    </tr>\n",
              "    <tr>\n",
              "      <th>num_idade_dias</th>\n",
              "      <td>144862.0</td>\n",
              "      <td>768.292568</td>\n",
              "      <td>501.739341</td>\n",
              "      <td>0.0</td>\n",
              "      <td>333.0</td>\n",
              "      <td>682.0</td>\n",
              "      <td>1166.0</td>\n",
              "      <td>1826.0</td>\n",
              "    </tr>\n",
              "  </tbody>\n",
              "</table>\n",
              "</div>\n",
              "    <div class=\"colab-df-buttons\">\n",
              "\n",
              "  <div class=\"colab-df-container\">\n",
              "    <button class=\"colab-df-convert\" onclick=\"convertToInteractive('df-0201f710-f31b-413a-9725-7344586d46a5')\"\n",
              "            title=\"Convert this dataframe to an interactive table.\"\n",
              "            style=\"display:none;\">\n",
              "\n",
              "  <svg xmlns=\"http://www.w3.org/2000/svg\" height=\"24px\" viewBox=\"0 -960 960 960\">\n",
              "    <path d=\"M120-120v-720h720v720H120Zm60-500h600v-160H180v160Zm220 220h160v-160H400v160Zm0 220h160v-160H400v160ZM180-400h160v-160H180v160Zm440 0h160v-160H620v160ZM180-180h160v-160H180v160Zm440 0h160v-160H620v160Z\"/>\n",
              "  </svg>\n",
              "    </button>\n",
              "\n",
              "  <style>\n",
              "    .colab-df-container {\n",
              "      display:flex;\n",
              "      gap: 12px;\n",
              "    }\n",
              "\n",
              "    .colab-df-convert {\n",
              "      background-color: #E8F0FE;\n",
              "      border: none;\n",
              "      border-radius: 50%;\n",
              "      cursor: pointer;\n",
              "      display: none;\n",
              "      fill: #1967D2;\n",
              "      height: 32px;\n",
              "      padding: 0 0 0 0;\n",
              "      width: 32px;\n",
              "    }\n",
              "\n",
              "    .colab-df-convert:hover {\n",
              "      background-color: #E2EBFA;\n",
              "      box-shadow: 0px 1px 2px rgba(60, 64, 67, 0.3), 0px 1px 3px 1px rgba(60, 64, 67, 0.15);\n",
              "      fill: #174EA6;\n",
              "    }\n",
              "\n",
              "    .colab-df-buttons div {\n",
              "      margin-bottom: 4px;\n",
              "    }\n",
              "\n",
              "    [theme=dark] .colab-df-convert {\n",
              "      background-color: #3B4455;\n",
              "      fill: #D2E3FC;\n",
              "    }\n",
              "\n",
              "    [theme=dark] .colab-df-convert:hover {\n",
              "      background-color: #434B5C;\n",
              "      box-shadow: 0px 1px 3px 1px rgba(0, 0, 0, 0.15);\n",
              "      filter: drop-shadow(0px 1px 2px rgba(0, 0, 0, 0.3));\n",
              "      fill: #FFFFFF;\n",
              "    }\n",
              "  </style>\n",
              "\n",
              "    <script>\n",
              "      const buttonEl =\n",
              "        document.querySelector('#df-0201f710-f31b-413a-9725-7344586d46a5 button.colab-df-convert');\n",
              "      buttonEl.style.display =\n",
              "        google.colab.kernel.accessAllowed ? 'block' : 'none';\n",
              "\n",
              "      async function convertToInteractive(key) {\n",
              "        const element = document.querySelector('#df-0201f710-f31b-413a-9725-7344586d46a5');\n",
              "        const dataTable =\n",
              "          await google.colab.kernel.invokeFunction('convertToInteractive',\n",
              "                                                    [key], {});\n",
              "        if (!dataTable) return;\n",
              "\n",
              "        const docLinkHtml = 'Like what you see? Visit the ' +\n",
              "          '<a target=\"_blank\" href=https://colab.research.google.com/notebooks/data_table.ipynb>data table notebook</a>'\n",
              "          + ' to learn more about interactive tables.';\n",
              "        element.innerHTML = '';\n",
              "        dataTable['output_type'] = 'display_data';\n",
              "        await google.colab.output.renderOutput(dataTable, element);\n",
              "        const docLink = document.createElement('div');\n",
              "        docLink.innerHTML = docLinkHtml;\n",
              "        element.appendChild(docLink);\n",
              "      }\n",
              "    </script>\n",
              "  </div>\n",
              "\n",
              "\n",
              "    <div id=\"df-a31ccca9-ffaf-4dd9-8492-85b4b0a04f5a\">\n",
              "      <button class=\"colab-df-quickchart\" onclick=\"quickchart('df-a31ccca9-ffaf-4dd9-8492-85b4b0a04f5a')\"\n",
              "                title=\"Suggest charts\"\n",
              "                style=\"display:none;\">\n",
              "\n",
              "<svg xmlns=\"http://www.w3.org/2000/svg\" height=\"24px\"viewBox=\"0 0 24 24\"\n",
              "     width=\"24px\">\n",
              "    <g>\n",
              "        <path d=\"M19 3H5c-1.1 0-2 .9-2 2v14c0 1.1.9 2 2 2h14c1.1 0 2-.9 2-2V5c0-1.1-.9-2-2-2zM9 17H7v-7h2v7zm4 0h-2V7h2v10zm4 0h-2v-4h2v4z\"/>\n",
              "    </g>\n",
              "</svg>\n",
              "      </button>\n",
              "\n",
              "<style>\n",
              "  .colab-df-quickchart {\n",
              "      --bg-color: #E8F0FE;\n",
              "      --fill-color: #1967D2;\n",
              "      --hover-bg-color: #E2EBFA;\n",
              "      --hover-fill-color: #174EA6;\n",
              "      --disabled-fill-color: #AAA;\n",
              "      --disabled-bg-color: #DDD;\n",
              "  }\n",
              "\n",
              "  [theme=dark] .colab-df-quickchart {\n",
              "      --bg-color: #3B4455;\n",
              "      --fill-color: #D2E3FC;\n",
              "      --hover-bg-color: #434B5C;\n",
              "      --hover-fill-color: #FFFFFF;\n",
              "      --disabled-bg-color: #3B4455;\n",
              "      --disabled-fill-color: #666;\n",
              "  }\n",
              "\n",
              "  .colab-df-quickchart {\n",
              "    background-color: var(--bg-color);\n",
              "    border: none;\n",
              "    border-radius: 50%;\n",
              "    cursor: pointer;\n",
              "    display: none;\n",
              "    fill: var(--fill-color);\n",
              "    height: 32px;\n",
              "    padding: 0;\n",
              "    width: 32px;\n",
              "  }\n",
              "\n",
              "  .colab-df-quickchart:hover {\n",
              "    background-color: var(--hover-bg-color);\n",
              "    box-shadow: 0 1px 2px rgba(60, 64, 67, 0.3), 0 1px 3px 1px rgba(60, 64, 67, 0.15);\n",
              "    fill: var(--button-hover-fill-color);\n",
              "  }\n",
              "\n",
              "  .colab-df-quickchart-complete:disabled,\n",
              "  .colab-df-quickchart-complete:disabled:hover {\n",
              "    background-color: var(--disabled-bg-color);\n",
              "    fill: var(--disabled-fill-color);\n",
              "    box-shadow: none;\n",
              "  }\n",
              "\n",
              "  .colab-df-spinner {\n",
              "    border: 2px solid var(--fill-color);\n",
              "    border-color: transparent;\n",
              "    border-bottom-color: var(--fill-color);\n",
              "    animation:\n",
              "      spin 1s steps(1) infinite;\n",
              "  }\n",
              "\n",
              "  @keyframes spin {\n",
              "    0% {\n",
              "      border-color: transparent;\n",
              "      border-bottom-color: var(--fill-color);\n",
              "      border-left-color: var(--fill-color);\n",
              "    }\n",
              "    20% {\n",
              "      border-color: transparent;\n",
              "      border-left-color: var(--fill-color);\n",
              "      border-top-color: var(--fill-color);\n",
              "    }\n",
              "    30% {\n",
              "      border-color: transparent;\n",
              "      border-left-color: var(--fill-color);\n",
              "      border-top-color: var(--fill-color);\n",
              "      border-right-color: var(--fill-color);\n",
              "    }\n",
              "    40% {\n",
              "      border-color: transparent;\n",
              "      border-right-color: var(--fill-color);\n",
              "      border-top-color: var(--fill-color);\n",
              "    }\n",
              "    60% {\n",
              "      border-color: transparent;\n",
              "      border-right-color: var(--fill-color);\n",
              "    }\n",
              "    80% {\n",
              "      border-color: transparent;\n",
              "      border-right-color: var(--fill-color);\n",
              "      border-bottom-color: var(--fill-color);\n",
              "    }\n",
              "    90% {\n",
              "      border-color: transparent;\n",
              "      border-bottom-color: var(--fill-color);\n",
              "    }\n",
              "  }\n",
              "</style>\n",
              "\n",
              "      <script>\n",
              "        async function quickchart(key) {\n",
              "          const quickchartButtonEl =\n",
              "            document.querySelector('#' + key + ' button');\n",
              "          quickchartButtonEl.disabled = true;  // To prevent multiple clicks.\n",
              "          quickchartButtonEl.classList.add('colab-df-spinner');\n",
              "          try {\n",
              "            const charts = await google.colab.kernel.invokeFunction(\n",
              "                'suggestCharts', [key], {});\n",
              "          } catch (error) {\n",
              "            console.error('Error during call to suggestCharts:', error);\n",
              "          }\n",
              "          quickchartButtonEl.classList.remove('colab-df-spinner');\n",
              "          quickchartButtonEl.classList.add('colab-df-quickchart-complete');\n",
              "        }\n",
              "        (() => {\n",
              "          let quickchartButtonEl =\n",
              "            document.querySelector('#df-a31ccca9-ffaf-4dd9-8492-85b4b0a04f5a button');\n",
              "          quickchartButtonEl.style.display =\n",
              "            google.colab.kernel.accessAllowed ? 'block' : 'none';\n",
              "        })();\n",
              "      </script>\n",
              "    </div>\n",
              "\n",
              "    </div>\n",
              "  </div>\n"
            ],
            "application/vnd.google.colaboratory.intrinsic+json": {
              "type": "dataframe",
              "summary": "{\n  \"name\": \"X_train[numeric_features]\",\n  \"rows\": 2,\n  \"fields\": [\n    {\n      \"column\": \"count\",\n      \"properties\": {\n        \"dtype\": \"number\",\n        \"std\": 0.0,\n        \"min\": 144862.0,\n        \"max\": 144862.0,\n        \"num_unique_values\": 1,\n        \"samples\": [\n          144862.0\n        ],\n        \"semantic_type\": \"\",\n        \"description\": \"\"\n      }\n    },\n    {\n      \"column\": \"mean\",\n      \"properties\": {\n        \"dtype\": \"number\",\n        \"std\": 541.2340188288878,\n        \"min\": 2.8720782537863623,\n        \"max\": 768.2925680992945,\n        \"num_unique_values\": 2,\n        \"samples\": [\n          768.2925680992945\n        ],\n        \"semantic_type\": \"\",\n        \"description\": \"\"\n      }\n    },\n    {\n      \"column\": \"std\",\n      \"properties\": {\n        \"dtype\": \"number\",\n        \"std\": 352.7802328452996,\n        \"min\": 2.832751659837261,\n        \"max\": 501.7393414867984,\n        \"num_unique_values\": 2,\n        \"samples\": [\n          501.7393414867984\n        ],\n        \"semantic_type\": \"\",\n        \"description\": \"\"\n      }\n    },\n    {\n      \"column\": \"min\",\n      \"properties\": {\n        \"dtype\": \"number\",\n        \"std\": 0.7071067811865476,\n        \"min\": 0.0,\n        \"max\": 1.0,\n        \"num_unique_values\": 2,\n        \"samples\": [\n          0.0\n        ],\n        \"semantic_type\": \"\",\n        \"description\": \"\"\n      }\n    },\n    {\n      \"column\": \"25%\",\n      \"properties\": {\n        \"dtype\": \"number\",\n        \"std\": 234.05234457274722,\n        \"min\": 2.0,\n        \"max\": 333.0,\n        \"num_unique_values\": 2,\n        \"samples\": [\n          333.0\n        ],\n        \"semantic_type\": \"\",\n        \"description\": \"\"\n      }\n    },\n    {\n      \"column\": \"50%\",\n      \"properties\": {\n        \"dtype\": \"number\",\n        \"std\": 480.83261120685233,\n        \"min\": 2.0,\n        \"max\": 682.0,\n        \"num_unique_values\": 2,\n        \"samples\": [\n          682.0\n        ],\n        \"semantic_type\": \"\",\n        \"description\": \"\"\n      }\n    },\n    {\n      \"column\": \"75%\",\n      \"properties\": {\n        \"dtype\": \"number\",\n        \"std\": 822.3651865199548,\n        \"min\": 3.0,\n        \"max\": 1166.0,\n        \"num_unique_values\": 2,\n        \"samples\": [\n          1166.0\n        ],\n        \"semantic_type\": \"\",\n        \"description\": \"\"\n      }\n    },\n    {\n      \"column\": \"max\",\n      \"properties\": {\n        \"dtype\": \"number\",\n        \"std\": 1074.0952006223656,\n        \"min\": 307.0,\n        \"max\": 1826.0,\n        \"num_unique_values\": 2,\n        \"samples\": [\n          1826.0\n        ],\n        \"semantic_type\": \"\",\n        \"description\": \"\"\n      }\n    }\n  ]\n}"
            }
          },
          "metadata": {},
          "execution_count": 35
        }
      ],
      "source": [
        "X_train[numeric_features].describe().transpose()"
      ]
    },
    {
      "cell_type": "markdown",
      "id": "4d03ae2c-777f-444c-b1ee-35219f647edc",
      "metadata": {
        "id": "4d03ae2c-777f-444c-b1ee-35219f647edc"
      },
      "source": [
        "#### Box-plots"
      ]
    },
    {
      "cell_type": "code",
      "execution_count": null,
      "id": "a083f347-8c23-4bfd-a8e4-045c84d92cf7",
      "metadata": {
        "colab": {
          "base_uri": "https://localhost:8080/",
          "height": 247
        },
        "id": "a083f347-8c23-4bfd-a8e4-045c84d92cf7",
        "outputId": "a810bcf3-bf9f-4e89-d456-412d77c67c4c"
      },
      "outputs": [
        {
          "output_type": "display_data",
          "data": {
            "text/plain": [
              "<Figure size 1000x400 with 2 Axes>"
            ],
            "image/png": "[encoded data removed]"
          },
          "metadata": {}
        }
      ],
      "source": [
        "plt.figure(figsize=(10, 4))\n",
        "\n",
        "for i, feature in enumerate(numeric_features, 1):\n",
        "    plt.subplot(2, 2, i)  # Use a flat index and start from 1\n",
        "    sns.boxplot(x=X_train[feature])\n",
        "    plt.title(f'Box plot of {feature}')\n",
        "\n",
        "plt.tight_layout()\n",
        "plt.show()"
      ]
    },
    {
      "cell_type": "markdown",
      "id": "52c5d483-e2bb-4d16-89f1-3b1f444c8c53",
      "metadata": {
        "id": "52c5d483-e2bb-4d16-89f1-3b1f444c8c53"
      },
      "source": [
        "#### Histogramas"
      ]
    },
    {
      "cell_type": "code",
      "execution_count": null,
      "id": "5cdc1c1a-5f5a-4612-85c9-0999ac59a350",
      "metadata": {
        "colab": {
          "base_uri": "https://localhost:8080/",
          "height": 237
        },
        "id": "5cdc1c1a-5f5a-4612-85c9-0999ac59a350",
        "outputId": "d66bb4b5-5aaf-4692-8f52-95ba78b7d938"
      },
      "outputs": [
        {
          "output_type": "display_data",
          "data": {
            "text/plain": [
              "<Figure size 1000x400 with 2 Axes>"
            ],
            "image/png": "[encoded data removed]"
          },
          "metadata": {}
        }
      ],
      "source": [
        "plt.figure(figsize=(10, 4))\n",
        "\n",
        "for i, feature in enumerate(numeric_features, 1):\n",
        "    plt.subplot(2, 2, i)  # Use a flat index and start from 1\n",
        "    X_train[feature].hist()\n",
        "    plt.title(f'Histogram of {feature}')\n",
        "\n",
        "plt.tight_layout()\n",
        "plt.show()"
      ]
    },
    {
      "cell_type": "markdown",
      "id": "53f38f0a-162b-4b25-b5fa-19692b05cb99",
      "metadata": {
        "id": "53f38f0a-162b-4b25-b5fa-19692b05cb99"
      },
      "source": [
        "#### Identificar o valor discrepante da idade"
      ]
    },
    {
      "cell_type": "code",
      "execution_count": null,
      "id": "360fafc5-7695-43f6-919f-694cded39c02",
      "metadata": {
        "colab": {
          "base_uri": "https://localhost:8080/"
        },
        "id": "360fafc5-7695-43f6-919f-694cded39c02",
        "outputId": "f96e4d3f-b708-42fd-c047-3680cbf2a181"
      },
      "outputs": [
        {
          "output_type": "execute_result",
          "data": {
            "text/plain": [
              "         regiao_Norte  regiao_Nordeste  regiao_Sudeste  regiao_Sul  \\\n",
              "748835              0                1               0           0   \n",
              "366867              0                1               0           0   \n",
              "29851               1                0               0           0   \n",
              "1182705             0                0               1           0   \n",
              "775383              0                1               0           0   \n",
              "...               ...              ...             ...         ...   \n",
              "1345310             0                0               0           1   \n",
              "1530166             0                0               0           0   \n",
              "399447              0                1               0           0   \n",
              "762000              0                1               0           0   \n",
              "971185              0                0               1           0   \n",
              "\n",
              "         regiao_Centro-Oeste  diag_cat_5.0  diag_cat_8.0  diag_cat_2.0  \\\n",
              "748835                     0             0             0             0   \n",
              "366867                     0             0             0             0   \n",
              "29851                      0             0             0             0   \n",
              "1182705                    0             0             1             0   \n",
              "775383                     0             0             0             0   \n",
              "...                      ...           ...           ...           ...   \n",
              "1345310                    0             0             0             1   \n",
              "1530166                    1             0             0             0   \n",
              "399447                     0             0             0             0   \n",
              "762000                     0             0             0             1   \n",
              "971185                     0             0             0             0   \n",
              "\n",
              "         diag_cat_7.0  diag_cat_15.0  ...  diag_cat_12.0  num_idade_dias  \\\n",
              "748835              0              1  ...              0            1080   \n",
              "366867              0              0  ...              0             504   \n",
              "29851               1              0  ...              0             821   \n",
              "1182705             0              0  ...              0               0   \n",
              "775383              1              0  ...              0             695   \n",
              "...               ...            ...  ...            ...             ...   \n",
              "1345310             0              0  ...              0             149   \n",
              "1530166             0              0  ...              0              91   \n",
              "399447              0              0  ...              0             200   \n",
              "762000              0              0  ...              0             685   \n",
              "971185              0              0  ...              0             339   \n",
              "\n",
              "         dias_int1  natureza_P?blico  natureza_Privado SFL  natureza_Privado  \\\n",
              "748835  156.000000                 1                     0                 0   \n",
              "366867  120.000000                 1                     0                 0   \n",
              "29851   152.000000                 1                     0                 0   \n",
              "1182705 193.000000                 1                     0                 0   \n",
              "775383  184.000000                 0                     1                 0   \n",
              "...            ...               ...                   ...               ...   \n",
              "1345310 337.000000                 0                     1                 0   \n",
              "1530166 123.000000                 1                     0                 0   \n",
              "399447  127.000000                 0                     1                 0   \n",
              "762000  155.000000                 0                     0                 1   \n",
              "971185  136.000000                 0                     0                 1   \n",
              "\n",
              "         natureza_nan  missing_natureza  ap_sexo_M  status_resi_resi  \n",
              "748835              0                 0          0                 1  \n",
              "366867              0                 0          1                 1  \n",
              "29851               0                 0          1                 1  \n",
              "1182705             0                 0          1                 1  \n",
              "775383              0                 0          1                 1  \n",
              "...               ...               ...        ...               ...  \n",
              "1345310             0                 0          0                 1  \n",
              "1530166             0                 0          1                 1  \n",
              "399447              0                 0          0                 1  \n",
              "762000              0                 0          1                 1  \n",
              "971185              0                 0          1                 1  \n",
              "\n",
              "[166 rows x 33 columns]"
            ],
            "text/html": [
              "\n",
              "  <div id=\"df-5aad8a7c-406c-4374-ac0b-ab1e5d4ceac9\" class=\"colab-df-container\">\n",
              "    <div>\n",
              "<style scoped>\n",
              "    .dataframe tbody tr th:only-of-type {\n",
              "        vertical-align: middle;\n",
              "    }\n",
              "\n",
              "    .dataframe tbody tr th {\n",
              "        vertical-align: top;\n",
              "    }\n",
              "\n",
              "    .dataframe thead th {\n",
              "        text-align: right;\n",
              "    }\n",
              "</style>\n",
              "<table border=\"1\" class=\"dataframe\">\n",
              "  <thead>\n",
              "    <tr style=\"text-align: right;\">\n",
              "      <th></th>\n",
              "      <th>regiao_Norte</th>\n",
              "      <th>regiao_Nordeste</th>\n",
              "      <th>regiao_Sudeste</th>\n",
              "      <th>regiao_Sul</th>\n",
              "      <th>regiao_Centro-Oeste</th>\n",
              "      <th>diag_cat_5.0</th>\n",
              "      <th>diag_cat_8.0</th>\n",
              "      <th>diag_cat_2.0</th>\n",
              "      <th>diag_cat_7.0</th>\n",
              "      <th>diag_cat_15.0</th>\n",
              "      <th>...</th>\n",
              "      <th>diag_cat_12.0</th>\n",
              "      <th>num_idade_dias</th>\n",
              "      <th>dias_int1</th>\n",
              "      <th>natureza_P?blico</th>\n",
              "      <th>natureza_Privado SFL</th>\n",
              "      <th>natureza_Privado</th>\n",
              "      <th>natureza_nan</th>\n",
              "      <th>missing_natureza</th>\n",
              "      <th>ap_sexo_M</th>\n",
              "      <th>status_resi_resi</th>\n",
              "    </tr>\n",
              "  </thead>\n",
              "  <tbody>\n",
              "    <tr>\n",
              "      <th>748835</th>\n",
              "      <td>0</td>\n",
              "      <td>1</td>\n",
              "      <td>0</td>\n",
              "      <td>0</td>\n",
              "      <td>0</td>\n",
              "      <td>0</td>\n",
              "      <td>0</td>\n",
              "      <td>0</td>\n",
              "      <td>0</td>\n",
              "      <td>1</td>\n",
              "      <td>...</td>\n",
              "      <td>0</td>\n",
              "      <td>1080</td>\n",
              "      <td>156.000000</td>\n",
              "      <td>1</td>\n",
              "      <td>0</td>\n",
              "      <td>0</td>\n",
              "      <td>0</td>\n",
              "      <td>0</td>\n",
              "      <td>0</td>\n",
              "      <td>1</td>\n",
              "    </tr>\n",
              "    <tr>\n",
              "      <th>366867</th>\n",
              "      <td>0</td>\n",
              "      <td>1</td>\n",
              "      <td>0</td>\n",
              "      <td>0</td>\n",
              "      <td>0</td>\n",
              "      <td>0</td>\n",
              "      <td>0</td>\n",
              "      <td>0</td>\n",
              "      <td>0</td>\n",
              "      <td>0</td>\n",
              "      <td>...</td>\n",
              "      <td>0</td>\n",
              "      <td>504</td>\n",
              "      <td>120.000000</td>\n",
              "      <td>1</td>\n",
              "      <td>0</td>\n",
              "      <td>0</td>\n",
              "      <td>0</td>\n",
              "      <td>0</td>\n",
              "      <td>1</td>\n",
              "      <td>1</td>\n",
              "    </tr>\n",
              "    <tr>\n",
              "      <th>29851</th>\n",
              "      <td>1</td>\n",
              "      <td>0</td>\n",
              "      <td>0</td>\n",
              "      <td>0</td>\n",
              "      <td>0</td>\n",
              "      <td>0</td>\n",
              "      <td>0</td>\n",
              "      <td>0</td>\n",
              "      <td>1</td>\n",
              "      <td>0</td>\n",
              "      <td>...</td>\n",
              "      <td>0</td>\n",
              "      <td>821</td>\n",
              "      <td>152.000000</td>\n",
              "      <td>1</td>\n",
              "      <td>0</td>\n",
              "      <td>0</td>\n",
              "      <td>0</td>\n",
              "      <td>0</td>\n",
              "      <td>1</td>\n",
              "      <td>1</td>\n",
              "    </tr>\n",
              "    <tr>\n",
              "      <th>1182705</th>\n",
              "      <td>0</td>\n",
              "      <td>0</td>\n",
              "      <td>1</td>\n",
              "      <td>0</td>\n",
              "      <td>0</td>\n",
              "      <td>0</td>\n",
              "      <td>1</td>\n",
              "      <td>0</td>\n",
              "      <td>0</td>\n",
              "      <td>0</td>\n",
              "      <td>...</td>\n",
              "      <td>0</td>\n",
              "      <td>0</td>\n",
              "      <td>193.000000</td>\n",
              "      <td>1</td>\n",
              "      <td>0</td>\n",
              "      <td>0</td>\n",
              "      <td>0</td>\n",
              "      <td>0</td>\n",
              "      <td>1</td>\n",
              "      <td>1</td>\n",
              "    </tr>\n",
              "    <tr>\n",
              "      <th>775383</th>\n",
              "      <td>0</td>\n",
              "      <td>1</td>\n",
              "      <td>0</td>\n",
              "      <td>0</td>\n",
              "      <td>0</td>\n",
              "      <td>0</td>\n",
              "      <td>0</td>\n",
              "      <td>0</td>\n",
              "      <td>1</td>\n",
              "      <td>0</td>\n",
              "      <td>...</td>\n",
              "      <td>0</td>\n",
              "      <td>695</td>\n",
              "      <td>184.000000</td>\n",
              "      <td>0</td>\n",
              "      <td>1</td>\n",
              "      <td>0</td>\n",
              "      <td>0</td>\n",
              "      <td>0</td>\n",
              "      <td>1</td>\n",
              "      <td>1</td>\n",
              "    </tr>\n",
              "    <tr>\n",
              "      <th>...</th>\n",
              "      <td>...</td>\n",
              "      <td>...</td>\n",
              "      <td>...</td>\n",
              "      <td>...</td>\n",
              "      <td>...</td>\n",
              "      <td>...</td>\n",
              "      <td>...</td>\n",
              "      <td>...</td>\n",
              "      <td>...</td>\n",
              "      <td>...</td>\n",
              "      <td>...</td>\n",
              "      <td>...</td>\n",
              "      <td>...</td>\n",
              "      <td>...</td>\n",
              "      <td>...</td>\n",
              "      <td>...</td>\n",
              "      <td>...</td>\n",
              "      <td>...</td>\n",
              "      <td>...</td>\n",
              "      <td>...</td>\n",
              "      <td>...</td>\n",
              "    </tr>\n",
              "    <tr>\n",
              "      <th>1345310</th>\n",
              "      <td>0</td>\n",
              "      <td>0</td>\n",
              "      <td>0</td>\n",
              "      <td>1</td>\n",
              "      <td>0</td>\n",
              "      <td>0</td>\n",
              "      <td>0</td>\n",
              "      <td>1</td>\n",
              "      <td>0</td>\n",
              "      <td>0</td>\n",
              "      <td>...</td>\n",
              "      <td>0</td>\n",
              "      <td>149</td>\n",
              "      <td>337.000000</td>\n",
              "      <td>0</td>\n",
              "      <td>1</td>\n",
              "      <td>0</td>\n",
              "      <td>0</td>\n",
              "      <td>0</td>\n",
              "      <td>0</td>\n",
              "      <td>1</td>\n",
              "    </tr>\n",
              "    <tr>\n",
              "      <th>1530166</th>\n",
              "      <td>0</td>\n",
              "      <td>0</td>\n",
              "      <td>0</td>\n",
              "      <td>0</td>\n",
              "      <td>1</td>\n",
              "      <td>0</td>\n",
              "      <td>0</td>\n",
              "      <td>0</td>\n",
              "      <td>0</td>\n",
              "      <td>0</td>\n",
              "      <td>...</td>\n",
              "      <td>0</td>\n",
              "      <td>91</td>\n",
              "      <td>123.000000</td>\n",
              "      <td>1</td>\n",
              "      <td>0</td>\n",
              "      <td>0</td>\n",
              "      <td>0</td>\n",
              "      <td>0</td>\n",
              "      <td>1</td>\n",
              "      <td>1</td>\n",
              "    </tr>\n",
              "    <tr>\n",
              "      <th>399447</th>\n",
              "      <td>0</td>\n",
              "      <td>1</td>\n",
              "      <td>0</td>\n",
              "      <td>0</td>\n",
              "      <td>0</td>\n",
              "      <td>0</td>\n",
              "      <td>0</td>\n",
              "      <td>0</td>\n",
              "      <td>0</td>\n",
              "      <td>0</td>\n",
              "      <td>...</td>\n",
              "      <td>0</td>\n",
              "      <td>200</td>\n",
              "      <td>127.000000</td>\n",
              "      <td>0</td>\n",
              "      <td>1</td>\n",
              "      <td>0</td>\n",
              "      <td>0</td>\n",
              "      <td>0</td>\n",
              "      <td>0</td>\n",
              "      <td>1</td>\n",
              "    </tr>\n",
              "    <tr>\n",
              "      <th>762000</th>\n",
              "      <td>0</td>\n",
              "      <td>1</td>\n",
              "      <td>0</td>\n",
              "      <td>0</td>\n",
              "      <td>0</td>\n",
              "      <td>0</td>\n",
              "      <td>0</td>\n",
              "      <td>1</td>\n",
              "      <td>0</td>\n",
              "      <td>0</td>\n",
              "      <td>...</td>\n",
              "      <td>0</td>\n",
              "      <td>685</td>\n",
              "      <td>155.000000</td>\n",
              "      <td>0</td>\n",
              "      <td>0</td>\n",
              "      <td>1</td>\n",
              "      <td>0</td>\n",
              "      <td>0</td>\n",
              "      <td>1</td>\n",
              "      <td>1</td>\n",
              "    </tr>\n",
              "    <tr>\n",
              "      <th>971185</th>\n",
              "      <td>0</td>\n",
              "      <td>0</td>\n",
              "      <td>1</td>\n",
              "      <td>0</td>\n",
              "      <td>0</td>\n",
              "      <td>0</td>\n",
              "      <td>0</td>\n",
              "      <td>0</td>\n",
              "      <td>0</td>\n",
              "      <td>0</td>\n",
              "      <td>...</td>\n",
              "      <td>0</td>\n",
              "      <td>339</td>\n",
              "      <td>136.000000</td>\n",
              "      <td>0</td>\n",
              "      <td>0</td>\n",
              "      <td>1</td>\n",
              "      <td>0</td>\n",
              "      <td>0</td>\n",
              "      <td>1</td>\n",
              "      <td>1</td>\n",
              "    </tr>\n",
              "  </tbody>\n",
              "</table>\n",
              "<p>166 rows × 33 columns</p>\n",
              "</div>\n",
              "    <div class=\"colab-df-buttons\">\n",
              "\n",
              "  <div class=\"colab-df-container\">\n",
              "    <button class=\"colab-df-convert\" onclick=\"convertToInteractive('df-5aad8a7c-406c-4374-ac0b-ab1e5d4ceac9')\"\n",
              "            title=\"Convert this dataframe to an interactive table.\"\n",
              "            style=\"display:none;\">\n",
              "\n",
              "  <svg xmlns=\"http://www.w3.org/2000/svg\" height=\"24px\" viewBox=\"0 -960 960 960\">\n",
              "    <path d=\"M120-120v-720h720v720H120Zm60-500h600v-160H180v160Zm220 220h160v-160H400v160Zm0 220h160v-160H400v160ZM180-400h160v-160H180v160Zm440 0h160v-160H620v160ZM180-180h160v-160H180v160Zm440 0h160v-160H620v160Z\"/>\n",
              "  </svg>\n",
              "    </button>\n",
              "\n",
              "  <style>\n",
              "    .colab-df-container {\n",
              "      display:flex;\n",
              "      gap: 12px;\n",
              "    }\n",
              "\n",
              "    .colab-df-convert {\n",
              "      background-color: #E8F0FE;\n",
              "      border: none;\n",
              "      border-radius: 50%;\n",
              "      cursor: pointer;\n",
              "      display: none;\n",
              "      fill: #1967D2;\n",
              "      height: 32px;\n",
              "      padding: 0 0 0 0;\n",
              "      width: 32px;\n",
              "    }\n",
              "\n",
              "    .colab-df-convert:hover {\n",
              "      background-color: #E2EBFA;\n",
              "      box-shadow: 0px 1px 2px rgba(60, 64, 67, 0.3), 0px 1px 3px 1px rgba(60, 64, 67, 0.15);\n",
              "      fill: #174EA6;\n",
              "    }\n",
              "\n",
              "    .colab-df-buttons div {\n",
              "      margin-bottom: 4px;\n",
              "    }\n",
              "\n",
              "    [theme=dark] .colab-df-convert {\n",
              "      background-color: #3B4455;\n",
              "      fill: #D2E3FC;\n",
              "    }\n",
              "\n",
              "    [theme=dark] .colab-df-convert:hover {\n",
              "      background-color: #434B5C;\n",
              "      box-shadow: 0px 1px 3px 1px rgba(0, 0, 0, 0.15);\n",
              "      filter: drop-shadow(0px 1px 2px rgba(0, 0, 0, 0.3));\n",
              "      fill: #FFFFFF;\n",
              "    }\n",
              "  </style>\n",
              "\n",
              "    <script>\n",
              "      const buttonEl =\n",
              "        document.querySelector('#df-5aad8a7c-406c-4374-ac0b-ab1e5d4ceac9 button.colab-df-convert');\n",
              "      buttonEl.style.display =\n",
              "        google.colab.kernel.accessAllowed ? 'block' : 'none';\n",
              "\n",
              "      async function convertToInteractive(key) {\n",
              "        const element = document.querySelector('#df-5aad8a7c-406c-4374-ac0b-ab1e5d4ceac9');\n",
              "        const dataTable =\n",
              "          await google.colab.kernel.invokeFunction('convertToInteractive',\n",
              "                                                    [key], {});\n",
              "        if (!dataTable) return;\n",
              "\n",
              "        const docLinkHtml = 'Like what you see? Visit the ' +\n",
              "          '<a target=\"_blank\" href=https://colab.research.google.com/notebooks/data_table.ipynb>data table notebook</a>'\n",
              "          + ' to learn more about interactive tables.';\n",
              "        element.innerHTML = '';\n",
              "        dataTable['output_type'] = 'display_data';\n",
              "        await google.colab.output.renderOutput(dataTable, element);\n",
              "        const docLink = document.createElement('div');\n",
              "        docLink.innerHTML = docLinkHtml;\n",
              "        element.appendChild(docLink);\n",
              "      }\n",
              "    </script>\n",
              "  </div>\n",
              "\n",
              "\n",
              "    <div id=\"df-d52a8814-8a30-43d3-8c4f-3da861602b60\">\n",
              "      <button class=\"colab-df-quickchart\" onclick=\"quickchart('df-d52a8814-8a30-43d3-8c4f-3da861602b60')\"\n",
              "                title=\"Suggest charts\"\n",
              "                style=\"display:none;\">\n",
              "\n",
              "<svg xmlns=\"http://www.w3.org/2000/svg\" height=\"24px\"viewBox=\"0 0 24 24\"\n",
              "     width=\"24px\">\n",
              "    <g>\n",
              "        <path d=\"M19 3H5c-1.1 0-2 .9-2 2v14c0 1.1.9 2 2 2h14c1.1 0 2-.9 2-2V5c0-1.1-.9-2-2-2zM9 17H7v-7h2v7zm4 0h-2V7h2v10zm4 0h-2v-4h2v4z\"/>\n",
              "    </g>\n",
              "</svg>\n",
              "      </button>\n",
              "\n",
              "<style>\n",
              "  .colab-df-quickchart {\n",
              "      --bg-color: #E8F0FE;\n",
              "      --fill-color: #1967D2;\n",
              "      --hover-bg-color: #E2EBFA;\n",
              "      --hover-fill-color: #174EA6;\n",
              "      --disabled-fill-color: #AAA;\n",
              "      --disabled-bg-color: #DDD;\n",
              "  }\n",
              "\n",
              "  [theme=dark] .colab-df-quickchart {\n",
              "      --bg-color: #3B4455;\n",
              "      --fill-color: #D2E3FC;\n",
              "      --hover-bg-color: #434B5C;\n",
              "      --hover-fill-color: #FFFFFF;\n",
              "      --disabled-bg-color: #3B4455;\n",
              "      --disabled-fill-color: #666;\n",
              "  }\n",
              "\n",
              "  .colab-df-quickchart {\n",
              "    background-color: var(--bg-color);\n",
              "    border: none;\n",
              "    border-radius: 50%;\n",
              "    cursor: pointer;\n",
              "    display: none;\n",
              "    fill: var(--fill-color);\n",
              "    height: 32px;\n",
              "    padding: 0;\n",
              "    width: 32px;\n",
              "  }\n",
              "\n",
              "  .colab-df-quickchart:hover {\n",
              "    background-color: var(--hover-bg-color);\n",
              "    box-shadow: 0 1px 2px rgba(60, 64, 67, 0.3), 0 1px 3px 1px rgba(60, 64, 67, 0.15);\n",
              "    fill: var(--button-hover-fill-color);\n",
              "  }\n",
              "\n",
              "  .colab-df-quickchart-complete:disabled,\n",
              "  .colab-df-quickchart-complete:disabled:hover {\n",
              "    background-color: var(--disabled-bg-color);\n",
              "    fill: var(--disabled-fill-color);\n",
              "    box-shadow: none;\n",
              "  }\n",
              "\n",
              "  .colab-df-spinner {\n",
              "    border: 2px solid var(--fill-color);\n",
              "    border-color: transparent;\n",
              "    border-bottom-color: var(--fill-color);\n",
              "    animation:\n",
              "      spin 1s steps(1) infinite;\n",
              "  }\n",
              "\n",
              "  @keyframes spin {\n",
              "    0% {\n",
              "      border-color: transparent;\n",
              "      border-bottom-color: var(--fill-color);\n",
              "      border-left-color: var(--fill-color);\n",
              "    }\n",
              "    20% {\n",
              "      border-color: transparent;\n",
              "      border-left-color: var(--fill-color);\n",
              "      border-top-color: var(--fill-color);\n",
              "    }\n",
              "    30% {\n",
              "      border-color: transparent;\n",
              "      border-left-color: var(--fill-color);\n",
              "      border-top-color: var(--fill-color);\n",
              "      border-right-color: var(--fill-color);\n",
              "    }\n",
              "    40% {\n",
              "      border-color: transparent;\n",
              "      border-right-color: var(--fill-color);\n",
              "      border-top-color: var(--fill-color);\n",
              "    }\n",
              "    60% {\n",
              "      border-color: transparent;\n",
              "      border-right-color: var(--fill-color);\n",
              "    }\n",
              "    80% {\n",
              "      border-color: transparent;\n",
              "      border-right-color: var(--fill-color);\n",
              "      border-bottom-color: var(--fill-color);\n",
              "    }\n",
              "    90% {\n",
              "      border-color: transparent;\n",
              "      border-bottom-color: var(--fill-color);\n",
              "    }\n",
              "  }\n",
              "</style>\n",
              "\n",
              "      <script>\n",
              "        async function quickchart(key) {\n",
              "          const quickchartButtonEl =\n",
              "            document.querySelector('#' + key + ' button');\n",
              "          quickchartButtonEl.disabled = true;  // To prevent multiple clicks.\n",
              "          quickchartButtonEl.classList.add('colab-df-spinner');\n",
              "          try {\n",
              "            const charts = await google.colab.kernel.invokeFunction(\n",
              "                'suggestCharts', [key], {});\n",
              "          } catch (error) {\n",
              "            console.error('Error during call to suggestCharts:', error);\n",
              "          }\n",
              "          quickchartButtonEl.classList.remove('colab-df-spinner');\n",
              "          quickchartButtonEl.classList.add('colab-df-quickchart-complete');\n",
              "        }\n",
              "        (() => {\n",
              "          let quickchartButtonEl =\n",
              "            document.querySelector('#df-d52a8814-8a30-43d3-8c4f-3da861602b60 button');\n",
              "          quickchartButtonEl.style.display =\n",
              "            google.colab.kernel.accessAllowed ? 'block' : 'none';\n",
              "        })();\n",
              "      </script>\n",
              "    </div>\n",
              "\n",
              "    </div>\n",
              "  </div>\n"
            ],
            "application/vnd.google.colaboratory.intrinsic+json": {
              "type": "dataframe"
            }
          },
          "metadata": {},
          "execution_count": 105
        }
      ],
      "source": [
        "X_train[X_train['dias_int1'] >= 100]"
      ]
    },
    {
      "cell_type": "markdown",
      "id": "9GYUVD0OdMCZ",
      "metadata": {
        "id": "9GYUVD0OdMCZ"
      },
      "source": []
    },
    {
      "cell_type": "markdown",
      "id": "3a3070ad-8ca0-4191-91f3-9c26e37cea78",
      "metadata": {
        "id": "3a3070ad-8ca0-4191-91f3-9c26e37cea78"
      },
      "source": [
        "#### Valor da Idade = 176 é certamente um erro, substituir por missing"
      ]
    },
    {
      "cell_type": "markdown",
      "id": "D3NGgGw5dMkN",
      "metadata": {
        "id": "D3NGgGw5dMkN"
      },
      "source": []
    },
    {
      "cell_type": "code",
      "execution_count": null,
      "id": "be4ac652-78a8-4b66-867e-04aca89d1f71",
      "metadata": {
        "id": "be4ac652-78a8-4b66-867e-04aca89d1f71"
      },
      "outputs": [],
      "source": [
        "# X_train['Idade'] = X_train['Idade'].replace(176, np.nan)"
      ]
    },
    {
      "cell_type": "code",
      "execution_count": null,
      "id": "31d3d48d-6596-4ea0-830c-8637c082113f",
      "metadata": {
        "colab": {
          "base_uri": "https://localhost:8080/"
        },
        "id": "31d3d48d-6596-4ea0-830c-8637c082113f",
        "outputId": "b2ae8d4d-987b-4970-d020-d3d952d93f8a"
      },
      "outputs": [
        {
          "output_type": "execute_result",
          "data": {
            "text/plain": [
              "                        count       mean        std      min        25%  \\\n",
              "dias_int1      1091890.000000   3.720991   4.220850 1.000000   2.000000   \n",
              "num_idade_dias 1091916.000000 633.988785 496.493972 0.000000 220.000000   \n",
              "\n",
              "                      50%        75%         max  \n",
              "dias_int1        3.000000   4.000000  338.000000  \n",
              "num_idade_dias 502.000000 975.000000 1826.000000  "
            ],
            "text/html": [
              "\n",
              "  <div id=\"df-fb3f89fb-ced8-40e3-9444-befe42008d76\" class=\"colab-df-container\">\n",
              "    <div>\n",
              "<style scoped>\n",
              "    .dataframe tbody tr th:only-of-type {\n",
              "        vertical-align: middle;\n",
              "    }\n",
              "\n",
              "    .dataframe tbody tr th {\n",
              "        vertical-align: top;\n",
              "    }\n",
              "\n",
              "    .dataframe thead th {\n",
              "        text-align: right;\n",
              "    }\n",
              "</style>\n",
              "<table border=\"1\" class=\"dataframe\">\n",
              "  <thead>\n",
              "    <tr style=\"text-align: right;\">\n",
              "      <th></th>\n",
              "      <th>count</th>\n",
              "      <th>mean</th>\n",
              "      <th>std</th>\n",
              "      <th>min</th>\n",
              "      <th>25%</th>\n",
              "      <th>50%</th>\n",
              "      <th>75%</th>\n",
              "      <th>max</th>\n",
              "    </tr>\n",
              "  </thead>\n",
              "  <tbody>\n",
              "    <tr>\n",
              "      <th>dias_int1</th>\n",
              "      <td>1091890.000000</td>\n",
              "      <td>3.720991</td>\n",
              "      <td>4.220850</td>\n",
              "      <td>1.000000</td>\n",
              "      <td>2.000000</td>\n",
              "      <td>3.000000</td>\n",
              "      <td>4.000000</td>\n",
              "      <td>338.000000</td>\n",
              "    </tr>\n",
              "    <tr>\n",
              "      <th>num_idade_dias</th>\n",
              "      <td>1091916.000000</td>\n",
              "      <td>633.988785</td>\n",
              "      <td>496.493972</td>\n",
              "      <td>0.000000</td>\n",
              "      <td>220.000000</td>\n",
              "      <td>502.000000</td>\n",
              "      <td>975.000000</td>\n",
              "      <td>1826.000000</td>\n",
              "    </tr>\n",
              "  </tbody>\n",
              "</table>\n",
              "</div>\n",
              "    <div class=\"colab-df-buttons\">\n",
              "\n",
              "  <div class=\"colab-df-container\">\n",
              "    <button class=\"colab-df-convert\" onclick=\"convertToInteractive('df-fb3f89fb-ced8-40e3-9444-befe42008d76')\"\n",
              "            title=\"Convert this dataframe to an interactive table.\"\n",
              "            style=\"display:none;\">\n",
              "\n",
              "  <svg xmlns=\"http://www.w3.org/2000/svg\" height=\"24px\" viewBox=\"0 -960 960 960\">\n",
              "    <path d=\"M120-120v-720h720v720H120Zm60-500h600v-160H180v160Zm220 220h160v-160H400v160Zm0 220h160v-160H400v160ZM180-400h160v-160H180v160Zm440 0h160v-160H620v160ZM180-180h160v-160H180v160Zm440 0h160v-160H620v160Z\"/>\n",
              "  </svg>\n",
              "    </button>\n",
              "\n",
              "  <style>\n",
              "    .colab-df-container {\n",
              "      display:flex;\n",
              "      gap: 12px;\n",
              "    }\n",
              "\n",
              "    .colab-df-convert {\n",
              "      background-color: #E8F0FE;\n",
              "      border: none;\n",
              "      border-radius: 50%;\n",
              "      cursor: pointer;\n",
              "      display: none;\n",
              "      fill: #1967D2;\n",
              "      height: 32px;\n",
              "      padding: 0 0 0 0;\n",
              "      width: 32px;\n",
              "    }\n",
              "\n",
              "    .colab-df-convert:hover {\n",
              "      background-color: #E2EBFA;\n",
              "      box-shadow: 0px 1px 2px rgba(60, 64, 67, 0.3), 0px 1px 3px 1px rgba(60, 64, 67, 0.15);\n",
              "      fill: #174EA6;\n",
              "    }\n",
              "\n",
              "    .colab-df-buttons div {\n",
              "      margin-bottom: 4px;\n",
              "    }\n",
              "\n",
              "    [theme=dark] .colab-df-convert {\n",
              "      background-color: #3B4455;\n",
              "      fill: #D2E3FC;\n",
              "    }\n",
              "\n",
              "    [theme=dark] .colab-df-convert:hover {\n",
              "      background-color: #434B5C;\n",
              "      box-shadow: 0px 1px 3px 1px rgba(0, 0, 0, 0.15);\n",
              "      filter: drop-shadow(0px 1px 2px rgba(0, 0, 0, 0.3));\n",
              "      fill: #FFFFFF;\n",
              "    }\n",
              "  </style>\n",
              "\n",
              "    <script>\n",
              "      const buttonEl =\n",
              "        document.querySelector('#df-fb3f89fb-ced8-40e3-9444-befe42008d76 button.colab-df-convert');\n",
              "      buttonEl.style.display =\n",
              "        google.colab.kernel.accessAllowed ? 'block' : 'none';\n",
              "\n",
              "      async function convertToInteractive(key) {\n",
              "        const element = document.querySelector('#df-fb3f89fb-ced8-40e3-9444-befe42008d76');\n",
              "        const dataTable =\n",
              "          await google.colab.kernel.invokeFunction('convertToInteractive',\n",
              "                                                    [key], {});\n",
              "        if (!dataTable) return;\n",
              "\n",
              "        const docLinkHtml = 'Like what you see? Visit the ' +\n",
              "          '<a target=\"_blank\" href=https://colab.research.google.com/notebooks/data_table.ipynb>data table notebook</a>'\n",
              "          + ' to learn more about interactive tables.';\n",
              "        element.innerHTML = '';\n",
              "        dataTable['output_type'] = 'display_data';\n",
              "        await google.colab.output.renderOutput(dataTable, element);\n",
              "        const docLink = document.createElement('div');\n",
              "        docLink.innerHTML = docLinkHtml;\n",
              "        element.appendChild(docLink);\n",
              "      }\n",
              "    </script>\n",
              "  </div>\n",
              "\n",
              "\n",
              "    <div id=\"df-3c1b7766-3030-4ba7-ba7d-7775fb4be779\">\n",
              "      <button class=\"colab-df-quickchart\" onclick=\"quickchart('df-3c1b7766-3030-4ba7-ba7d-7775fb4be779')\"\n",
              "                title=\"Suggest charts\"\n",
              "                style=\"display:none;\">\n",
              "\n",
              "<svg xmlns=\"http://www.w3.org/2000/svg\" height=\"24px\"viewBox=\"0 0 24 24\"\n",
              "     width=\"24px\">\n",
              "    <g>\n",
              "        <path d=\"M19 3H5c-1.1 0-2 .9-2 2v14c0 1.1.9 2 2 2h14c1.1 0 2-.9 2-2V5c0-1.1-.9-2-2-2zM9 17H7v-7h2v7zm4 0h-2V7h2v10zm4 0h-2v-4h2v4z\"/>\n",
              "    </g>\n",
              "</svg>\n",
              "      </button>\n",
              "\n",
              "<style>\n",
              "  .colab-df-quickchart {\n",
              "      --bg-color: #E8F0FE;\n",
              "      --fill-color: #1967D2;\n",
              "      --hover-bg-color: #E2EBFA;\n",
              "      --hover-fill-color: #174EA6;\n",
              "      --disabled-fill-color: #AAA;\n",
              "      --disabled-bg-color: #DDD;\n",
              "  }\n",
              "\n",
              "  [theme=dark] .colab-df-quickchart {\n",
              "      --bg-color: #3B4455;\n",
              "      --fill-color: #D2E3FC;\n",
              "      --hover-bg-color: #434B5C;\n",
              "      --hover-fill-color: #FFFFFF;\n",
              "      --disabled-bg-color: #3B4455;\n",
              "      --disabled-fill-color: #666;\n",
              "  }\n",
              "\n",
              "  .colab-df-quickchart {\n",
              "    background-color: var(--bg-color);\n",
              "    border: none;\n",
              "    border-radius: 50%;\n",
              "    cursor: pointer;\n",
              "    display: none;\n",
              "    fill: var(--fill-color);\n",
              "    height: 32px;\n",
              "    padding: 0;\n",
              "    width: 32px;\n",
              "  }\n",
              "\n",
              "  .colab-df-quickchart:hover {\n",
              "    background-color: var(--hover-bg-color);\n",
              "    box-shadow: 0 1px 2px rgba(60, 64, 67, 0.3), 0 1px 3px 1px rgba(60, 64, 67, 0.15);\n",
              "    fill: var(--button-hover-fill-color);\n",
              "  }\n",
              "\n",
              "  .colab-df-quickchart-complete:disabled,\n",
              "  .colab-df-quickchart-complete:disabled:hover {\n",
              "    background-color: var(--disabled-bg-color);\n",
              "    fill: var(--disabled-fill-color);\n",
              "    box-shadow: none;\n",
              "  }\n",
              "\n",
              "  .colab-df-spinner {\n",
              "    border: 2px solid var(--fill-color);\n",
              "    border-color: transparent;\n",
              "    border-bottom-color: var(--fill-color);\n",
              "    animation:\n",
              "      spin 1s steps(1) infinite;\n",
              "  }\n",
              "\n",
              "  @keyframes spin {\n",
              "    0% {\n",
              "      border-color: transparent;\n",
              "      border-bottom-color: var(--fill-color);\n",
              "      border-left-color: var(--fill-color);\n",
              "    }\n",
              "    20% {\n",
              "      border-color: transparent;\n",
              "      border-left-color: var(--fill-color);\n",
              "      border-top-color: var(--fill-color);\n",
              "    }\n",
              "    30% {\n",
              "      border-color: transparent;\n",
              "      border-left-color: var(--fill-color);\n",
              "      border-top-color: var(--fill-color);\n",
              "      border-right-color: var(--fill-color);\n",
              "    }\n",
              "    40% {\n",
              "      border-color: transparent;\n",
              "      border-right-color: var(--fill-color);\n",
              "      border-top-color: var(--fill-color);\n",
              "    }\n",
              "    60% {\n",
              "      border-color: transparent;\n",
              "      border-right-color: var(--fill-color);\n",
              "    }\n",
              "    80% {\n",
              "      border-color: transparent;\n",
              "      border-right-color: var(--fill-color);\n",
              "      border-bottom-color: var(--fill-color);\n",
              "    }\n",
              "    90% {\n",
              "      border-color: transparent;\n",
              "      border-bottom-color: var(--fill-color);\n",
              "    }\n",
              "  }\n",
              "</style>\n",
              "\n",
              "      <script>\n",
              "        async function quickchart(key) {\n",
              "          const quickchartButtonEl =\n",
              "            document.querySelector('#' + key + ' button');\n",
              "          quickchartButtonEl.disabled = true;  // To prevent multiple clicks.\n",
              "          quickchartButtonEl.classList.add('colab-df-spinner');\n",
              "          try {\n",
              "            const charts = await google.colab.kernel.invokeFunction(\n",
              "                'suggestCharts', [key], {});\n",
              "          } catch (error) {\n",
              "            console.error('Error during call to suggestCharts:', error);\n",
              "          }\n",
              "          quickchartButtonEl.classList.remove('colab-df-spinner');\n",
              "          quickchartButtonEl.classList.add('colab-df-quickchart-complete');\n",
              "        }\n",
              "        (() => {\n",
              "          let quickchartButtonEl =\n",
              "            document.querySelector('#df-3c1b7766-3030-4ba7-ba7d-7775fb4be779 button');\n",
              "          quickchartButtonEl.style.display =\n",
              "            google.colab.kernel.accessAllowed ? 'block' : 'none';\n",
              "        })();\n",
              "      </script>\n",
              "    </div>\n",
              "\n",
              "    </div>\n",
              "  </div>\n"
            ],
            "application/vnd.google.colaboratory.intrinsic+json": {
              "type": "dataframe",
              "summary": "{\n  \"name\": \"X_train[numeric_features]\",\n  \"rows\": 2,\n  \"fields\": [\n    {\n      \"column\": \"count\",\n      \"properties\": {\n        \"dtype\": \"number\",\n        \"std\": 18.384776310850235,\n        \"min\": 1091890.0,\n        \"max\": 1091916.0,\n        \"num_unique_values\": 2,\n        \"samples\": [\n          1091916.0,\n          1091890.0\n        ],\n        \"semantic_type\": \"\",\n        \"description\": \"\"\n      }\n    },\n    {\n      \"column\": \"mean\",\n      \"properties\": {\n        \"dtype\": \"number\",\n        \"std\": 445.6666309072111,\n        \"min\": 3.720991125479673,\n        \"max\": 633.988784851582,\n        \"num_unique_values\": 2,\n        \"samples\": [\n          633.988784851582,\n          3.720991125479673\n        ],\n        \"semantic_type\": \"\",\n        \"description\": \"\"\n      }\n    },\n    {\n      \"column\": \"std\",\n      \"properties\": {\n        \"dtype\": \"number\",\n        \"std\": 348.08966272135837,\n        \"min\": 4.220850186098642,\n        \"max\": 496.49397212852,\n        \"num_unique_values\": 2,\n        \"samples\": [\n          496.49397212852,\n          4.220850186098642\n        ],\n        \"semantic_type\": \"\",\n        \"description\": \"\"\n      }\n    },\n    {\n      \"column\": \"min\",\n      \"properties\": {\n        \"dtype\": \"number\",\n        \"std\": 0.7071067811865476,\n        \"min\": 0.0,\n        \"max\": 1.0,\n        \"num_unique_values\": 2,\n        \"samples\": [\n          0.0,\n          1.0\n        ],\n        \"semantic_type\": \"\",\n        \"description\": \"\"\n      }\n    },\n    {\n      \"column\": \"25%\",\n      \"properties\": {\n        \"dtype\": \"number\",\n        \"std\": 154.14927829866735,\n        \"min\": 2.0,\n        \"max\": 220.0,\n        \"num_unique_values\": 2,\n        \"samples\": [\n          220.0,\n          2.0\n        ],\n        \"semantic_type\": \"\",\n        \"description\": \"\"\n      }\n    },\n    {\n      \"column\": \"50%\",\n      \"properties\": {\n        \"dtype\": \"number\",\n        \"std\": 352.8462838120872,\n        \"min\": 3.0,\n        \"max\": 502.0,\n        \"num_unique_values\": 2,\n        \"samples\": [\n          502.0,\n          3.0\n        ],\n        \"semantic_type\": \"\",\n        \"description\": \"\"\n      }\n    },\n    {\n      \"column\": \"75%\",\n      \"properties\": {\n        \"dtype\": \"number\",\n        \"std\": 686.6006845321376,\n        \"min\": 4.0,\n        \"max\": 975.0,\n        \"num_unique_values\": 2,\n        \"samples\": [\n          975.0,\n          4.0\n        ],\n        \"semantic_type\": \"\",\n        \"description\": \"\"\n      }\n    },\n    {\n      \"column\": \"max\",\n      \"properties\": {\n        \"dtype\": \"number\",\n        \"std\": 1052.1748904055828,\n        \"min\": 338.0,\n        \"max\": 1826.0,\n        \"num_unique_values\": 2,\n        \"samples\": [\n          1826.0,\n          338.0\n        ],\n        \"semantic_type\": \"\",\n        \"description\": \"\"\n      }\n    }\n  ]\n}"
            }
          },
          "metadata": {},
          "execution_count": 107
        }
      ],
      "source": [
        "X_train[numeric_features].describe().transpose()"
      ]
    },
    {
      "cell_type": "markdown",
      "id": "ff2b4d6e-b8d8-44d6-b039-3c53b6b4ae39",
      "metadata": {
        "id": "ff2b4d6e-b8d8-44d6-b039-3c53b6b4ae39"
      },
      "source": [
        "## Imputação de missings pela média das variáveis quantitativas\n",
        "#### Obs.: Deve ser feito separadamente no treino/teste. O conjunto de teste deve receber como valor de imputação a média do conjunto de treino"
      ]
    },
    {
      "cell_type": "code",
      "execution_count": null,
      "id": "5fbb91c6-2475-4454-aef3-81848e055995",
      "metadata": {
        "id": "5fbb91c6-2475-4454-aef3-81848e055995"
      },
      "outputs": [],
      "source": [
        "X_train[\"dias_int1\"] = X_train[\"dias_int1\"].fillna(X_train[\"dias_int1\"].mean())\n",
        "X_test[\"dias_int1\"] = X_test[\"dias_int1\"].fillna(X_train[\"dias_int1\"].mean())"
      ]
    },
    {
      "cell_type": "markdown",
      "id": "650652e1-91f7-4cf4-8349-9c98198c3816",
      "metadata": {
        "id": "650652e1-91f7-4cf4-8349-9c98198c3816"
      },
      "source": [
        "## Análise das correlações para evitar colinearidade"
      ]
    },
    {
      "cell_type": "code",
      "execution_count": 28,
      "id": "ccf08659-6e50-460a-8979-21e64c8c02f0",
      "metadata": {
        "colab": {
          "base_uri": "https://localhost:8080/",
          "height": 588
        },
        "id": "ccf08659-6e50-460a-8979-21e64c8c02f0",
        "outputId": "1a434e29-b300-4c84-b7bf-5c3d70c56f09"
      },
      "outputs": [
        {
          "output_type": "execute_result",
          "data": {
            "text/plain": [
              "<Axes: >"
            ]
          },
          "metadata": {},
          "execution_count": 28
        },
        {
          "output_type": "display_data",
          "data": {
            "text/plain": [
              "<Figure size 640x480 with 2 Axes>"
            ],
            "image/png": "[encoded data removed]"
          },
          "metadata": {}
        }
      ],
      "source": [
        "sns.heatmap(X_train.corr(), annot=True, fmt=\".2f\", cmap='coolwarm', annot_kws={\"size\": 7})"
      ]
    },
    {
      "cell_type": "markdown",
      "id": "8bd3659b-1d2a-4347-a0a4-3078f6db5e7d",
      "metadata": {
        "id": "8bd3659b-1d2a-4347-a0a4-3078f6db5e7d"
      },
      "source": [
        "#### Entre as duas variáveis, VEF1_L e Teste_6min, excluir a que tem menor correlação com o desfecho"
      ]
    },
    {
      "cell_type": "code",
      "execution_count": null,
      "id": "17719705-6237-43f9-8dc0-600c4acd365e",
      "metadata": {
        "id": "17719705-6237-43f9-8dc0-600c4acd365e"
      },
      "outputs": [],
      "source": [
        "# df['Melhora'].corr(df['Teste_6min'])"
      ]
    },
    {
      "cell_type": "code",
      "execution_count": null,
      "id": "7a102b01-e38e-48f1-9411-8ff017e57897",
      "metadata": {
        "id": "7a102b01-e38e-48f1-9411-8ff017e57897"
      },
      "outputs": [],
      "source": [
        "# df['Melhora'].corr(df['VEF1_L'])"
      ]
    },
    {
      "cell_type": "markdown",
      "id": "068628f0-9a41-478c-b314-03329133f4bd",
      "metadata": {
        "id": "068628f0-9a41-478c-b314-03329133f4bd"
      },
      "source": [
        "#### Excluir coluna VEF1_L"
      ]
    },
    {
      "cell_type": "code",
      "execution_count": null,
      "id": "5f1360a8-0a5b-487a-9155-33cbb8b1320b",
      "metadata": {
        "id": "5f1360a8-0a5b-487a-9155-33cbb8b1320b"
      },
      "outputs": [],
      "source": [
        "# X_train.drop(columns=[\"VEF1_L\"], inplace=True)\n",
        "# X_test.drop(columns=[\"VEF1_L\"], inplace=True)"
      ]
    },
    {
      "cell_type": "markdown",
      "id": "eaf4c1ec-2b6d-4b42-b070-5fabffd01144",
      "metadata": {
        "id": "eaf4c1ec-2b6d-4b42-b070-5fabffd01144"
      },
      "source": [
        "## Padronização para quantitativas: StandardScaler\n",
        "![image.png](attachment:0e3eec10-d76a-4c49-8d92-9b5e762b740a.png)\n",
        "#### Obs.: Deve ser feito separadamente no treino/teste. A padronização dos dados de teste deve ser feita com a média e desvio-padrão dos dados de treino"
      ]
    },
    {
      "cell_type": "code",
      "execution_count": 29,
      "id": "13382255-b1b9-44e6-af10-d0b572755424",
      "metadata": {
        "id": "13382255-b1b9-44e6-af10-d0b572755424"
      },
      "outputs": [],
      "source": [
        "numeric_features = [\"dias_int1\", \"num_idade_dias\"]"
      ]
    },
    {
      "cell_type": "code",
      "execution_count": 30,
      "id": "18ff5c23-a271-450a-81b8-a211a0ef0efb",
      "metadata": {
        "id": "18ff5c23-a271-450a-81b8-a211a0ef0efb"
      },
      "outputs": [],
      "source": [
        "from sklearn.preprocessing import StandardScaler\n",
        "s_scaler = StandardScaler()"
      ]
    },
    {
      "cell_type": "code",
      "execution_count": 31,
      "id": "c23178c5-bbb0-4631-853d-6e3f91fc8533",
      "metadata": {
        "id": "c23178c5-bbb0-4631-853d-6e3f91fc8533"
      },
      "outputs": [],
      "source": [
        "for features in numeric_features:\n",
        "    scaler = s_scaler.fit(X_train[[features]])\n",
        "    X_train[features] = scaler.transform(X_train[[features]])\n",
        "    X_test[features] = scaler.transform(X_test[[features]])"
      ]
    },
    {
      "cell_type": "markdown",
      "id": "8499947e-1c5b-4fa6-88bb-6066750afaca",
      "metadata": {
        "id": "8499947e-1c5b-4fa6-88bb-6066750afaca"
      },
      "source": [
        "#### Box-plots das variáveis quantitativas padronizadas"
      ]
    },
    {
      "cell_type": "code",
      "execution_count": 32,
      "id": "c397bddd-b62d-48e8-86c3-3de9d6e8a5b9",
      "metadata": {
        "colab": {
          "base_uri": "https://localhost:8080/",
          "height": 247
        },
        "id": "c397bddd-b62d-48e8-86c3-3de9d6e8a5b9",
        "outputId": "fcca1cf0-2fd6-4475-dbad-8717e86d8b04"
      },
      "outputs": [
        {
          "output_type": "display_data",
          "data": {
            "text/plain": [
              "<Figure size 1000x400 with 2 Axes>"
            ],
            "image/png": "[encoded data removed]"
          },
          "metadata": {}
        }
      ],
      "source": [
        "plt.figure(figsize=(10, 4))\n",
        "\n",
        "for i, feature in enumerate(numeric_features, 1):\n",
        "    plt.subplot(2, 2, i)  # Use a flat index and start from 1\n",
        "    sns.boxplot(x=X_train[feature])\n",
        "    plt.title(f'Box plot of {feature}')\n",
        "\n",
        "plt.tight_layout()\n",
        "plt.show()"
      ]
    },
    {
      "cell_type": "markdown",
      "id": "f488dcb9-1021-490f-9f6c-411a3cd4716d",
      "metadata": {
        "id": "f488dcb9-1021-490f-9f6c-411a3cd4716d"
      },
      "source": [
        "### Dados prontos para treinar os algoritmos"
      ]
    },
    {
      "cell_type": "code",
      "execution_count": 33,
      "id": "e4a55488-79e4-4cb6-9a79-90da51a23b7d",
      "metadata": {
        "colab": {
          "base_uri": "https://localhost:8080/",
          "height": 400
        },
        "id": "e4a55488-79e4-4cb6-9a79-90da51a23b7d",
        "outputId": "4df2a8b8-a5af-4365-81e8-4646fbd8665b"
      },
      "outputs": [
        {
          "output_type": "execute_result",
          "data": {
            "text/plain": [
              "       regiao_Norte  regiao_Nordeste  regiao_Sudeste  num_idade_dias  \\\n",
              "30569             0                1               0        0.156319   \n",
              "35275             0                1               0       -1.059675   \n",
              "16826             1                0               0       -1.134124   \n",
              "37373             0                1               0       -1.059675   \n",
              "29117             0                1               0       -0.964546   \n",
              "28735             0                1               0       -1.452598   \n",
              "37814             0                1               0        1.177919   \n",
              "2132              0                1               0       -0.308985   \n",
              "8685              0                1               0        1.080722   \n",
              "8342              0                0               1       -0.763949   \n",
              "\n",
              "       dias_int1  natureza_P?blico  natureza_Privado SFL  natureza_Privado  \\\n",
              "30569  -0.075275                 0                     1                 0   \n",
              "35275  -0.075275                 1                     0                 0   \n",
              "16826   0.632712                 0                     0                 0   \n",
              "37373  -0.075275                 1                     0                 0   \n",
              "29117  -0.311270                 0                     0                 1   \n",
              "28735  -0.075275                 0                     1                 0   \n",
              "37814  -0.311270                 0                     1                 0   \n",
              "2132   -0.334870                 0                     0                 0   \n",
              "8685   -0.340770                 0                     1                 0   \n",
              "8342   -0.016276                 0                     1                 0   \n",
              "\n",
              "       natureza_nan  missing_natureza  ap_sexo_M  status_resi_resi  \n",
              "30569             0                 0          0                 1  \n",
              "35275             0                 0          1                 1  \n",
              "16826             0                 0          0                 1  \n",
              "37373             0                 0          1                 1  \n",
              "29117             0                 0          1                 0  \n",
              "28735             0                 0          1                 1  \n",
              "37814             0                 0          1                 1  \n",
              "2132              0                 0          1                 0  \n",
              "8685              0                 0          0                 0  \n",
              "8342              0                 0          0                 0  "
            ],
            "text/html": [
              "\n",
              "  <div id=\"df-f883965c-5763-4075-bf95-ba6cde854b61\" class=\"colab-df-container\">\n",
              "    <div>\n",
              "<style scoped>\n",
              "    .dataframe tbody tr th:only-of-type {\n",
              "        vertical-align: middle;\n",
              "    }\n",
              "\n",
              "    .dataframe tbody tr th {\n",
              "        vertical-align: top;\n",
              "    }\n",
              "\n",
              "    .dataframe thead th {\n",
              "        text-align: right;\n",
              "    }\n",
              "</style>\n",
              "<table border=\"1\" class=\"dataframe\">\n",
              "  <thead>\n",
              "    <tr style=\"text-align: right;\">\n",
              "      <th></th>\n",
              "      <th>regiao_Norte</th>\n",
              "      <th>regiao_Nordeste</th>\n",
              "      <th>regiao_Sudeste</th>\n",
              "      <th>num_idade_dias</th>\n",
              "      <th>dias_int1</th>\n",
              "      <th>natureza_P?blico</th>\n",
              "      <th>natureza_Privado SFL</th>\n",
              "      <th>natureza_Privado</th>\n",
              "      <th>natureza_nan</th>\n",
              "      <th>missing_natureza</th>\n",
              "      <th>ap_sexo_M</th>\n",
              "      <th>status_resi_resi</th>\n",
              "    </tr>\n",
              "  </thead>\n",
              "  <tbody>\n",
              "    <tr>\n",
              "      <th>30569</th>\n",
              "      <td>0</td>\n",
              "      <td>1</td>\n",
              "      <td>0</td>\n",
              "      <td>0.156319</td>\n",
              "      <td>-0.075275</td>\n",
              "      <td>0</td>\n",
              "      <td>1</td>\n",
              "      <td>0</td>\n",
              "      <td>0</td>\n",
              "      <td>0</td>\n",
              "      <td>0</td>\n",
              "      <td>1</td>\n",
              "    </tr>\n",
              "    <tr>\n",
              "      <th>35275</th>\n",
              "      <td>0</td>\n",
              "      <td>1</td>\n",
              "      <td>0</td>\n",
              "      <td>-1.059675</td>\n",
              "      <td>-0.075275</td>\n",
              "      <td>1</td>\n",
              "      <td>0</td>\n",
              "      <td>0</td>\n",
              "      <td>0</td>\n",
              "      <td>0</td>\n",
              "      <td>1</td>\n",
              "      <td>1</td>\n",
              "    </tr>\n",
              "    <tr>\n",
              "      <th>16826</th>\n",
              "      <td>1</td>\n",
              "      <td>0</td>\n",
              "      <td>0</td>\n",
              "      <td>-1.134124</td>\n",
              "      <td>0.632712</td>\n",
              "      <td>0</td>\n",
              "      <td>0</td>\n",
              "      <td>0</td>\n",
              "      <td>0</td>\n",
              "      <td>0</td>\n",
              "      <td>0</td>\n",
              "      <td>1</td>\n",
              "    </tr>\n",
              "    <tr>\n",
              "      <th>37373</th>\n",
              "      <td>0</td>\n",
              "      <td>1</td>\n",
              "      <td>0</td>\n",
              "      <td>-1.059675</td>\n",
              "      <td>-0.075275</td>\n",
              "      <td>1</td>\n",
              "      <td>0</td>\n",
              "      <td>0</td>\n",
              "      <td>0</td>\n",
              "      <td>0</td>\n",
              "      <td>1</td>\n",
              "      <td>1</td>\n",
              "    </tr>\n",
              "    <tr>\n",
              "      <th>29117</th>\n",
              "      <td>0</td>\n",
              "      <td>1</td>\n",
              "      <td>0</td>\n",
              "      <td>-0.964546</td>\n",
              "      <td>-0.311270</td>\n",
              "      <td>0</td>\n",
              "      <td>0</td>\n",
              "      <td>1</td>\n",
              "      <td>0</td>\n",
              "      <td>0</td>\n",
              "      <td>1</td>\n",
              "      <td>0</td>\n",
              "    </tr>\n",
              "    <tr>\n",
              "      <th>28735</th>\n",
              "      <td>0</td>\n",
              "      <td>1</td>\n",
              "      <td>0</td>\n",
              "      <td>-1.452598</td>\n",
              "      <td>-0.075275</td>\n",
              "      <td>0</td>\n",
              "      <td>1</td>\n",
              "      <td>0</td>\n",
              "      <td>0</td>\n",
              "      <td>0</td>\n",
              "      <td>1</td>\n",
              "      <td>1</td>\n",
              "    </tr>\n",
              "    <tr>\n",
              "      <th>37814</th>\n",
              "      <td>0</td>\n",
              "      <td>1</td>\n",
              "      <td>0</td>\n",
              "      <td>1.177919</td>\n",
              "      <td>-0.311270</td>\n",
              "      <td>0</td>\n",
              "      <td>1</td>\n",
              "      <td>0</td>\n",
              "      <td>0</td>\n",
              "      <td>0</td>\n",
              "      <td>1</td>\n",
              "      <td>1</td>\n",
              "    </tr>\n",
              "    <tr>\n",
              "      <th>2132</th>\n",
              "      <td>0</td>\n",
              "      <td>1</td>\n",
              "      <td>0</td>\n",
              "      <td>-0.308985</td>\n",
              "      <td>-0.334870</td>\n",
              "      <td>0</td>\n",
              "      <td>0</td>\n",
              "      <td>0</td>\n",
              "      <td>0</td>\n",
              "      <td>0</td>\n",
              "      <td>1</td>\n",
              "      <td>0</td>\n",
              "    </tr>\n",
              "    <tr>\n",
              "      <th>8685</th>\n",
              "      <td>0</td>\n",
              "      <td>1</td>\n",
              "      <td>0</td>\n",
              "      <td>1.080722</td>\n",
              "      <td>-0.340770</td>\n",
              "      <td>0</td>\n",
              "      <td>1</td>\n",
              "      <td>0</td>\n",
              "      <td>0</td>\n",
              "      <td>0</td>\n",
              "      <td>0</td>\n",
              "      <td>0</td>\n",
              "    </tr>\n",
              "    <tr>\n",
              "      <th>8342</th>\n",
              "      <td>0</td>\n",
              "      <td>0</td>\n",
              "      <td>1</td>\n",
              "      <td>-0.763949</td>\n",
              "      <td>-0.016276</td>\n",
              "      <td>0</td>\n",
              "      <td>1</td>\n",
              "      <td>0</td>\n",
              "      <td>0</td>\n",
              "      <td>0</td>\n",
              "      <td>0</td>\n",
              "      <td>0</td>\n",
              "    </tr>\n",
              "  </tbody>\n",
              "</table>\n",
              "</div>\n",
              "    <div class=\"colab-df-buttons\">\n",
              "\n",
              "  <div class=\"colab-df-container\">\n",
              "    <button class=\"colab-df-convert\" onclick=\"convertToInteractive('df-f883965c-5763-4075-bf95-ba6cde854b61')\"\n",
              "            title=\"Convert this dataframe to an interactive table.\"\n",
              "            style=\"display:none;\">\n",
              "\n",
              "  <svg xmlns=\"http://www.w3.org/2000/svg\" height=\"24px\" viewBox=\"0 -960 960 960\">\n",
              "    <path d=\"M120-120v-720h720v720H120Zm60-500h600v-160H180v160Zm220 220h160v-160H400v160Zm0 220h160v-160H400v160ZM180-400h160v-160H180v160Zm440 0h160v-160H620v160ZM180-180h160v-160H180v160Zm440 0h160v-160H620v160Z\"/>\n",
              "  </svg>\n",
              "    </button>\n",
              "\n",
              "  <style>\n",
              "    .colab-df-container {\n",
              "      display:flex;\n",
              "      gap: 12px;\n",
              "    }\n",
              "\n",
              "    .colab-df-convert {\n",
              "      background-color: #E8F0FE;\n",
              "      border: none;\n",
              "      border-radius: 50%;\n",
              "      cursor: pointer;\n",
              "      display: none;\n",
              "      fill: #1967D2;\n",
              "      height: 32px;\n",
              "      padding: 0 0 0 0;\n",
              "      width: 32px;\n",
              "    }\n",
              "\n",
              "    .colab-df-convert:hover {\n",
              "      background-color: #E2EBFA;\n",
              "      box-shadow: 0px 1px 2px rgba(60, 64, 67, 0.3), 0px 1px 3px 1px rgba(60, 64, 67, 0.15);\n",
              "      fill: #174EA6;\n",
              "    }\n",
              "\n",
              "    .colab-df-buttons div {\n",
              "      margin-bottom: 4px;\n",
              "    }\n",
              "\n",
              "    [theme=dark] .colab-df-convert {\n",
              "      background-color: #3B4455;\n",
              "      fill: #D2E3FC;\n",
              "    }\n",
              "\n",
              "    [theme=dark] .colab-df-convert:hover {\n",
              "      background-color: #434B5C;\n",
              "      box-shadow: 0px 1px 3px 1px rgba(0, 0, 0, 0.15);\n",
              "      filter: drop-shadow(0px 1px 2px rgba(0, 0, 0, 0.3));\n",
              "      fill: #FFFFFF;\n",
              "    }\n",
              "  </style>\n",
              "\n",
              "    <script>\n",
              "      const buttonEl =\n",
              "        document.querySelector('#df-f883965c-5763-4075-bf95-ba6cde854b61 button.colab-df-convert');\n",
              "      buttonEl.style.display =\n",
              "        google.colab.kernel.accessAllowed ? 'block' : 'none';\n",
              "\n",
              "      async function convertToInteractive(key) {\n",
              "        const element = document.querySelector('#df-f883965c-5763-4075-bf95-ba6cde854b61');\n",
              "        const dataTable =\n",
              "          await google.colab.kernel.invokeFunction('convertToInteractive',\n",
              "                                                    [key], {});\n",
              "        if (!dataTable) return;\n",
              "\n",
              "        const docLinkHtml = 'Like what you see? Visit the ' +\n",
              "          '<a target=\"_blank\" href=https://colab.research.google.com/notebooks/data_table.ipynb>data table notebook</a>'\n",
              "          + ' to learn more about interactive tables.';\n",
              "        element.innerHTML = '';\n",
              "        dataTable['output_type'] = 'display_data';\n",
              "        await google.colab.output.renderOutput(dataTable, element);\n",
              "        const docLink = document.createElement('div');\n",
              "        docLink.innerHTML = docLinkHtml;\n",
              "        element.appendChild(docLink);\n",
              "      }\n",
              "    </script>\n",
              "  </div>\n",
              "\n",
              "\n",
              "    <div id=\"df-ba88e700-b4c8-4c9c-aade-38612e58a16d\">\n",
              "      <button class=\"colab-df-quickchart\" onclick=\"quickchart('df-ba88e700-b4c8-4c9c-aade-38612e58a16d')\"\n",
              "                title=\"Suggest charts\"\n",
              "                style=\"display:none;\">\n",
              "\n",
              "<svg xmlns=\"http://www.w3.org/2000/svg\" height=\"24px\"viewBox=\"0 0 24 24\"\n",
              "     width=\"24px\">\n",
              "    <g>\n",
              "        <path d=\"M19 3H5c-1.1 0-2 .9-2 2v14c0 1.1.9 2 2 2h14c1.1 0 2-.9 2-2V5c0-1.1-.9-2-2-2zM9 17H7v-7h2v7zm4 0h-2V7h2v10zm4 0h-2v-4h2v4z\"/>\n",
              "    </g>\n",
              "</svg>\n",
              "      </button>\n",
              "\n",
              "<style>\n",
              "  .colab-df-quickchart {\n",
              "      --bg-color: #E8F0FE;\n",
              "      --fill-color: #1967D2;\n",
              "      --hover-bg-color: #E2EBFA;\n",
              "      --hover-fill-color: #174EA6;\n",
              "      --disabled-fill-color: #AAA;\n",
              "      --disabled-bg-color: #DDD;\n",
              "  }\n",
              "\n",
              "  [theme=dark] .colab-df-quickchart {\n",
              "      --bg-color: #3B4455;\n",
              "      --fill-color: #D2E3FC;\n",
              "      --hover-bg-color: #434B5C;\n",
              "      --hover-fill-color: #FFFFFF;\n",
              "      --disabled-bg-color: #3B4455;\n",
              "      --disabled-fill-color: #666;\n",
              "  }\n",
              "\n",
              "  .colab-df-quickchart {\n",
              "    background-color: var(--bg-color);\n",
              "    border: none;\n",
              "    border-radius: 50%;\n",
              "    cursor: pointer;\n",
              "    display: none;\n",
              "    fill: var(--fill-color);\n",
              "    height: 32px;\n",
              "    padding: 0;\n",
              "    width: 32px;\n",
              "  }\n",
              "\n",
              "  .colab-df-quickchart:hover {\n",
              "    background-color: var(--hover-bg-color);\n",
              "    box-shadow: 0 1px 2px rgba(60, 64, 67, 0.3), 0 1px 3px 1px rgba(60, 64, 67, 0.15);\n",
              "    fill: var(--button-hover-fill-color);\n",
              "  }\n",
              "\n",
              "  .colab-df-quickchart-complete:disabled,\n",
              "  .colab-df-quickchart-complete:disabled:hover {\n",
              "    background-color: var(--disabled-bg-color);\n",
              "    fill: var(--disabled-fill-color);\n",
              "    box-shadow: none;\n",
              "  }\n",
              "\n",
              "  .colab-df-spinner {\n",
              "    border: 2px solid var(--fill-color);\n",
              "    border-color: transparent;\n",
              "    border-bottom-color: var(--fill-color);\n",
              "    animation:\n",
              "      spin 1s steps(1) infinite;\n",
              "  }\n",
              "\n",
              "  @keyframes spin {\n",
              "    0% {\n",
              "      border-color: transparent;\n",
              "      border-bottom-color: var(--fill-color);\n",
              "      border-left-color: var(--fill-color);\n",
              "    }\n",
              "    20% {\n",
              "      border-color: transparent;\n",
              "      border-left-color: var(--fill-color);\n",
              "      border-top-color: var(--fill-color);\n",
              "    }\n",
              "    30% {\n",
              "      border-color: transparent;\n",
              "      border-left-color: var(--fill-color);\n",
              "      border-top-color: var(--fill-color);\n",
              "      border-right-color: var(--fill-color);\n",
              "    }\n",
              "    40% {\n",
              "      border-color: transparent;\n",
              "      border-right-color: var(--fill-color);\n",
              "      border-top-color: var(--fill-color);\n",
              "    }\n",
              "    60% {\n",
              "      border-color: transparent;\n",
              "      border-right-color: var(--fill-color);\n",
              "    }\n",
              "    80% {\n",
              "      border-color: transparent;\n",
              "      border-right-color: var(--fill-color);\n",
              "      border-bottom-color: var(--fill-color);\n",
              "    }\n",
              "    90% {\n",
              "      border-color: transparent;\n",
              "      border-bottom-color: var(--fill-color);\n",
              "    }\n",
              "  }\n",
              "</style>\n",
              "\n",
              "      <script>\n",
              "        async function quickchart(key) {\n",
              "          const quickchartButtonEl =\n",
              "            document.querySelector('#' + key + ' button');\n",
              "          quickchartButtonEl.disabled = true;  // To prevent multiple clicks.\n",
              "          quickchartButtonEl.classList.add('colab-df-spinner');\n",
              "          try {\n",
              "            const charts = await google.colab.kernel.invokeFunction(\n",
              "                'suggestCharts', [key], {});\n",
              "          } catch (error) {\n",
              "            console.error('Error during call to suggestCharts:', error);\n",
              "          }\n",
              "          quickchartButtonEl.classList.remove('colab-df-spinner');\n",
              "          quickchartButtonEl.classList.add('colab-df-quickchart-complete');\n",
              "        }\n",
              "        (() => {\n",
              "          let quickchartButtonEl =\n",
              "            document.querySelector('#df-ba88e700-b4c8-4c9c-aade-38612e58a16d button');\n",
              "          quickchartButtonEl.style.display =\n",
              "            google.colab.kernel.accessAllowed ? 'block' : 'none';\n",
              "        })();\n",
              "      </script>\n",
              "    </div>\n",
              "\n",
              "    </div>\n",
              "  </div>\n"
            ],
            "application/vnd.google.colaboratory.intrinsic+json": {
              "type": "dataframe",
              "variable_name": "X_train",
              "summary": "{\n  \"name\": \"X_train\",\n  \"rows\": 32527,\n  \"fields\": [\n    {\n      \"column\": \"regiao_Norte\",\n      \"properties\": {\n        \"dtype\": \"number\",\n        \"std\": 0,\n        \"min\": 0,\n        \"max\": 1,\n        \"num_unique_values\": 2,\n        \"samples\": [\n          1,\n          0\n        ],\n        \"semantic_type\": \"\",\n        \"description\": \"\"\n      }\n    },\n    {\n      \"column\": \"regiao_Nordeste\",\n      \"properties\": {\n        \"dtype\": \"number\",\n        \"std\": 0,\n        \"min\": 0,\n        \"max\": 1,\n        \"num_unique_values\": 2,\n        \"samples\": [\n          0,\n          1\n        ],\n        \"semantic_type\": \"\",\n        \"description\": \"\"\n      }\n    },\n    {\n      \"column\": \"regiao_Sudeste\",\n      \"properties\": {\n        \"dtype\": \"number\",\n        \"std\": 0,\n        \"min\": 0,\n        \"max\": 1,\n        \"num_unique_values\": 2,\n        \"samples\": [\n          1,\n          0\n        ],\n        \"semantic_type\": \"\",\n        \"description\": \"\"\n      }\n    },\n    {\n      \"column\": \"num_idade_dias\",\n      \"properties\": {\n        \"dtype\": \"number\",\n        \"std\": 1.0000153721993805,\n        \"min\": -1.5125708405142395,\n        \"max\": 2.261559519625944,\n        \"num_unique_values\": 1826,\n        \"samples\": [\n          -1.2995651270378346,\n          -0.4020459071469636\n        ],\n        \"semantic_type\": \"\",\n        \"description\": \"\"\n      }\n    },\n    {\n      \"column\": \"dias_int1\",\n      \"properties\": {\n        \"dtype\": \"number\",\n        \"std\": 1.000015372199416,\n        \"min\": -0.5472658640421891,\n        \"max\": 35.79604336954957,\n        \"num_unique_values\": 427,\n        \"samples\": [\n          2.206015138502641,\n          -0.31127034953834626\n        ],\n        \"semantic_type\": \"\",\n        \"description\": \"\"\n      }\n    },\n    {\n      \"column\": \"natureza_P?blico\",\n      \"properties\": {\n        \"dtype\": \"number\",\n        \"std\": 0,\n        \"min\": 0,\n        \"max\": 1,\n        \"num_unique_values\": 2,\n        \"samples\": [\n          1,\n          0\n        ],\n        \"semantic_type\": \"\",\n        \"description\": \"\"\n      }\n    },\n    {\n      \"column\": \"natureza_Privado SFL\",\n      \"properties\": {\n        \"dtype\": \"number\",\n        \"std\": 0,\n        \"min\": 0,\n        \"max\": 1,\n        \"num_unique_values\": 2,\n        \"samples\": [\n          0,\n          1\n        ],\n        \"semantic_type\": \"\",\n        \"description\": \"\"\n      }\n    },\n    {\n      \"column\": \"natureza_Privado\",\n      \"properties\": {\n        \"dtype\": \"number\",\n        \"std\": 0,\n        \"min\": 0,\n        \"max\": 1,\n        \"num_unique_values\": 2,\n        \"samples\": [\n          1,\n          0\n        ],\n        \"semantic_type\": \"\",\n        \"description\": \"\"\n      }\n    },\n    {\n      \"column\": \"natureza_nan\",\n      \"properties\": {\n        \"dtype\": \"number\",\n        \"std\": 0,\n        \"min\": 0,\n        \"max\": 1,\n        \"num_unique_values\": 2,\n        \"samples\": [\n          1,\n          0\n        ],\n        \"semantic_type\": \"\",\n        \"description\": \"\"\n      }\n    },\n    {\n      \"column\": \"missing_natureza\",\n      \"properties\": {\n        \"dtype\": \"number\",\n        \"std\": 0,\n        \"min\": 0,\n        \"max\": 1,\n        \"num_unique_values\": 2,\n        \"samples\": [\n          1,\n          0\n        ],\n        \"semantic_type\": \"\",\n        \"description\": \"\"\n      }\n    },\n    {\n      \"column\": \"ap_sexo_M\",\n      \"properties\": {\n        \"dtype\": \"number\",\n        \"std\": 0,\n        \"min\": 0,\n        \"max\": 1,\n        \"num_unique_values\": 2,\n        \"samples\": [\n          1,\n          0\n        ],\n        \"semantic_type\": \"\",\n        \"description\": \"\"\n      }\n    },\n    {\n      \"column\": \"status_resi_resi\",\n      \"properties\": {\n        \"dtype\": \"number\",\n        \"std\": 0,\n        \"min\": 0,\n        \"max\": 1,\n        \"num_unique_values\": 2,\n        \"samples\": [\n          0,\n          1\n        ],\n        \"semantic_type\": \"\",\n        \"description\": \"\"\n      }\n    }\n  ]\n}"
            }
          },
          "metadata": {},
          "execution_count": 33
        }
      ],
      "source": [
        "X_train.head(10)"
      ]
    },
    {
      "cell_type": "markdown",
      "id": "b0584c45-e2ec-4744-8749-8591e1168d3a",
      "metadata": {
        "id": "b0584c45-e2ec-4744-8749-8591e1168d3a"
      },
      "source": [
        "# Algoritmos de Machine Learning\n",
        "### Serão treinados algoritmos baseados em árvores: Random Forest, XGBoost, Catboost, LightGBM\n",
        "![image.png](attachment:981e881a-2513-4ce8-ac91-538fd9017be5.png)"
      ]
    },
    {
      "cell_type": "markdown",
      "id": "3f521324-d3ce-4e4e-9b23-d55b06ad1cd7",
      "metadata": {
        "id": "3f521324-d3ce-4e4e-9b23-d55b06ad1cd7"
      },
      "source": [
        "### Otimização de hiperparâmetros: definir os espaço de possibilidades e usar validação cruzada para escolher a melhor combinação\n",
        "![image.png](attachment:205241a9-eaae-4963-bd9e-b61fb7b93335.png)"
      ]
    },
    {
      "cell_type": "markdown",
      "id": "afbe1448-743a-42b5-a300-740dd93fa412",
      "metadata": {
        "id": "afbe1448-743a-42b5-a300-740dd93fa412"
      },
      "source": [
        "![image.png](attachment:ee58ccc7-68a9-42ff-95ef-c2d03f0004df.png)"
      ]
    },
    {
      "cell_type": "code",
      "execution_count": 34,
      "id": "0ad10f1d-37c8-43e1-994e-a0de9400939c",
      "metadata": {
        "id": "0ad10f1d-37c8-43e1-994e-a0de9400939c",
        "colab": {
          "base_uri": "https://localhost:8080/"
        },
        "outputId": "aea2041c-2cd3-44a3-9f17-4051412fdc85"
      },
      "outputs": [
        {
          "output_type": "stream",
          "name": "stdout",
          "text": [
            "\u001b[2K   \u001b[90m━━━━━━━━━━━━━━━━━━━━━━━━━━━━━━━━━━━━━━━━\u001b[0m \u001b[32m99.2/99.2 MB\u001b[0m \u001b[31m8.4 MB/s\u001b[0m eta \u001b[36m0:00:00\u001b[0m\n",
            "\u001b[?25h"
          ]
        }
      ],
      "source": [
        "!pip install catboost -q\n",
        "!pip install lightgbm -q\n",
        "!pip install xgboost -q"
      ]
    },
    {
      "cell_type": "code",
      "execution_count": 49,
      "id": "b6ab802f-cc60-439f-bb42-9b580c154214",
      "metadata": {
        "id": "b6ab802f-cc60-439f-bb42-9b580c154214"
      },
      "outputs": [],
      "source": [
        "from sklearn.ensemble import RandomForestClassifier\n",
        "from xgboost import XGBClassifier\n",
        "from catboost import CatBoostClassifier\n",
        "from lightgbm import LGBMClassifier\n",
        "\n",
        "from sklearn.model_selection import GridSearchCV, RandomizedSearchCV\n",
        "\n",
        "from sklearn.metrics import accuracy_score, precision_score, recall_score, f1_score, roc_auc_score\n",
        "from sklearn.model_selection import cross_val_score\n",
        "from sklearn.linear_model import LogisticRegression\n",
        "from sklearn import metrics"
      ]
    },
    {
      "cell_type": "markdown",
      "source": [
        "# Logistic Regression"
      ],
      "metadata": {
        "id": "NOFLK4GdamiA"
      },
      "id": "NOFLK4GdamiA"
    },
    {
      "cell_type": "code",
      "source": [
        "clf = LogisticRegression(random_state=0).fit(X_train, y_train)\n",
        "y_pred_rf = clf.predict(X_test)\n",
        "y_prob_rf = clf.predict_proba(X_test)[:, 1]\n",
        "\n",
        "accuracy_clf = accuracy_score(y_test, y_pred_rf)\n",
        "recall_clf = recall_score(y_test, y_pred_rf)\n",
        "precision_clf = precision_score(y_test, y_pred_rf)\n",
        "f1_clf = f1_score(y_test, y_pred_rf)\n",
        "auc_clf = roc_auc_score(y_test, y_prob_rf, )\n",
        "\n",
        "print(f'Logistic Regression - Accuracy:', round(accuracy_clf, 3))\n",
        "print(f'Logistic Regression - Recall:', round(recall_clf, 3))\n",
        "print(f'Logistic Regression - Precision:', round(precision_clf, 3))\n",
        "print(f'Logistic Regression - F1:', round(f1_clf, 3))\n",
        "print(f'Logistic Regression - ROC AUC:', round(auc_clf, 3))\n",
        "\n",
        "y_pred_proba = clf.predict_proba(X_test)[::,1]\n",
        "fpr_clf, tpr_clf, _ = metrics.roc_curve(y_test,  y_pred_rf)\n",
        "plt.plot(fpr_clf,tpr_clf,label=\"data 1, auc=\"+str(auc_clf))\n",
        "plt.legend(loc=4)\n",
        "plt.show()"
      ],
      "metadata": {
        "colab": {
          "base_uri": "https://localhost:8080/",
          "height": 517
        },
        "id": "_Vn_xmpGamDv",
        "outputId": "df9bf172-b6bb-4e20-8773-3f7845ea2cbc"
      },
      "id": "_Vn_xmpGamDv",
      "execution_count": 58,
      "outputs": [
        {
          "output_type": "stream",
          "name": "stdout",
          "text": [
            "Logistic Regression - Accuracy: 0.799\n",
            "Logistic Regression - Recall: 0.871\n",
            "Logistic Regression - Precision: 0.762\n",
            "Logistic Regression - F1: 0.813\n",
            "Logistic Regression - ROC AUC: 0.88\n"
          ]
        },
        {
          "output_type": "display_data",
          "data": {
            "text/plain": [
              "<Figure size 640x480 with 1 Axes>"
            ],
            "image/png": "[encoded data removed]"
          },
          "metadata": {}
        }
      ]
    },
    {
      "cell_type": "markdown",
      "id": "f27815be-e203-40ae-bb0c-309f512b1c66",
      "metadata": {
        "id": "f27815be-e203-40ae-bb0c-309f512b1c66"
      },
      "source": [
        "## Random Forest"
      ]
    },
    {
      "cell_type": "code",
      "execution_count": 37,
      "id": "13bd1f6e-f854-46fd-88ea-3768e1616322",
      "metadata": {
        "id": "13bd1f6e-f854-46fd-88ea-3768e1616322"
      },
      "outputs": [],
      "source": [
        "# criando o modelo\n",
        "rf=RandomForestClassifier(random_state=42)"
      ]
    },
    {
      "cell_type": "code",
      "execution_count": null,
      "id": "c7ae91b4-fb79-44f6-aa3d-4c260de5cf81",
      "metadata": {
        "id": "c7ae91b4-fb79-44f6-aa3d-4c260de5cf81"
      },
      "outputs": [],
      "source": [
        "# Possibilidades para alguns hiperparâmetros do random forest\n",
        "# param_grid_rf = {'n_estimators': [20, 50, 100],\n",
        "#                  'max_features': [2, 3, 4],\n",
        "#                  'max_depth': [2, 3, 4],\n",
        "#                 }"
      ]
    },
    {
      "cell_type": "code",
      "execution_count": null,
      "id": "f545174c-4933-4ca8-ba57-fb8a92ad29eb",
      "metadata": {
        "id": "f545174c-4933-4ca8-ba57-fb8a92ad29eb"
      },
      "outputs": [],
      "source": [
        "# o modelo fará uma avaliação cruzada com 10 partições para avaliar as combinações de hiperparâmetros\n",
        "# no fit indicamos quais os dados serão usados para treinamento\n",
        "# o best_params_ mostrará qual foi a melhor combinação\n",
        "\n",
        "# grid_search = RandomizedSearchCV(rf, n_iter=5, cv=10, verbose=1, param_distributions=param_grid_rf, random_state=42, n_jobs = -1)\n",
        "# grid_search.fit(X_train, y_train)\n",
        "# best_params_rf = grid_search.best_params_\n",
        "# best_params_rf"
      ]
    },
    {
      "cell_type": "code",
      "execution_count": 59,
      "id": "95cab0a1-a9c5-4ad0-92bd-672a4759ffaf",
      "metadata": {
        "colab": {
          "base_uri": "https://localhost:8080/",
          "height": 517
        },
        "id": "95cab0a1-a9c5-4ad0-92bd-672a4759ffaf",
        "outputId": "473b621f-6c25-4d61-a999-bece7ec504f5"
      },
      "outputs": [
        {
          "output_type": "stream",
          "name": "stdout",
          "text": [
            "Random Forest - Accuracy: 0.837\n",
            "Random Forest - Recall: 0.838\n",
            "Random Forest - Precision: 0.837\n",
            "Random Forest - F1: 0.838\n",
            "Random Forest - ROC AUC: 0.916\n"
          ]
        },
        {
          "output_type": "display_data",
          "data": {
            "text/plain": [
              "<Figure size 640x480 with 1 Axes>"
            ],
            "image/png": "[encoded data removed]"
          },
          "metadata": {}
        }
      ],
      "source": [
        "# ajustando o modelo escolhido pelo GridSearchCV\n",
        "# rf=RandomForestClassifier(**best_params_rf, random_state=42)\n",
        "rf=RandomForestClassifier(random_state=40)\n",
        "rf.fit(X_train, y_train)\n",
        "\n",
        "# os valores PREDITOS são obtidos na amostra de TESTE\n",
        "# o precict dará a classificação em uma categoria ou outra do desfecho\n",
        "# o predict_proba dará a probabilidade de ser classificado na categoria 1 do desfecho\n",
        "y_pred_rf = rf.predict(X_test)\n",
        "y_prob_rf = rf.predict_proba(X_test)[:, 1]\n",
        "\n",
        "# o calculo das métricas deve ser feito comparando o predito com o real (y_test)\n",
        "# a métrica AUC usa a predict_proba\n",
        "accuracy_rf = accuracy_score(y_test, y_pred_rf)\n",
        "recall_rf = recall_score(y_test, y_pred_rf)\n",
        "precision_rf = precision_score(y_test, y_pred_rf)\n",
        "f1_rf = f1_score(y_test, y_pred_rf)\n",
        "auc_rf = roc_auc_score(y_test, y_prob_rf, )\n",
        "\n",
        "print(f'Random Forest - Accuracy:', round(accuracy_rf, 3))\n",
        "print(f'Random Forest - Recall:', round(recall_rf, 3))\n",
        "print(f'Random Forest - Precision:', round(precision_rf, 3))\n",
        "print(f'Random Forest - F1:', round(f1_rf, 3))\n",
        "print(f'Random Forest - ROC AUC:', round(auc_rf, 3))\n",
        "\n",
        "y_pred_proba = rf.predict_proba(X_test)[::,1]\n",
        "fpr_rf, tpr_rf, _ = metrics.roc_curve(y_test,  y_pred_rf)\n",
        "plt.plot(fpr_rf,tpr_rf,label=\"data 1, auc=\"+str(auc_rf))\n",
        "plt.legend(loc=4)\n",
        "plt.show()"
      ]
    },
    {
      "cell_type": "code",
      "execution_count": null,
      "id": "i1pWcGXJzayj",
      "metadata": {
        "colab": {
          "base_uri": "https://localhost:8080/",
          "height": 300
        },
        "id": "i1pWcGXJzayj",
        "outputId": "902194a6-c5a4-4d76-e9a0-65c420e59f3d"
      },
      "outputs": [
        {
          "output_type": "execute_result",
          "data": {
            "text/plain": [
              "             reint\n",
              "count 44409.000000\n",
              "mean      0.206219\n",
              "std       0.404594\n",
              "min       0.000000\n",
              "25%       0.000000\n",
              "50%       0.000000\n",
              "75%       0.000000\n",
              "max       1.000000"
            ],
            "text/html": [
              "\n",
              "  <div id=\"df-b50ea61d-d58a-4267-94b8-9d235b8179e2\" class=\"colab-df-container\">\n",
              "    <div>\n",
              "<style scoped>\n",
              "    .dataframe tbody tr th:only-of-type {\n",
              "        vertical-align: middle;\n",
              "    }\n",
              "\n",
              "    .dataframe tbody tr th {\n",
              "        vertical-align: top;\n",
              "    }\n",
              "\n",
              "    .dataframe thead th {\n",
              "        text-align: right;\n",
              "    }\n",
              "</style>\n",
              "<table border=\"1\" class=\"dataframe\">\n",
              "  <thead>\n",
              "    <tr style=\"text-align: right;\">\n",
              "      <th></th>\n",
              "      <th>reint</th>\n",
              "    </tr>\n",
              "  </thead>\n",
              "  <tbody>\n",
              "    <tr>\n",
              "      <th>count</th>\n",
              "      <td>44409.000000</td>\n",
              "    </tr>\n",
              "    <tr>\n",
              "      <th>mean</th>\n",
              "      <td>0.206219</td>\n",
              "    </tr>\n",
              "    <tr>\n",
              "      <th>std</th>\n",
              "      <td>0.404594</td>\n",
              "    </tr>\n",
              "    <tr>\n",
              "      <th>min</th>\n",
              "      <td>0.000000</td>\n",
              "    </tr>\n",
              "    <tr>\n",
              "      <th>25%</th>\n",
              "      <td>0.000000</td>\n",
              "    </tr>\n",
              "    <tr>\n",
              "      <th>50%</th>\n",
              "      <td>0.000000</td>\n",
              "    </tr>\n",
              "    <tr>\n",
              "      <th>75%</th>\n",
              "      <td>0.000000</td>\n",
              "    </tr>\n",
              "    <tr>\n",
              "      <th>max</th>\n",
              "      <td>1.000000</td>\n",
              "    </tr>\n",
              "  </tbody>\n",
              "</table>\n",
              "</div>\n",
              "    <div class=\"colab-df-buttons\">\n",
              "\n",
              "  <div class=\"colab-df-container\">\n",
              "    <button class=\"colab-df-convert\" onclick=\"convertToInteractive('df-b50ea61d-d58a-4267-94b8-9d235b8179e2')\"\n",
              "            title=\"Convert this dataframe to an interactive table.\"\n",
              "            style=\"display:none;\">\n",
              "\n",
              "  <svg xmlns=\"http://www.w3.org/2000/svg\" height=\"24px\" viewBox=\"0 -960 960 960\">\n",
              "    <path d=\"M120-120v-720h720v720H120Zm60-500h600v-160H180v160Zm220 220h160v-160H400v160Zm0 220h160v-160H400v160ZM180-400h160v-160H180v160Zm440 0h160v-160H620v160ZM180-180h160v-160H180v160Zm440 0h160v-160H620v160Z\"/>\n",
              "  </svg>\n",
              "    </button>\n",
              "\n",
              "  <style>\n",
              "    .colab-df-container {\n",
              "      display:flex;\n",
              "      gap: 12px;\n",
              "    }\n",
              "\n",
              "    .colab-df-convert {\n",
              "      background-color: #E8F0FE;\n",
              "      border: none;\n",
              "      border-radius: 50%;\n",
              "      cursor: pointer;\n",
              "      display: none;\n",
              "      fill: #1967D2;\n",
              "      height: 32px;\n",
              "      padding: 0 0 0 0;\n",
              "      width: 32px;\n",
              "    }\n",
              "\n",
              "    .colab-df-convert:hover {\n",
              "      background-color: #E2EBFA;\n",
              "      box-shadow: 0px 1px 2px rgba(60, 64, 67, 0.3), 0px 1px 3px 1px rgba(60, 64, 67, 0.15);\n",
              "      fill: #174EA6;\n",
              "    }\n",
              "\n",
              "    .colab-df-buttons div {\n",
              "      margin-bottom: 4px;\n",
              "    }\n",
              "\n",
              "    [theme=dark] .colab-df-convert {\n",
              "      background-color: #3B4455;\n",
              "      fill: #D2E3FC;\n",
              "    }\n",
              "\n",
              "    [theme=dark] .colab-df-convert:hover {\n",
              "      background-color: #434B5C;\n",
              "      box-shadow: 0px 1px 3px 1px rgba(0, 0, 0, 0.15);\n",
              "      filter: drop-shadow(0px 1px 2px rgba(0, 0, 0, 0.3));\n",
              "      fill: #FFFFFF;\n",
              "    }\n",
              "  </style>\n",
              "\n",
              "    <script>\n",
              "      const buttonEl =\n",
              "        document.querySelector('#df-b50ea61d-d58a-4267-94b8-9d235b8179e2 button.colab-df-convert');\n",
              "      buttonEl.style.display =\n",
              "        google.colab.kernel.accessAllowed ? 'block' : 'none';\n",
              "\n",
              "      async function convertToInteractive(key) {\n",
              "        const element = document.querySelector('#df-b50ea61d-d58a-4267-94b8-9d235b8179e2');\n",
              "        const dataTable =\n",
              "          await google.colab.kernel.invokeFunction('convertToInteractive',\n",
              "                                                    [key], {});\n",
              "        if (!dataTable) return;\n",
              "\n",
              "        const docLinkHtml = 'Like what you see? Visit the ' +\n",
              "          '<a target=\"_blank\" href=https://colab.research.google.com/notebooks/data_table.ipynb>data table notebook</a>'\n",
              "          + ' to learn more about interactive tables.';\n",
              "        element.innerHTML = '';\n",
              "        dataTable['output_type'] = 'display_data';\n",
              "        await google.colab.output.renderOutput(dataTable, element);\n",
              "        const docLink = document.createElement('div');\n",
              "        docLink.innerHTML = docLinkHtml;\n",
              "        element.appendChild(docLink);\n",
              "      }\n",
              "    </script>\n",
              "  </div>\n",
              "\n",
              "\n",
              "    <div id=\"df-a1531322-e44f-4312-b7f7-48ef1e7cceed\">\n",
              "      <button class=\"colab-df-quickchart\" onclick=\"quickchart('df-a1531322-e44f-4312-b7f7-48ef1e7cceed')\"\n",
              "                title=\"Suggest charts\"\n",
              "                style=\"display:none;\">\n",
              "\n",
              "<svg xmlns=\"http://www.w3.org/2000/svg\" height=\"24px\"viewBox=\"0 0 24 24\"\n",
              "     width=\"24px\">\n",
              "    <g>\n",
              "        <path d=\"M19 3H5c-1.1 0-2 .9-2 2v14c0 1.1.9 2 2 2h14c1.1 0 2-.9 2-2V5c0-1.1-.9-2-2-2zM9 17H7v-7h2v7zm4 0h-2V7h2v10zm4 0h-2v-4h2v4z\"/>\n",
              "    </g>\n",
              "</svg>\n",
              "      </button>\n",
              "\n",
              "<style>\n",
              "  .colab-df-quickchart {\n",
              "      --bg-color: #E8F0FE;\n",
              "      --fill-color: #1967D2;\n",
              "      --hover-bg-color: #E2EBFA;\n",
              "      --hover-fill-color: #174EA6;\n",
              "      --disabled-fill-color: #AAA;\n",
              "      --disabled-bg-color: #DDD;\n",
              "  }\n",
              "\n",
              "  [theme=dark] .colab-df-quickchart {\n",
              "      --bg-color: #3B4455;\n",
              "      --fill-color: #D2E3FC;\n",
              "      --hover-bg-color: #434B5C;\n",
              "      --hover-fill-color: #FFFFFF;\n",
              "      --disabled-bg-color: #3B4455;\n",
              "      --disabled-fill-color: #666;\n",
              "  }\n",
              "\n",
              "  .colab-df-quickchart {\n",
              "    background-color: var(--bg-color);\n",
              "    border: none;\n",
              "    border-radius: 50%;\n",
              "    cursor: pointer;\n",
              "    display: none;\n",
              "    fill: var(--fill-color);\n",
              "    height: 32px;\n",
              "    padding: 0;\n",
              "    width: 32px;\n",
              "  }\n",
              "\n",
              "  .colab-df-quickchart:hover {\n",
              "    background-color: var(--hover-bg-color);\n",
              "    box-shadow: 0 1px 2px rgba(60, 64, 67, 0.3), 0 1px 3px 1px rgba(60, 64, 67, 0.15);\n",
              "    fill: var(--button-hover-fill-color);\n",
              "  }\n",
              "\n",
              "  .colab-df-quickchart-complete:disabled,\n",
              "  .colab-df-quickchart-complete:disabled:hover {\n",
              "    background-color: var(--disabled-bg-color);\n",
              "    fill: var(--disabled-fill-color);\n",
              "    box-shadow: none;\n",
              "  }\n",
              "\n",
              "  .colab-df-spinner {\n",
              "    border: 2px solid var(--fill-color);\n",
              "    border-color: transparent;\n",
              "    border-bottom-color: var(--fill-color);\n",
              "    animation:\n",
              "      spin 1s steps(1) infinite;\n",
              "  }\n",
              "\n",
              "  @keyframes spin {\n",
              "    0% {\n",
              "      border-color: transparent;\n",
              "      border-bottom-color: var(--fill-color);\n",
              "      border-left-color: var(--fill-color);\n",
              "    }\n",
              "    20% {\n",
              "      border-color: transparent;\n",
              "      border-left-color: var(--fill-color);\n",
              "      border-top-color: var(--fill-color);\n",
              "    }\n",
              "    30% {\n",
              "      border-color: transparent;\n",
              "      border-left-color: var(--fill-color);\n",
              "      border-top-color: var(--fill-color);\n",
              "      border-right-color: var(--fill-color);\n",
              "    }\n",
              "    40% {\n",
              "      border-color: transparent;\n",
              "      border-right-color: var(--fill-color);\n",
              "      border-top-color: var(--fill-color);\n",
              "    }\n",
              "    60% {\n",
              "      border-color: transparent;\n",
              "      border-right-color: var(--fill-color);\n",
              "    }\n",
              "    80% {\n",
              "      border-color: transparent;\n",
              "      border-right-color: var(--fill-color);\n",
              "      border-bottom-color: var(--fill-color);\n",
              "    }\n",
              "    90% {\n",
              "      border-color: transparent;\n",
              "      border-bottom-color: var(--fill-color);\n",
              "    }\n",
              "  }\n",
              "</style>\n",
              "\n",
              "      <script>\n",
              "        async function quickchart(key) {\n",
              "          const quickchartButtonEl =\n",
              "            document.querySelector('#' + key + ' button');\n",
              "          quickchartButtonEl.disabled = true;  // To prevent multiple clicks.\n",
              "          quickchartButtonEl.classList.add('colab-df-spinner');\n",
              "          try {\n",
              "            const charts = await google.colab.kernel.invokeFunction(\n",
              "                'suggestCharts', [key], {});\n",
              "          } catch (error) {\n",
              "            console.error('Error during call to suggestCharts:', error);\n",
              "          }\n",
              "          quickchartButtonEl.classList.remove('colab-df-spinner');\n",
              "          quickchartButtonEl.classList.add('colab-df-quickchart-complete');\n",
              "        }\n",
              "        (() => {\n",
              "          let quickchartButtonEl =\n",
              "            document.querySelector('#df-a1531322-e44f-4312-b7f7-48ef1e7cceed button');\n",
              "          quickchartButtonEl.style.display =\n",
              "            google.colab.kernel.accessAllowed ? 'block' : 'none';\n",
              "        })();\n",
              "      </script>\n",
              "    </div>\n",
              "\n",
              "    </div>\n",
              "  </div>\n"
            ],
            "application/vnd.google.colaboratory.intrinsic+json": {
              "type": "dataframe",
              "summary": "{\n  \"name\": \"y_test\",\n  \"rows\": 8,\n  \"fields\": [\n    {\n      \"column\": \"reint\",\n      \"properties\": {\n        \"dtype\": \"number\",\n        \"std\": 15700.871168268672,\n        \"min\": 0.0,\n        \"max\": 44409.0,\n        \"num_unique_values\": 5,\n        \"samples\": [\n          0.20621946001936545,\n          1.0,\n          0.4045944641781218\n        ],\n        \"semantic_type\": \"\",\n        \"description\": \"\"\n      }\n    }\n  ]\n}"
            }
          },
          "metadata": {},
          "execution_count": 80
        }
      ],
      "source": [
        "y_test.describe()\n"
      ]
    },
    {
      "cell_type": "code",
      "execution_count": null,
      "id": "8GsRUxEkx9lT",
      "metadata": {
        "colab": {
          "base_uri": "https://localhost:8080/"
        },
        "id": "8GsRUxEkx9lT",
        "outputId": "2ba5e1db-d7a1-4b4b-d15f-23c8f46ade96"
      },
      "outputs": [
        {
          "output_type": "execute_result",
          "data": {
            "text/plain": [
              "DescribeResult(nobs=44409, minmax=(np.int64(0), np.int64(1)), mean=np.float64(0.15825620932693824), variance=np.float64(0.13321418124775442), skewness=np.float64(1.8726658375621017), kurtosis=np.float64(1.5068773391721662))"
            ]
          },
          "metadata": {},
          "execution_count": 81
        }
      ],
      "source": [
        "\n",
        "from scipy import stats\n",
        "stats.describe(y_pred_rf)\n",
        "\n"
      ]
    },
    {
      "cell_type": "markdown",
      "id": "53afb9c5-6610-4073-a415-79cdf85e2bbc",
      "metadata": {
        "id": "53afb9c5-6610-4073-a415-79cdf85e2bbc"
      },
      "source": [
        "## XGBoost"
      ]
    },
    {
      "cell_type": "code",
      "execution_count": 39,
      "id": "c8f5122c-c4c8-434d-8374-b5a46b865dcd",
      "metadata": {
        "id": "c8f5122c-c4c8-434d-8374-b5a46b865dcd"
      },
      "outputs": [],
      "source": [
        "# criando o modelo\n",
        "xgb=XGBClassifier(random_state=42)"
      ]
    },
    {
      "cell_type": "code",
      "execution_count": null,
      "id": "93da6c15-cb89-46b9-95e9-6c7ab78f62f3",
      "metadata": {
        "id": "93da6c15-cb89-46b9-95e9-6c7ab78f62f3"
      },
      "outputs": [],
      "source": [
        "# definindo as possibilidades ou range para alguns hiperparâmetros do XGBoost\n",
        "# grid_xgboost = {\n",
        "#     'n_estimators': [50, 100, 200],\n",
        "#     'max_depth': [3, 4, 5],\n",
        "#     'eta': [0.01, 0.05, 0.1]\n",
        "# }"
      ]
    },
    {
      "cell_type": "code",
      "execution_count": null,
      "id": "4ac932d3-a405-49bc-b451-cbe26408d501",
      "metadata": {
        "id": "4ac932d3-a405-49bc-b451-cbe26408d501"
      },
      "outputs": [],
      "source": [
        "# o modelo fará uma avaliação cruzada com 10 partições para avaliar as combinações de hiperparâmetros\n",
        "# no fit indicamos quais os dados serão usados para treinamento\n",
        "# o best_params_ mostrará qual foi a melhor combinação\n",
        "\n",
        "# grid_search = RandomizedSearchCV(xgb, n_iter=5, cv=10, verbose=1, param_distributions=grid_xgboost, random_state=42, n_jobs = -1)\n",
        "# grid_search.fit(X_train, y_train)\n",
        "# best_params_xgb = grid_search.best_params_\n",
        "# best_params_xgb"
      ]
    },
    {
      "cell_type": "code",
      "execution_count": 54,
      "id": "1a9cebf4-9f26-4ea2-8a57-cd601cab3eab",
      "metadata": {
        "colab": {
          "base_uri": "https://localhost:8080/",
          "height": 517
        },
        "id": "1a9cebf4-9f26-4ea2-8a57-cd601cab3eab",
        "outputId": "1c0a9b5d-4b84-4b90-ef34-b59443204f1c"
      },
      "outputs": [
        {
          "output_type": "stream",
          "name": "stdout",
          "text": [
            "XGBoost - Accuracy: 0.885\n",
            "XGBoost - Recall: 0.936\n",
            "XGBoost - Precision: 0.849\n",
            "XGBoost - F1: 0.89\n",
            "XGBoost - ROC AUC: 0.9435778930008663\n"
          ]
        },
        {
          "output_type": "display_data",
          "data": {
            "text/plain": [
              "<Figure size 640x480 with 1 Axes>"
            ],
            "image/png": "[encoded data removed]"
          },
          "metadata": {}
        }
      ],
      "source": [
        "# ajustando o modelo escolhido pelo GridSearchCV\n",
        "#xgb=XGBClassifier(**best_params_xgb, random_state=42)\n",
        "xgb=XGBClassifier(random_state=42)\n",
        "xgb.fit(X_train, y_train)\n",
        "\n",
        "# os valores PREDITOS são obtidos na amostra de TESTE\n",
        "# o precict dará a classificação em uma categoria ou outra do desfecho\n",
        "# o predict_proba dará a probabilidade de ser classificado na categoria 1 do desfecho\n",
        "y_pred_xgb = xgb.predict(X_test)\n",
        "y_prob_xgb = xgb.predict_proba(X_test)[:, 1]\n",
        "\n",
        "# o calculo das métricas deve ser feito comparando o predito com o real (y_test)\n",
        "# a métrica AUC usa a predict_proba\n",
        "accuracy_xgb = accuracy_score(y_test, y_pred_xgb)\n",
        "auc_xgb = roc_auc_score(y_test, y_prob_xgb)\n",
        "recall_xgb = recall_score(y_test, y_pred_xgb)\n",
        "precision_xgb = precision_score(y_test, y_pred_xgb)\n",
        "f1_xgb = f1_score(y_test, y_pred_xgb)\n",
        "\n",
        "print(f'XGBoost - Accuracy:', round(accuracy_xgb, 3))\n",
        "print(f'XGBoost - Recall:', round(recall_xgb, 3))\n",
        "print(f'XGBoost - Precision:', round(precision_xgb, 3))\n",
        "print(f'XGBoost - F1:', round(f1_xgb, 3))\n",
        "print(f'XGBoost - ROC AUC:', auc_xgb)\n",
        "\n",
        "y_pred_proba = xgb.predict_proba(X_test)[::,1]\n",
        "fpr_xgb, tpr_xgb, _ = metrics.roc_curve(y_test,  y_pred_xgb)\n",
        "plt.plot(fpr_xgb,tpr_xgb,label=\"data 1, auc=\"+str(auc_xgb))\n",
        "plt.legend(loc=4)\n",
        "plt.show()"
      ]
    },
    {
      "cell_type": "markdown",
      "id": "f0eb442e-5e87-4372-a1cc-a9754bee1743",
      "metadata": {
        "id": "f0eb442e-5e87-4372-a1cc-a9754bee1743"
      },
      "source": [
        "## Catboost"
      ]
    },
    {
      "cell_type": "code",
      "execution_count": 41,
      "id": "b9abaa25-a1f7-49b0-81aa-a5cf26398f51",
      "metadata": {
        "id": "b9abaa25-a1f7-49b0-81aa-a5cf26398f51"
      },
      "outputs": [],
      "source": [
        "# criando o modelo\n",
        "cat = CatBoostClassifier(eval_metric='Logloss', silent = True, random_state=42)"
      ]
    },
    {
      "cell_type": "code",
      "execution_count": null,
      "id": "6376c853-5705-46a3-8a19-98120fd6bfd4",
      "metadata": {
        "id": "6376c853-5705-46a3-8a19-98120fd6bfd4"
      },
      "outputs": [],
      "source": [
        "# definindo as possibilidades ou range para os hiperparâmetros do catboost\n",
        "# grid_cat = {\"depth\": [2, 3, 4],\n",
        "#             \"iterations\": [20, 50, 100],\n",
        "#             \"learning_rate\": [0.01, 0.1]\n",
        "#            }"
      ]
    },
    {
      "cell_type": "code",
      "execution_count": null,
      "id": "7df4f5d3-39a6-43ca-acb2-e61ccc3c37ba",
      "metadata": {
        "id": "7df4f5d3-39a6-43ca-acb2-e61ccc3c37ba"
      },
      "outputs": [],
      "source": [
        "# o modelo fará uma avaliação cruzada com 10 partições para avaliar as combinações de hiperparâmetros\n",
        "# no fit indicamos quais os dados serão usados para treinamento\n",
        "# o best_params_ mostrará qual foi a melhor combinação\n",
        "\n",
        "# grid_search = RandomizedSearchCV(cat, n_iter=5, cv=10, verbose=1, param_distributions=grid_cat, random_state=42, n_jobs = -1)\n",
        "# grid_search.fit(X_train, y_train)\n",
        "# best_params_cat = grid_search.best_params_\n",
        "# best_params_cat"
      ]
    },
    {
      "cell_type": "code",
      "execution_count": 60,
      "id": "8a2b1113-9b6b-4a8e-92b4-71f7aa1b2aff",
      "metadata": {
        "colab": {
          "base_uri": "https://localhost:8080/",
          "height": 517
        },
        "id": "8a2b1113-9b6b-4a8e-92b4-71f7aa1b2aff",
        "outputId": "44fa79ca-1239-4624-9b76-00dc93cca330"
      },
      "outputs": [
        {
          "output_type": "stream",
          "name": "stdout",
          "text": [
            "Catboost - Accuracy: 0.889\n",
            "Catboost - Recall: 0.945\n",
            "Catboost - Precision: 0.85\n",
            "Catboost - F1: 0.895\n",
            "Catboost - ROC AUC: 0.948\n"
          ]
        },
        {
          "output_type": "display_data",
          "data": {
            "text/plain": [
              "<Figure size 640x480 with 1 Axes>"
            ],
            "image/png": "[encoded data removed]"
          },
          "metadata": {}
        }
      ],
      "source": [
        "# ajustando o modelo escolhido pelo GridSearchCV\n",
        "#cat=CatBoostClassifier(**best_params_cat, eval_metric='Logloss', silent = True, random_state=42)\n",
        "cat=CatBoostClassifier(eval_metric='Logloss', silent = True, random_state=42)\n",
        "cat.fit(X_train, y_train)\n",
        "\n",
        "# os valores PREDITOS são obtidos na amostra de TESTE\n",
        "# o precict dará a classificação em uma categoria ou outra do desfecho\n",
        "# o predict_proba dará a probabilidade de ser classificado na categoria 1 do desfecho\n",
        "y_pred_cat = cat.predict(X_test)\n",
        "y_prob_cat = cat.predict_proba(X_test)[:, 1]\n",
        "\n",
        "# o calculo das métricas deve ser feito comparando o predito com o real (y_test)\n",
        "# a métrica AUC usa a predict_proba\n",
        "accuracy_cat = accuracy_score(y_test, y_pred_cat)\n",
        "auc_cat = roc_auc_score(y_test, y_prob_cat)\n",
        "recall_cat = recall_score(y_test, y_pred_cat)\n",
        "precision_cat = precision_score(y_test, y_pred_cat)\n",
        "f1_cat = f1_score(y_test, y_pred_cat)\n",
        "print(f'Catboost - Accuracy:', round(accuracy_cat, 3))\n",
        "print(f'Catboost - Recall:', round(recall_cat, 3))\n",
        "print(f'Catboost - Precision:', round(precision_cat, 3))\n",
        "print(f'Catboost - F1:', round(f1_cat, 3))\n",
        "print(f'Catboost - ROC AUC:', round(auc_cat, 3))\n",
        "\n",
        "\n",
        "y_pred_proba = cat.predict_proba(X_test)[::,1]\n",
        "fpr_cat, tpr_cat, _ = metrics.roc_curve(y_test,  y_pred_cat)\n",
        "plt.plot(fpr_cat,tpr_cat,label=\"data 1, auc=\"+str(auc_cat))\n",
        "plt.legend(loc=4)\n",
        "plt.show()"
      ]
    },
    {
      "cell_type": "markdown",
      "id": "947a1cb9-734e-4e91-859f-7fa1396202c5",
      "metadata": {
        "id": "947a1cb9-734e-4e91-859f-7fa1396202c5"
      },
      "source": [
        "## LightGBM"
      ]
    },
    {
      "cell_type": "code",
      "execution_count": 43,
      "id": "a5fe7e32-58fa-447d-a4a7-ec1d44f792b1",
      "metadata": {
        "id": "a5fe7e32-58fa-447d-a4a7-ec1d44f792b1"
      },
      "outputs": [],
      "source": [
        "# criando o modelo\n",
        "lgb = LGBMClassifier(verbose=-1, random_state=42)"
      ]
    },
    {
      "cell_type": "code",
      "execution_count": null,
      "id": "ced2155e-43ea-4d3a-a21e-21e13bbca586",
      "metadata": {
        "id": "ced2155e-43ea-4d3a-a21e-21e13bbca586"
      },
      "outputs": [],
      "source": [
        "# definindo as possibilidades ou range para os hiperparâmetros do lightgbm\n",
        "# grid_lgb = {'max_depth': (2, 3, 4),\n",
        "#             'n_estimators': [50, 100, 200],\n",
        "#             'learning_rate': [0.05, 0.1, 0.2]\n",
        "#            }"
      ]
    },
    {
      "cell_type": "code",
      "execution_count": null,
      "id": "e6d5f8e6-27e8-49f0-84a4-751ce70af3e7",
      "metadata": {
        "id": "e6d5f8e6-27e8-49f0-84a4-751ce70af3e7"
      },
      "outputs": [],
      "source": [
        "# o modelo fará uma avaliação cruzada com 10 partições para avaliar as combinações de hiperparâmetros\n",
        "# no fit indicamos quais os dados serão usados para treinamento\n",
        "# o best_params_ mostrará qual foi a melhor combinação\n",
        "\n",
        "# grid_search = RandomizedSearchCV(lgb, n_iter=5, cv=10, verbose=1, param_distributions=grid_lgb, random_state=42, n_jobs = -1)\n",
        "# grid_search.fit(X_train, y_train)\n",
        "# best_params_lgb = grid_search.best_params_\n",
        "# best_params_lgb"
      ]
    },
    {
      "cell_type": "code",
      "execution_count": 61,
      "id": "a9bf184d-c0da-4701-b3f4-6e75bec1f583",
      "metadata": {
        "id": "a9bf184d-c0da-4701-b3f4-6e75bec1f583",
        "colab": {
          "base_uri": "https://localhost:8080/",
          "height": 517
        },
        "outputId": "e86e1b4a-1875-419e-c594-ec6e56843741"
      },
      "outputs": [
        {
          "output_type": "stream",
          "name": "stdout",
          "text": [
            "LightGBM - Accuracy: 0.889\n",
            "LightGBM - Recall: 0.937\n",
            "LightGBM - Precision: 0.855\n",
            "LightGBM - F1: 0.894\n",
            "LightGBM - ROC AUC: 0.948\n"
          ]
        },
        {
          "output_type": "display_data",
          "data": {
            "text/plain": [
              "<Figure size 640x480 with 1 Axes>"
            ],
            "image/png": "[encoded data removed]"
          },
          "metadata": {}
        }
      ],
      "source": [
        "# ajustando o modelo escolhido pelo GridSearchCV\n",
        "#lgb=LGBMClassifier(**best_params_lgb, verbose=-1)\n",
        "lgb=LGBMClassifier(verbose=-1)\n",
        "lgb.fit(X_train, y_train)\n",
        "\n",
        "# os valores PREDITOS são obtidos na amostra de TESTE\n",
        "# o precict dará a classificação em uma categoria ou outra do desfecho\n",
        "# o predict_proba dará a probabilidade de ser classificado na categoria 1 do desfecho\n",
        "y_pred_lgb = lgb.predict(X_test)\n",
        "y_prob_lgb = lgb.predict_proba(X_test)[:, 1]\n",
        "\n",
        "accuracy_lgb = accuracy_score(y_test, y_pred_lgb)\n",
        "auc_lgb = roc_auc_score(y_test, y_prob_lgb)\n",
        "recall_lgb = recall_score(y_test, y_pred_lgb)\n",
        "precision_lgb = precision_score(y_test, y_pred_lgb)\n",
        "f1_lgb = f1_score(y_test, y_pred_lgb)\n",
        "\n",
        "print(f'LightGBM - Accuracy:', round(accuracy_lgb, 3))\n",
        "print(f'LightGBM - Recall:', round(recall_lgb, 3))\n",
        "print(f'LightGBM - Precision:', round(precision_lgb, 3))\n",
        "print(f'LightGBM - F1:', round(f1_lgb, 3))\n",
        "print(f'LightGBM - ROC AUC:', round(auc_lgb, 3))\n",
        "\n",
        "fpr_lgb, tpr_lgb, _ = metrics.roc_curve(y_test,  y_pred_lgb)\n",
        "plt.plot(fpr_lgb,tpr_lgb,label=\"data 1, auc=\"+str(auc_lgb))\n",
        "plt.legend(loc=4)\n",
        "plt.show()"
      ]
    },
    {
      "cell_type": "code",
      "source": [
        "plt.plot(fpr_clf,tpr_clf,label=\"clf, auc=\"+str(auc_clf))\n",
        "plt.plot(fpr_rf,tpr_rf,label=\"rf, auc=\"+str(auc_rf))\n",
        "plt.plot(fpr_xgb,tpr_xgb,label=\"xgb, auc=\"+str(auc_xgb))\n",
        "plt.plot(fpr_cat,tpr_cat,label=\"cat, auc=\"+str(auc_cat))\n",
        "plt.plot(fpr_lgb,tpr_lgb,label=\"lgb, auc=\"+str(auc_lgb))\n",
        "\n",
        "plt.legend(loc=4)\n",
        "plt.show()"
      ],
      "metadata": {
        "colab": {
          "base_uri": "https://localhost:8080/",
          "height": 430
        },
        "id": "Wp-8NJpAiRup",
        "outputId": "c3177870-f474-4d1a-9c9c-da2934cffc86"
      },
      "id": "Wp-8NJpAiRup",
      "execution_count": 68,
      "outputs": [
        {
          "output_type": "display_data",
          "data": {
            "text/plain": [
              "<Figure size 640x480 with 1 Axes>"
            ],
            "image/png": "[encoded data removed]"
          },
          "metadata": {}
        }
      ]
    },
    {
      "cell_type": "markdown",
      "id": "5c92c5fc-7c86-40b3-895b-01270e7b8076",
      "metadata": {
        "id": "5c92c5fc-7c86-40b3-895b-01270e7b8076"
      },
      "source": [
        "### Criar uma tabela com as métricas para comparar os modelos"
      ]
    },
    {
      "cell_type": "code",
      "execution_count": 45,
      "id": "103dc0ec-af92-4ba2-ad45-03f87b14247d",
      "metadata": {
        "id": "103dc0ec-af92-4ba2-ad45-03f87b14247d"
      },
      "outputs": [],
      "source": [
        "# criando uma tabela com as métricas\n",
        "col_names = [\"Modelo\", \"AUC(ROC)\", \"Precision\", \"Recall\", \"F1\", \"Accuracy\"] # definindo o cabeçalho\n",
        "\n",
        "# definindo os valores\n",
        "data = [[\"Random Forest\",auc_rf, precision_rf,recall_rf, f1_rf, accuracy_rf],\n",
        "        [\"XGBoost\",auc_xgb, precision_xgb,recall_xgb, f1_xgb, accuracy_xgb],\n",
        "        [\"LightGBM\",auc_lgb, precision_lgb,recall_lgb, f1_lgb, accuracy_lgb],\n",
        "        [\"Catboost\",auc_cat, precision_cat,recall_cat, f1_cat, accuracy_cat],\n",
        "        [\"Logistic Regression\", auc_clf, precision_clf,recall_clf, f1_clf, accuracy_clf]]"
      ]
    },
    {
      "cell_type": "code",
      "execution_count": 46,
      "id": "61ebfa9e-f9f1-49ff-bae7-956b4a59ead2",
      "metadata": {
        "colab": {
          "base_uri": "https://localhost:8080/",
          "height": 224
        },
        "id": "61ebfa9e-f9f1-49ff-bae7-956b4a59ead2",
        "outputId": "7ed4d77e-539a-4202-ae91-f32b33402b8c"
      },
      "outputs": [
        {
          "output_type": "stream",
          "name": "stdout",
          "text": [
            "Resultados para conjunto de teste.\n"
          ]
        },
        {
          "output_type": "execute_result",
          "data": {
            "text/plain": [
              "<pandas.io.formats.style.Styler at 0x798ce1c97790>"
            ],
            "text/html": [
              "<style type=\"text/css\">\n",
              "#T_1b868_row2_col1, #T_1b868_row2_col2, #T_1b868_row3_col3, #T_1b868_row3_col4, #T_1b868_row3_col5 {\n",
              "  background: yellow;\n",
              "}\n",
              "</style>\n",
              "<table id=\"T_1b868\" class=\"dataframe\">\n",
              "  <thead>\n",
              "    <tr>\n",
              "      <th class=\"blank level0\" >&nbsp;</th>\n",
              "      <th id=\"T_1b868_level0_col0\" class=\"col_heading level0 col0\" >Modelo</th>\n",
              "      <th id=\"T_1b868_level0_col1\" class=\"col_heading level0 col1\" >AUC(ROC)</th>\n",
              "      <th id=\"T_1b868_level0_col2\" class=\"col_heading level0 col2\" >Precision</th>\n",
              "      <th id=\"T_1b868_level0_col3\" class=\"col_heading level0 col3\" >Recall</th>\n",
              "      <th id=\"T_1b868_level0_col4\" class=\"col_heading level0 col4\" >F1</th>\n",
              "      <th id=\"T_1b868_level0_col5\" class=\"col_heading level0 col5\" >Accuracy</th>\n",
              "    </tr>\n",
              "  </thead>\n",
              "  <tbody>\n",
              "    <tr>\n",
              "      <th id=\"T_1b868_level0_row0\" class=\"row_heading level0 row0\" >0</th>\n",
              "      <td id=\"T_1b868_row0_col0\" class=\"data row0 col0\" >Random Forest</td>\n",
              "      <td id=\"T_1b868_row0_col1\" class=\"data row0 col1\" >0.915906</td>\n",
              "      <td id=\"T_1b868_row0_col2\" class=\"data row0 col2\" >0.837059</td>\n",
              "      <td id=\"T_1b868_row0_col3\" class=\"data row0 col3\" >0.838020</td>\n",
              "      <td id=\"T_1b868_row0_col4\" class=\"data row0 col4\" >0.837539</td>\n",
              "      <td id=\"T_1b868_row0_col5\" class=\"data row0 col5\" >0.837458</td>\n",
              "    </tr>\n",
              "    <tr>\n",
              "      <th id=\"T_1b868_level0_row1\" class=\"row_heading level0 row1\" >1</th>\n",
              "      <td id=\"T_1b868_row1_col0\" class=\"data row1 col0\" >XGBoost</td>\n",
              "      <td id=\"T_1b868_row1_col1\" class=\"data row1 col1\" >0.943578</td>\n",
              "      <td id=\"T_1b868_row1_col2\" class=\"data row1 col2\" >0.848765</td>\n",
              "      <td id=\"T_1b868_row1_col3\" class=\"data row1 col3\" >0.936442</td>\n",
              "      <td id=\"T_1b868_row1_col4\" class=\"data row1 col4\" >0.890450</td>\n",
              "      <td id=\"T_1b868_row1_col5\" class=\"data row1 col5\" >0.884800</td>\n",
              "    </tr>\n",
              "    <tr>\n",
              "      <th id=\"T_1b868_level0_row2\" class=\"row_heading level0 row2\" >2</th>\n",
              "      <td id=\"T_1b868_row2_col0\" class=\"data row2 col0\" >LightGBM</td>\n",
              "      <td id=\"T_1b868_row2_col1\" class=\"data row2 col1\" >0.948398</td>\n",
              "      <td id=\"T_1b868_row2_col2\" class=\"data row2 col2\" >0.854581</td>\n",
              "      <td id=\"T_1b868_row2_col3\" class=\"data row2 col3\" >0.936729</td>\n",
              "      <td id=\"T_1b868_row2_col4\" class=\"data row2 col4\" >0.893771</td>\n",
              "      <td id=\"T_1b868_row2_col5\" class=\"data row2 col5\" >0.888674</td>\n",
              "    </tr>\n",
              "    <tr>\n",
              "      <th id=\"T_1b868_level0_row3\" class=\"row_heading level0 row3\" >3</th>\n",
              "      <td id=\"T_1b868_row3_col0\" class=\"data row3 col0\" >Catboost</td>\n",
              "      <td id=\"T_1b868_row3_col1\" class=\"data row3 col1\" >0.947823</td>\n",
              "      <td id=\"T_1b868_row3_col2\" class=\"data row3 col2\" >0.849736</td>\n",
              "      <td id=\"T_1b868_row3_col3\" class=\"data row3 col3\" >0.945194</td>\n",
              "      <td id=\"T_1b868_row3_col4\" class=\"data row3 col4\" >0.894926</td>\n",
              "      <td id=\"T_1b868_row3_col5\" class=\"data row3 col5\" >0.889032</td>\n",
              "    </tr>\n",
              "    <tr>\n",
              "      <th id=\"T_1b868_level0_row4\" class=\"row_heading level0 row4\" >4</th>\n",
              "      <td id=\"T_1b868_row4_col0\" class=\"data row4 col0\" >Logistic Regression</td>\n",
              "      <td id=\"T_1b868_row4_col1\" class=\"data row4 col1\" >0.880015</td>\n",
              "      <td id=\"T_1b868_row4_col2\" class=\"data row4 col2\" >0.761893</td>\n",
              "      <td id=\"T_1b868_row4_col3\" class=\"data row4 col3\" >0.870875</td>\n",
              "      <td id=\"T_1b868_row4_col4\" class=\"data row4 col4\" >0.812747</td>\n",
              "      <td id=\"T_1b868_row4_col5\" class=\"data row4 col5\" >0.799369</td>\n",
              "    </tr>\n",
              "  </tbody>\n",
              "</table>\n"
            ]
          },
          "metadata": {},
          "execution_count": 46
        }
      ],
      "source": [
        "pd.set_option('display.float_format', lambda x: '%2f' % x) # tabela com três casas decimais\n",
        "\n",
        "print('Resultados para conjunto de teste.')\n",
        "df_results = pd.DataFrame(data, columns = col_names) # transformando os resultados do teste em um data.frame\n",
        "\n",
        "# função para destacarmos os maiores valores em cada uma das métricas\n",
        "def highlight_max(s):\n",
        "    if s.dtype == object:  # Uso do tipo `object` diretamente\n",
        "        is_max = [False for _ in range(s.shape[0])]  # Declarando que quando o tipo de dado for objeto, não aplicaremos o highlight\n",
        "    else:\n",
        "        is_max = s == s.max()\n",
        "    return ['background: yellow' if cell else '' for cell in is_max]\n",
        "\n",
        "# Aplicar a função de destaque ao DataFrame\n",
        "df_results_styled = df_results.style.apply(highlight_max)\n",
        "df_results_styled"
      ]
    },
    {
      "cell_type": "markdown",
      "id": "4a249dbb-9c1a-4fa2-9010-a55994c2d548",
      "metadata": {
        "id": "4a249dbb-9c1a-4fa2-9010-a55994c2d548"
      },
      "source": [
        "### Boruta para seleção de preditores\n",
        "#### Encontrar um conjunto mínimo de preditores que mantenha o desempenho\n",
        "![image.png](attachment:97a7a2fc-9858-4930-8cea-f8239576592f.png)"
      ]
    },
    {
      "cell_type": "code",
      "execution_count": null,
      "id": "80da8963-a689-44a7-80e5-75e438782571",
      "metadata": {
        "id": "80da8963-a689-44a7-80e5-75e438782571"
      },
      "outputs": [],
      "source": [
        "!pip install boruta"
      ]
    },
    {
      "cell_type": "code",
      "execution_count": null,
      "id": "f8ab8253-3733-442c-b489-8aa34b3363f3",
      "metadata": {
        "id": "f8ab8253-3733-442c-b489-8aa34b3363f3"
      },
      "outputs": [],
      "source": [
        "from boruta import BorutaPy"
      ]
    },
    {
      "cell_type": "code",
      "execution_count": null,
      "id": "ce1c3371-cc99-4398-890f-9108fb21a491",
      "metadata": {
        "id": "ce1c3371-cc99-4398-890f-9108fb21a491"
      },
      "outputs": [],
      "source": [
        "# Configurando o Boruta (não roda para o algoritmo catboost)\n",
        "boruta_selector = BorutaPy(xgb, n_estimators='auto', random_state=42)\n",
        "\n",
        "# Aplicando o Boruta\n",
        "boruta_selector.fit(X_train.values,y_train)\n",
        "\n",
        "# Imprimindo os resultados\n",
        "selected_features = X_train.columns[boruta_selector.support_].to_list()\n",
        "tentative_features = X_train.columns[boruta_selector.support_weak_].to_list()\n",
        "remove_features = list(set(X_train.columns) - set(selected_features) - set(tentative_features))"
      ]
    },
    {
      "cell_type": "code",
      "execution_count": null,
      "id": "842107ee-1598-4129-a5bc-31bfaf6c7b92",
      "metadata": {
        "id": "842107ee-1598-4129-a5bc-31bfaf6c7b92"
      },
      "outputs": [],
      "source": [
        "print(\"Selected Features:\", selected_features)\n",
        "print(\"Tentative Features:\", tentative_features)\n",
        "print(\"To remove Features:\", remove_features)"
      ]
    },
    {
      "cell_type": "markdown",
      "id": "21fe8ade-34e7-46da-ad2f-c4eb618f9a0d",
      "metadata": {
        "id": "21fe8ade-34e7-46da-ad2f-c4eb618f9a0d"
      },
      "source": [
        "#### Incluir na lista de preditores somente as variáveis consideradas importantes para predição"
      ]
    },
    {
      "cell_type": "code",
      "execution_count": null,
      "id": "c05c2c39-d96f-49e9-bacb-c7348be210d3",
      "metadata": {
        "id": "c05c2c39-d96f-49e9-bacb-c7348be210d3"
      },
      "outputs": [],
      "source": [
        "# Modelo com Boruta - Selecionado as variáveis preditoras\n",
        "X_train_boruta = X_train[['Idade', 'IMC', 'Teste_6min', 'Ter_Palpitacoes', 'Tabagismo_Não_fumante']]\n",
        "\n",
        "X_test_boruta = X_test[['Idade', 'IMC', 'Teste_6min', 'Ter_Palpitacoes', 'Tabagismo_Não_fumante']]\n",
        "\n",
        "print('Shape sem boruta', X_train.shape, X_test.shape)\n",
        "print('Shape com boruta', X_train_boruta.shape, X_test_boruta.shape)"
      ]
    },
    {
      "cell_type": "markdown",
      "id": "bb773379-22d7-44de-9e37-b0128b52efe4",
      "metadata": {
        "id": "bb773379-22d7-44de-9e37-b0128b52efe4"
      },
      "source": [
        "#### Retreinar o melhor algoritmo com os preditores selecionados"
      ]
    },
    {
      "cell_type": "code",
      "execution_count": null,
      "id": "9686d3f8-6681-4704-a222-be1969571c63",
      "metadata": {
        "id": "9686d3f8-6681-4704-a222-be1969571c63"
      },
      "outputs": [],
      "source": [
        "# ajustando o modelo escolhido pelo GridSearchCV\n",
        "cat_boruta=CatBoostClassifier(**best_params_cat, eval_metric='Logloss', silent = True, random_state=42)\n",
        "cat_boruta.fit(X_train_boruta, y_train)\n",
        "\n",
        "# os valores preditos são obtidos na amostra de teste\n",
        "# o precict dará a classificação em uma categoria ou outra do desfecho\n",
        "# o predict_proba dará a probabilidade de ser classificado na categoria 1 do desfecho\n",
        "y_pred_cat_boruta = cat_boruta.predict(X_test_boruta)\n",
        "y_prob_cat_boruta = cat_boruta.predict_proba(X_test_boruta)[:, 1]\n",
        "\n",
        "# o calculo das métricas deve ser feito comparando o predito com o real (y_test)\n",
        "# a métrica AUC usa a predict_proba\n",
        "auc_cat_boruta = roc_auc_score(y_test, y_prob_cat_boruta)\n",
        "recall_cat_boruta = recall_score(y_test, y_pred_cat_boruta)\n",
        "precision_cat_boruta = precision_score(y_test, y_pred_cat_boruta)\n",
        "f1_cat_boruta = f1_score(y_test, y_pred_cat_boruta)\n",
        "\n",
        "print(f'Catboost pós-BORUTA - Recall:', round(recall_cat_boruta, 3))\n",
        "print(f'Catboost pós-BORUTA - Precision:', round(precision_cat_boruta, 3))\n",
        "print(f'Catboost pós-BORUTA - F1:', round(f1_cat_boruta, 3))\n",
        "print(f'Catboost pós-BORUTA - ROC AUC:', round(auc_cat_boruta, 3))"
      ]
    },
    {
      "cell_type": "markdown",
      "id": "3fb4a78f-272f-4106-8706-234249a8f85f",
      "metadata": {
        "id": "3fb4a78f-272f-4106-8706-234249a8f85f"
      },
      "source": [
        "### Curva ROC do melhor modelo\n",
        "![image.png](attachment:86042293-32ac-4e06-9031-d587dc2cf2a7.png)"
      ]
    },
    {
      "cell_type": "code",
      "execution_count": null,
      "id": "0d2d0cc2-79dc-49e4-a6c2-8b0b3f304776",
      "metadata": {
        "id": "0d2d0cc2-79dc-49e4-a6c2-8b0b3f304776"
      },
      "outputs": [],
      "source": [
        "from sklearn.metrics import roc_curve, auc\n",
        "\n",
        "# Fazer previsões probabilísticas nas amostras de teste\n",
        "y_pred_proba_boruta = cat_boruta.predict_proba(X_test_boruta)[:, 1]\n",
        "\n",
        "# Calcular a curva ROC\n",
        "fpr_, tpr_, thresholds_ = roc_curve(y_test, y_pred_proba_boruta)\n",
        "# Calcular a área sob a curva ROC (ROC AUC)\n",
        "roc_auc_ = auc(fpr_, tpr_)\n",
        "\n",
        "# Plotar a curva ROC\n",
        "plt.figure(figsize=(8, 6))\n",
        "plt.plot(fpr_, tpr_, color='darkorange', lw=1, label='ROC curve Catboost (AUC = %0.2f)' % roc_auc_)\n",
        "plt.plot([0, 1], [0, 1], color='navy', lw=1, linestyle='--')\n",
        "plt.xlim([0.0, 1.0])\n",
        "plt.ylim([0.0, 1.05])\n",
        "plt.xlabel('False Positive Rate')\n",
        "plt.ylabel('True Positive Rate')\n",
        "plt.title('Receiver Operating Characteristic (ROC)')\n",
        "plt.legend(loc=\"lower right\")\n",
        "plt.show()"
      ]
    },
    {
      "cell_type": "markdown",
      "id": "3e82ce22-d3f4-4b2e-af44-80bc595cc08a",
      "metadata": {
        "id": "3e82ce22-d3f4-4b2e-af44-80bc595cc08a"
      },
      "source": [
        "### SHAP (SHapley Additive exPlanations) para avaliar importância das variáveis"
      ]
    },
    {
      "cell_type": "code",
      "execution_count": null,
      "id": "a5ca9052-fa6c-429a-a1ce-351c5d9ba953",
      "metadata": {
        "id": "a5ca9052-fa6c-429a-a1ce-351c5d9ba953"
      },
      "outputs": [],
      "source": [
        "#!pip install shap"
      ]
    },
    {
      "cell_type": "code",
      "execution_count": null,
      "id": "c8bdfc7b-27ad-4092-85fb-1de9f68c9bb1",
      "metadata": {
        "id": "c8bdfc7b-27ad-4092-85fb-1de9f68c9bb1"
      },
      "outputs": [],
      "source": [
        "import shap"
      ]
    },
    {
      "cell_type": "code",
      "execution_count": null,
      "id": "ba02ef35-f8a5-401c-ad05-4819e0e03726",
      "metadata": {
        "id": "ba02ef35-f8a5-401c-ad05-4819e0e03726"
      },
      "outputs": [],
      "source": [
        "# resultados no teste\n",
        "shap_values_test = shap.TreeExplainer(cat_boruta).shap_values(X_test_boruta)\n",
        "shap.summary_plot(shap_values_test, X_test_boruta)"
      ]
    },
    {
      "cell_type": "code",
      "execution_count": null,
      "id": "a251d526-128f-4246-8844-de843d932d2d",
      "metadata": {
        "id": "a251d526-128f-4246-8844-de843d932d2d"
      },
      "outputs": [],
      "source": []
    }
  ],
  "metadata": {
    "colab": {
      "collapsed_sections": [
        "2237063d-025d-4980-999d-b1953e9fc1c0",
        "4d03ae2c-777f-444c-b1ee-35219f647edc",
        "52c5d483-e2bb-4d16-89f1-3b1f444c8c53",
        "53f38f0a-162b-4b25-b5fa-19692b05cb99",
        "3a3070ad-8ca0-4191-91f3-9c26e37cea78",
        "ff2b4d6e-b8d8-44d6-b039-3c53b6b4ae39",
        "eaf4c1ec-2b6d-4b42-b070-5fabffd01144"
      ],
      "provenance": []
    },
    "kernelspec": {
      "display_name": "Python 3 (ipykernel)",
      "language": "python",
      "name": "python3"
    },
    "language_info": {
      "codemirror_mode": {
        "name": "ipython",
        "version": 3
      },
      "file_extension": ".py",
      "mimetype": "text/x-python",
      "name": "python",
      "nbconvert_exporter": "python",
      "pygments_lexer": "ipython3",
      "version": "3.10.0"
    }
  },
  "nbformat": 4,
  "nbformat_minor": 5
}